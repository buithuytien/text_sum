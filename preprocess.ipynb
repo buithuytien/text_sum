{
 "cells": [
  {
   "cell_type": "code",
   "execution_count": 17,
   "id": "996b7e3e-58b6-424c-8f92-7a105245af3f",
   "metadata": {
    "collapsed": true,
    "jupyter": {
     "outputs_hidden": true
    },
    "tags": []
   },
   "outputs": [
    {
     "ename": "HTTPError",
     "evalue": "405 Client Error: Not Allowed for url: https://huggingface.co/api/models/bert-base-uncased",
     "output_type": "error",
     "traceback": [
      "\u001b[0;31m---------------------------------------------------------------------------\u001b[0m",
      "\u001b[0;31mHTTPError\u001b[0m                                 Traceback (most recent call last)",
      "\u001b[0;32m/tmp/ipykernel_31951/3216958278.py\u001b[0m in \u001b[0;36m<module>\u001b[0;34m\u001b[0m\n\u001b[1;32m      4\u001b[0m \u001b[0;32mimport\u001b[0m \u001b[0mdatasets\u001b[0m\u001b[0;34m\u001b[0m\u001b[0;34m\u001b[0m\u001b[0m\n\u001b[1;32m      5\u001b[0m \u001b[0;34m\u001b[0m\u001b[0m\n\u001b[0;32m----> 6\u001b[0;31m \u001b[0mtokenizer\u001b[0m \u001b[0;34m=\u001b[0m \u001b[0mBertTokenizer\u001b[0m\u001b[0;34m.\u001b[0m\u001b[0mfrom_pretrained\u001b[0m\u001b[0;34m(\u001b[0m\u001b[0;34m\"bert-base-uncased\"\u001b[0m\u001b[0;34m)\u001b[0m\u001b[0;34m\u001b[0m\u001b[0;34m\u001b[0m\u001b[0m\n\u001b[0m\u001b[1;32m      7\u001b[0m \u001b[0;31m# tokenizer.bos_token = tokenizer.cls_token\u001b[0m\u001b[0;34m\u001b[0m\u001b[0;34m\u001b[0m\u001b[0;34m\u001b[0m\u001b[0m\n\u001b[1;32m      8\u001b[0m \u001b[0;31m# tokenizer.eos_token = tokenizer.sep_token\u001b[0m\u001b[0;34m\u001b[0m\u001b[0;34m\u001b[0m\u001b[0;34m\u001b[0m\u001b[0m\n",
      "\u001b[0;32m~/.conda/envs/pytorch_env/lib/python3.7/site-packages/transformers/tokenization_utils_base.py\u001b[0m in \u001b[0;36mfrom_pretrained\u001b[0;34m(cls, pretrained_model_name_or_path, *init_inputs, **kwargs)\u001b[0m\n\u001b[1;32m   1653\u001b[0m                 \u001b[0mrevision\u001b[0m\u001b[0;34m=\u001b[0m\u001b[0mrevision\u001b[0m\u001b[0;34m,\u001b[0m\u001b[0;34m\u001b[0m\u001b[0;34m\u001b[0m\u001b[0m\n\u001b[1;32m   1654\u001b[0m                 \u001b[0muse_auth_token\u001b[0m\u001b[0;34m=\u001b[0m\u001b[0muse_auth_token\u001b[0m\u001b[0;34m,\u001b[0m\u001b[0;34m\u001b[0m\u001b[0;34m\u001b[0m\u001b[0m\n\u001b[0;32m-> 1655\u001b[0;31m                 \u001b[0mlocal_files_only\u001b[0m\u001b[0;34m=\u001b[0m\u001b[0mlocal_files_only\u001b[0m\u001b[0;34m,\u001b[0m\u001b[0;34m\u001b[0m\u001b[0;34m\u001b[0m\u001b[0m\n\u001b[0m\u001b[1;32m   1656\u001b[0m             )\n\u001b[1;32m   1657\u001b[0m             additional_files_names = {\n",
      "\u001b[0;32m~/.conda/envs/pytorch_env/lib/python3.7/site-packages/transformers/tokenization_utils_base.py\u001b[0m in \u001b[0;36mget_fast_tokenizer_file\u001b[0;34m(path_or_repo, revision, use_auth_token, local_files_only)\u001b[0m\n\u001b[1;32m   3461\u001b[0m     \u001b[0;31m# Inspect all files from the repo/folder.\u001b[0m\u001b[0;34m\u001b[0m\u001b[0;34m\u001b[0m\u001b[0;34m\u001b[0m\u001b[0m\n\u001b[1;32m   3462\u001b[0m     all_files = get_list_of_files(\n\u001b[0;32m-> 3463\u001b[0;31m         \u001b[0mpath_or_repo\u001b[0m\u001b[0;34m,\u001b[0m \u001b[0mrevision\u001b[0m\u001b[0;34m=\u001b[0m\u001b[0mrevision\u001b[0m\u001b[0;34m,\u001b[0m \u001b[0muse_auth_token\u001b[0m\u001b[0;34m=\u001b[0m\u001b[0muse_auth_token\u001b[0m\u001b[0;34m,\u001b[0m \u001b[0mlocal_files_only\u001b[0m\u001b[0;34m=\u001b[0m\u001b[0mlocal_files_only\u001b[0m\u001b[0;34m\u001b[0m\u001b[0;34m\u001b[0m\u001b[0m\n\u001b[0m\u001b[1;32m   3464\u001b[0m     )\n\u001b[1;32m   3465\u001b[0m     \u001b[0mtokenizer_files_map\u001b[0m \u001b[0;34m=\u001b[0m \u001b[0;34m{\u001b[0m\u001b[0;34m}\u001b[0m\u001b[0;34m\u001b[0m\u001b[0;34m\u001b[0m\u001b[0m\n",
      "\u001b[0;32m~/.conda/envs/pytorch_env/lib/python3.7/site-packages/transformers/file_utils.py\u001b[0m in \u001b[0;36mget_list_of_files\u001b[0;34m(path_or_repo, revision, use_auth_token, local_files_only)\u001b[0m\n\u001b[1;32m   1728\u001b[0m         \u001b[0mtoken\u001b[0m \u001b[0;34m=\u001b[0m \u001b[0;32mNone\u001b[0m\u001b[0;34m\u001b[0m\u001b[0;34m\u001b[0m\u001b[0m\n\u001b[1;32m   1729\u001b[0m     model_info = HfApi(endpoint=HUGGINGFACE_CO_RESOLVE_ENDPOINT).model_info(\n\u001b[0;32m-> 1730\u001b[0;31m         \u001b[0mpath_or_repo\u001b[0m\u001b[0;34m,\u001b[0m \u001b[0mrevision\u001b[0m\u001b[0;34m=\u001b[0m\u001b[0mrevision\u001b[0m\u001b[0;34m,\u001b[0m \u001b[0mtoken\u001b[0m\u001b[0;34m=\u001b[0m\u001b[0mtoken\u001b[0m\u001b[0;34m\u001b[0m\u001b[0;34m\u001b[0m\u001b[0m\n\u001b[0m\u001b[1;32m   1731\u001b[0m     )\n\u001b[1;32m   1732\u001b[0m     \u001b[0;32mreturn\u001b[0m \u001b[0;34m[\u001b[0m\u001b[0mf\u001b[0m\u001b[0;34m.\u001b[0m\u001b[0mrfilename\u001b[0m \u001b[0;32mfor\u001b[0m \u001b[0mf\u001b[0m \u001b[0;32min\u001b[0m \u001b[0mmodel_info\u001b[0m\u001b[0;34m.\u001b[0m\u001b[0msiblings\u001b[0m\u001b[0;34m]\u001b[0m\u001b[0;34m\u001b[0m\u001b[0;34m\u001b[0m\u001b[0m\n",
      "\u001b[0;32m~/.conda/envs/pytorch_env/lib/python3.7/site-packages/huggingface_hub/hf_api.py\u001b[0m in \u001b[0;36mmodel_info\u001b[0;34m(self, repo_id, revision, token, timeout)\u001b[0m\n\u001b[1;32m    584\u001b[0m         )\n\u001b[1;32m    585\u001b[0m         \u001b[0mr\u001b[0m \u001b[0;34m=\u001b[0m \u001b[0mrequests\u001b[0m\u001b[0;34m.\u001b[0m\u001b[0mget\u001b[0m\u001b[0;34m(\u001b[0m\u001b[0mpath\u001b[0m\u001b[0;34m,\u001b[0m \u001b[0mheaders\u001b[0m\u001b[0;34m=\u001b[0m\u001b[0mheaders\u001b[0m\u001b[0;34m,\u001b[0m \u001b[0mtimeout\u001b[0m\u001b[0;34m=\u001b[0m\u001b[0mtimeout\u001b[0m\u001b[0;34m)\u001b[0m\u001b[0;34m\u001b[0m\u001b[0;34m\u001b[0m\u001b[0m\n\u001b[0;32m--> 586\u001b[0;31m         \u001b[0mr\u001b[0m\u001b[0;34m.\u001b[0m\u001b[0mraise_for_status\u001b[0m\u001b[0;34m(\u001b[0m\u001b[0;34m)\u001b[0m\u001b[0;34m\u001b[0m\u001b[0;34m\u001b[0m\u001b[0m\n\u001b[0m\u001b[1;32m    587\u001b[0m         \u001b[0md\u001b[0m \u001b[0;34m=\u001b[0m \u001b[0mr\u001b[0m\u001b[0;34m.\u001b[0m\u001b[0mjson\u001b[0m\u001b[0;34m(\u001b[0m\u001b[0;34m)\u001b[0m\u001b[0;34m\u001b[0m\u001b[0;34m\u001b[0m\u001b[0m\n\u001b[1;32m    588\u001b[0m         \u001b[0;32mreturn\u001b[0m \u001b[0mModelInfo\u001b[0m\u001b[0;34m(\u001b[0m\u001b[0;34m**\u001b[0m\u001b[0md\u001b[0m\u001b[0;34m)\u001b[0m\u001b[0;34m\u001b[0m\u001b[0;34m\u001b[0m\u001b[0m\n",
      "\u001b[0;32m~/.conda/envs/pytorch_env/lib/python3.7/site-packages/requests/models.py\u001b[0m in \u001b[0;36mraise_for_status\u001b[0;34m(self)\u001b[0m\n\u001b[1;32m    958\u001b[0m \u001b[0;34m\u001b[0m\u001b[0m\n\u001b[1;32m    959\u001b[0m         \u001b[0;32mif\u001b[0m \u001b[0mhttp_error_msg\u001b[0m\u001b[0;34m:\u001b[0m\u001b[0;34m\u001b[0m\u001b[0;34m\u001b[0m\u001b[0m\n\u001b[0;32m--> 960\u001b[0;31m             \u001b[0;32mraise\u001b[0m \u001b[0mHTTPError\u001b[0m\u001b[0;34m(\u001b[0m\u001b[0mhttp_error_msg\u001b[0m\u001b[0;34m,\u001b[0m \u001b[0mresponse\u001b[0m\u001b[0;34m=\u001b[0m\u001b[0mself\u001b[0m\u001b[0;34m)\u001b[0m\u001b[0;34m\u001b[0m\u001b[0;34m\u001b[0m\u001b[0m\n\u001b[0m\u001b[1;32m    961\u001b[0m \u001b[0;34m\u001b[0m\u001b[0m\n\u001b[1;32m    962\u001b[0m     \u001b[0;32mdef\u001b[0m \u001b[0mclose\u001b[0m\u001b[0;34m(\u001b[0m\u001b[0mself\u001b[0m\u001b[0;34m)\u001b[0m\u001b[0;34m:\u001b[0m\u001b[0;34m\u001b[0m\u001b[0;34m\u001b[0m\u001b[0m\n",
      "\u001b[0;31mHTTPError\u001b[0m: 405 Client Error: Not Allowed for url: https://huggingface.co/api/models/bert-base-uncased"
     ]
    }
   ],
   "source": [
    "import os\n",
    "os.environ['TRANSFORMERS_OFFLINE'] = 'yes'\n",
    "from transformers import BertTokenizer\n",
    "import datasets\n",
    "\n",
    "tokenizer = BertTokenizer.from_pretrained(\"bert-base-uncased\")\n",
    "# tokenizer.bos_token = tokenizer.cls_token\n",
    "# tokenizer.eos_token = tokenizer.sep_token\n",
    "\n",
    "train_data = datasets.load_dataset(\"ccdv/cnn_dailymail\", split = 'train') #datasets.load_dataset(\"cnn_dailymail\", \"3.0.0\", split=\"train\")\n",
    "val_data = datasets.load_dataset(\"ccdv/cnn_dailymail\", split = \"validation[:10%]\")  # datasets.load_dataset(\"cnn_dailymail\", \"3.0.0\", split=\"validation[:10%]\")"
   ]
  },
  {
   "cell_type": "code",
   "execution_count": 16,
   "id": "e3bd9a37-ea20-4f31-abdc-439d7f95f8f4",
   "metadata": {
    "collapsed": true,
    "jupyter": {
     "outputs_hidden": true
    },
    "tags": []
   },
   "outputs": [
    {
     "ename": "HTTPError",
     "evalue": "405 Client Error: Not Allowed for url: https://huggingface.co/api/datasets/ccdv/cnn_dailymail?full=true",
     "output_type": "error",
     "traceback": [
      "\u001b[0;31m---------------------------------------------------------------------------\u001b[0m",
      "\u001b[0;31mHTTPError\u001b[0m                                 Traceback (most recent call last)",
      "\u001b[0;32m/tmp/ipykernel_31951/2452587140.py\u001b[0m in \u001b[0;36m<module>\u001b[0;34m\u001b[0m\n\u001b[0;32m----> 1\u001b[0;31m \u001b[0mtrain_data\u001b[0m \u001b[0;34m=\u001b[0m \u001b[0mdatasets\u001b[0m\u001b[0;34m.\u001b[0m\u001b[0mload_dataset\u001b[0m\u001b[0;34m(\u001b[0m\u001b[0;34m\"ccdv/cnn_dailymail\"\u001b[0m\u001b[0;34m,\u001b[0m \u001b[0msplit\u001b[0m \u001b[0;34m=\u001b[0m \u001b[0;34m'train'\u001b[0m\u001b[0;34m)\u001b[0m \u001b[0;31m#datasets.load_dataset(\"cnn_dailymail\", \"3.0.0\", split=\"train\")\u001b[0m\u001b[0;34m\u001b[0m\u001b[0;34m\u001b[0m\u001b[0m\n\u001b[0m",
      "\u001b[0;32m~/.conda/envs/pytorch_env/lib/python3.7/site-packages/datasets/load.py\u001b[0m in \u001b[0;36mload_dataset\u001b[0;34m(path, name, data_dir, data_files, split, cache_dir, features, download_config, download_mode, ignore_verifications, keep_in_memory, save_infos, revision, use_auth_token, task, streaming, script_version, **config_kwargs)\u001b[0m\n\u001b[1;32m   1684\u001b[0m         \u001b[0mrevision\u001b[0m\u001b[0;34m=\u001b[0m\u001b[0mrevision\u001b[0m\u001b[0;34m,\u001b[0m\u001b[0;34m\u001b[0m\u001b[0;34m\u001b[0m\u001b[0m\n\u001b[1;32m   1685\u001b[0m         \u001b[0muse_auth_token\u001b[0m\u001b[0;34m=\u001b[0m\u001b[0muse_auth_token\u001b[0m\u001b[0;34m,\u001b[0m\u001b[0;34m\u001b[0m\u001b[0;34m\u001b[0m\u001b[0m\n\u001b[0;32m-> 1686\u001b[0;31m         \u001b[0;34m**\u001b[0m\u001b[0mconfig_kwargs\u001b[0m\u001b[0;34m,\u001b[0m\u001b[0;34m\u001b[0m\u001b[0;34m\u001b[0m\u001b[0m\n\u001b[0m\u001b[1;32m   1687\u001b[0m     )\n\u001b[1;32m   1688\u001b[0m \u001b[0;34m\u001b[0m\u001b[0m\n",
      "\u001b[0;32m~/.conda/envs/pytorch_env/lib/python3.7/site-packages/datasets/load.py\u001b[0m in \u001b[0;36mload_dataset_builder\u001b[0;34m(path, name, data_dir, data_files, cache_dir, features, download_config, download_mode, revision, use_auth_token, script_version, **config_kwargs)\u001b[0m\n\u001b[1;32m   1511\u001b[0m         \u001b[0mdownload_config\u001b[0m\u001b[0;34m.\u001b[0m\u001b[0muse_auth_token\u001b[0m \u001b[0;34m=\u001b[0m \u001b[0muse_auth_token\u001b[0m\u001b[0;34m\u001b[0m\u001b[0;34m\u001b[0m\u001b[0m\n\u001b[1;32m   1512\u001b[0m     dataset_module = dataset_module_factory(\n\u001b[0;32m-> 1513\u001b[0;31m         \u001b[0mpath\u001b[0m\u001b[0;34m,\u001b[0m \u001b[0mrevision\u001b[0m\u001b[0;34m=\u001b[0m\u001b[0mrevision\u001b[0m\u001b[0;34m,\u001b[0m \u001b[0mdownload_config\u001b[0m\u001b[0;34m=\u001b[0m\u001b[0mdownload_config\u001b[0m\u001b[0;34m,\u001b[0m \u001b[0mdownload_mode\u001b[0m\u001b[0;34m=\u001b[0m\u001b[0mdownload_mode\u001b[0m\u001b[0;34m,\u001b[0m \u001b[0mdata_files\u001b[0m\u001b[0;34m=\u001b[0m\u001b[0mdata_files\u001b[0m\u001b[0;34m\u001b[0m\u001b[0;34m\u001b[0m\u001b[0m\n\u001b[0m\u001b[1;32m   1514\u001b[0m     )\n\u001b[1;32m   1515\u001b[0m \u001b[0;34m\u001b[0m\u001b[0m\n",
      "\u001b[0;32m~/.conda/envs/pytorch_env/lib/python3.7/site-packages/datasets/load.py\u001b[0m in \u001b[0;36mdataset_module_factory\u001b[0;34m(path, revision, download_config, download_mode, force_local_path, dynamic_modules_path, data_files, **download_kwargs)\u001b[0m\n\u001b[1;32m   1201\u001b[0m                         \u001b[0;34mf\"Couldn't find '{path}' on the Hugging Face Hub either: {type(e1).__name__}: {e1}\"\u001b[0m\u001b[0;34m\u001b[0m\u001b[0;34m\u001b[0m\u001b[0m\n\u001b[1;32m   1202\u001b[0m                     ) from None\n\u001b[0;32m-> 1203\u001b[0;31m                 \u001b[0;32mraise\u001b[0m \u001b[0me1\u001b[0m \u001b[0;32mfrom\u001b[0m \u001b[0;32mNone\u001b[0m\u001b[0;34m\u001b[0m\u001b[0;34m\u001b[0m\u001b[0m\n\u001b[0m\u001b[1;32m   1204\u001b[0m     \u001b[0;32melse\u001b[0m\u001b[0;34m:\u001b[0m\u001b[0;34m\u001b[0m\u001b[0;34m\u001b[0m\u001b[0m\n\u001b[1;32m   1205\u001b[0m         raise FileNotFoundError(\n",
      "\u001b[0;32m~/.conda/envs/pytorch_env/lib/python3.7/site-packages/datasets/load.py\u001b[0m in \u001b[0;36mdataset_module_factory\u001b[0;34m(path, revision, download_config, download_mode, force_local_path, dynamic_modules_path, data_files, **download_kwargs)\u001b[0m\n\u001b[1;32m   1173\u001b[0m                         \u001b[0;32mraise\u001b[0m \u001b[0mFileNotFoundError\u001b[0m\u001b[0;34m(\u001b[0m\u001b[0mmsg\u001b[0m \u001b[0;34m+\u001b[0m \u001b[0;34mf\" at revision '{revision}'\"\u001b[0m \u001b[0;32mif\u001b[0m \u001b[0mrevision\u001b[0m \u001b[0;32melse\u001b[0m \u001b[0mmsg\u001b[0m\u001b[0;34m)\u001b[0m\u001b[0;34m\u001b[0m\u001b[0;34m\u001b[0m\u001b[0m\n\u001b[1;32m   1174\u001b[0m                     \u001b[0;32melse\u001b[0m\u001b[0;34m:\u001b[0m\u001b[0;34m\u001b[0m\u001b[0;34m\u001b[0m\u001b[0m\n\u001b[0;32m-> 1175\u001b[0;31m                         \u001b[0;32mraise\u001b[0m \u001b[0me\u001b[0m\u001b[0;34m\u001b[0m\u001b[0;34m\u001b[0m\u001b[0m\n\u001b[0m\u001b[1;32m   1176\u001b[0m                 \u001b[0;32mif\u001b[0m \u001b[0mfilename\u001b[0m \u001b[0;32min\u001b[0m \u001b[0;34m[\u001b[0m\u001b[0msibling\u001b[0m\u001b[0;34m.\u001b[0m\u001b[0mrfilename\u001b[0m \u001b[0;32mfor\u001b[0m \u001b[0msibling\u001b[0m \u001b[0;32min\u001b[0m \u001b[0mdataset_info\u001b[0m\u001b[0;34m.\u001b[0m\u001b[0msiblings\u001b[0m\u001b[0;34m]\u001b[0m\u001b[0;34m:\u001b[0m\u001b[0;34m\u001b[0m\u001b[0;34m\u001b[0m\u001b[0m\n\u001b[1;32m   1177\u001b[0m                     return CommunityDatasetModuleFactoryWithScript(\n",
      "\u001b[0;32m~/.conda/envs/pytorch_env/lib/python3.7/site-packages/datasets/load.py\u001b[0m in \u001b[0;36mdataset_module_factory\u001b[0;34m(path, revision, download_config, download_mode, force_local_path, dynamic_modules_path, data_files, **download_kwargs)\u001b[0m\n\u001b[1;32m   1157\u001b[0m                         \u001b[0mrevision\u001b[0m\u001b[0;34m=\u001b[0m\u001b[0mrevision\u001b[0m\u001b[0;34m,\u001b[0m\u001b[0;34m\u001b[0m\u001b[0;34m\u001b[0m\u001b[0m\n\u001b[1;32m   1158\u001b[0m                         \u001b[0mtoken\u001b[0m\u001b[0;34m=\u001b[0m\u001b[0mtoken\u001b[0m\u001b[0;34m,\u001b[0m\u001b[0;34m\u001b[0m\u001b[0;34m\u001b[0m\u001b[0m\n\u001b[0;32m-> 1159\u001b[0;31m                         \u001b[0mtimeout\u001b[0m\u001b[0;34m=\u001b[0m\u001b[0;36m100.0\u001b[0m\u001b[0;34m,\u001b[0m\u001b[0;34m\u001b[0m\u001b[0;34m\u001b[0m\u001b[0m\n\u001b[0m\u001b[1;32m   1160\u001b[0m                     )\n\u001b[1;32m   1161\u001b[0m                 \u001b[0;32mexcept\u001b[0m \u001b[0mException\u001b[0m \u001b[0;32mas\u001b[0m \u001b[0me\u001b[0m\u001b[0;34m:\u001b[0m  \u001b[0;31m# noqa: catch any exception of hf_hub and consider that the dataset doesn't exist\u001b[0m\u001b[0;34m\u001b[0m\u001b[0;34m\u001b[0m\u001b[0m\n",
      "\u001b[0;32m~/.conda/envs/pytorch_env/lib/python3.7/site-packages/huggingface_hub/hf_api.py\u001b[0m in \u001b[0;36mdataset_info\u001b[0;34m(self, repo_id, revision, token, timeout)\u001b[0m\n\u001b[1;32m    667\u001b[0m         \u001b[0mparams\u001b[0m \u001b[0;34m=\u001b[0m \u001b[0;34m{\u001b[0m\u001b[0;34m\"full\"\u001b[0m\u001b[0;34m:\u001b[0m \u001b[0;34m\"true\"\u001b[0m\u001b[0;34m}\u001b[0m\u001b[0;34m\u001b[0m\u001b[0;34m\u001b[0m\u001b[0m\n\u001b[1;32m    668\u001b[0m         \u001b[0mr\u001b[0m \u001b[0;34m=\u001b[0m \u001b[0mrequests\u001b[0m\u001b[0;34m.\u001b[0m\u001b[0mget\u001b[0m\u001b[0;34m(\u001b[0m\u001b[0mpath\u001b[0m\u001b[0;34m,\u001b[0m \u001b[0mheaders\u001b[0m\u001b[0;34m=\u001b[0m\u001b[0mheaders\u001b[0m\u001b[0;34m,\u001b[0m \u001b[0mparams\u001b[0m\u001b[0;34m=\u001b[0m\u001b[0mparams\u001b[0m\u001b[0;34m,\u001b[0m \u001b[0mtimeout\u001b[0m\u001b[0;34m=\u001b[0m\u001b[0mtimeout\u001b[0m\u001b[0;34m)\u001b[0m\u001b[0;34m\u001b[0m\u001b[0;34m\u001b[0m\u001b[0m\n\u001b[0;32m--> 669\u001b[0;31m         \u001b[0mr\u001b[0m\u001b[0;34m.\u001b[0m\u001b[0mraise_for_status\u001b[0m\u001b[0;34m(\u001b[0m\u001b[0;34m)\u001b[0m\u001b[0;34m\u001b[0m\u001b[0;34m\u001b[0m\u001b[0m\n\u001b[0m\u001b[1;32m    670\u001b[0m         \u001b[0md\u001b[0m \u001b[0;34m=\u001b[0m \u001b[0mr\u001b[0m\u001b[0;34m.\u001b[0m\u001b[0mjson\u001b[0m\u001b[0;34m(\u001b[0m\u001b[0;34m)\u001b[0m\u001b[0;34m\u001b[0m\u001b[0;34m\u001b[0m\u001b[0m\n\u001b[1;32m    671\u001b[0m         \u001b[0;32mreturn\u001b[0m \u001b[0mDatasetInfo\u001b[0m\u001b[0;34m(\u001b[0m\u001b[0;34m**\u001b[0m\u001b[0md\u001b[0m\u001b[0;34m)\u001b[0m\u001b[0;34m\u001b[0m\u001b[0;34m\u001b[0m\u001b[0m\n",
      "\u001b[0;32m~/.conda/envs/pytorch_env/lib/python3.7/site-packages/requests/models.py\u001b[0m in \u001b[0;36mraise_for_status\u001b[0;34m(self)\u001b[0m\n\u001b[1;32m    958\u001b[0m \u001b[0;34m\u001b[0m\u001b[0m\n\u001b[1;32m    959\u001b[0m         \u001b[0;32mif\u001b[0m \u001b[0mhttp_error_msg\u001b[0m\u001b[0;34m:\u001b[0m\u001b[0;34m\u001b[0m\u001b[0;34m\u001b[0m\u001b[0m\n\u001b[0;32m--> 960\u001b[0;31m             \u001b[0;32mraise\u001b[0m \u001b[0mHTTPError\u001b[0m\u001b[0;34m(\u001b[0m\u001b[0mhttp_error_msg\u001b[0m\u001b[0;34m,\u001b[0m \u001b[0mresponse\u001b[0m\u001b[0;34m=\u001b[0m\u001b[0mself\u001b[0m\u001b[0;34m)\u001b[0m\u001b[0;34m\u001b[0m\u001b[0;34m\u001b[0m\u001b[0m\n\u001b[0m\u001b[1;32m    961\u001b[0m \u001b[0;34m\u001b[0m\u001b[0m\n\u001b[1;32m    962\u001b[0m     \u001b[0;32mdef\u001b[0m \u001b[0mclose\u001b[0m\u001b[0;34m(\u001b[0m\u001b[0mself\u001b[0m\u001b[0;34m)\u001b[0m\u001b[0;34m:\u001b[0m\u001b[0;34m\u001b[0m\u001b[0;34m\u001b[0m\u001b[0m\n",
      "\u001b[0;31mHTTPError\u001b[0m: 405 Client Error: Not Allowed for url: https://huggingface.co/api/datasets/ccdv/cnn_dailymail?full=true"
     ]
    }
   ],
   "source": [
    "train_data = datasets.load_dataset(\"ccdv/cnn_dailymail\", split = 'train') #datasets.load_dataset(\"cnn_dailymail\", \"3.0.0\", split=\"train\")\n"
   ]
  },
  {
   "cell_type": "code",
   "execution_count": 8,
   "id": "fcfe5124-4050-4c34-98e2-d2b9ba47d642",
   "metadata": {},
   "outputs": [],
   "source": [
    "import torch\n",
    "from torch.utils.data import Dataset, DataLoader, SequentialSampler\n",
    "import pandas as pd\n",
    "import numpy as np\n",
    "import h5py \n",
    "import pickle\n",
    "import os\n",
    "from tqdm import tqdm"
   ]
  },
  {
   "cell_type": "code",
   "execution_count": 9,
   "id": "4e398a1b-34ec-48b8-ab49-fe22a4508f1e",
   "metadata": {},
   "outputs": [
    {
     "name": "stdout",
     "output_type": "stream",
     "text": [
      "/home/bui.thuy/text_sum\n"
     ]
    }
   ],
   "source": [
    "!pwd\n",
    "work_dir = '~/text_sum/'\n",
    "data_folder = 'preprocessed/bert_data_cnndm_final/'\n",
    "\n",
    "aa = torch.load(data_folder + 'cnndm.train.80.bert.pt')"
   ]
  },
  {
   "cell_type": "code",
   "execution_count": 6,
   "id": "6a270714-3f3d-4acc-8147-e7a2ee343b7c",
   "metadata": {
    "collapsed": true,
    "jupyter": {
     "outputs_hidden": true
    },
    "tags": []
   },
   "outputs": [
    {
     "name": "stdout",
     "output_type": "stream",
     "text": [
      "<class 'list'>\n",
      "dict_keys(['src', 'tgt', 'src_sent_labels', 'segs', 'clss', 'src_txt', 'tgt_txt'])\n",
      "[101, 2260, 29627, 12521, 9765, 1010, 2382, 2258, 2286, 102, 101, 5718, 29627, 2692, 2620, 9765, 1010, 1015, 2089, 2286, 102, 101, 1037, 10563, 2038, 2649, 1996, 17082, 2617, 2014, 2227, 2001, 9157, 4237, 2011, 1037, 3899, 1010, 2975, 2014, 2007, 4568, 6441, 1012, 102, 101, 9318, 5232, 1010, 2385, 1010, 2001, 5873, 1037, 2767, 1005, 2015, 2160, 1999, 8233, 1010, 18285, 1010, 2043, 2016, 2001, 4457, 2011, 1996, 4111, 1011, 1037, 2887, 17712, 6590, 4625, 2007, 1037, 18672, 2102, 22384, 1012, 102, 101, 2016, 2056, 1024, 1036, 2043, 2057, 2288, 2000, 1996, 2160, 102, 101, 1045, 2938, 2006, 2028, 1997, 1996, 8397, 1999, 1996, 2542, 2282, 2021, 2026, 2767, 1998, 2014, 102, 101, 13055, 2409, 2033, 2000, 2693, 2138, 2008, 2001, 1996, 3899, 1005, 2015, 3242, 1012, 102, 101, 13925, 1024, 1996, 17082, 2886, 2187, 2385, 29624, 29100, 29624, 11614, 9318, 5232, 2007, 7570, 14343, 15482, 2271, 13268, 6441, 102, 101, 1036, 1996, 3899, 2318, 17033, 2026, 2227, 1010, 1998, 2009, 2081, 2033, 2514, 8796, 2061, 1045, 2699, 2000, 2693, 2185, 1010, 2021, 2004, 1045, 2333, 2009, 4457, 1012, 102, 101, 1036, 1996, 2279, 2518, 1045, 2354, 1045, 2001, 2648, 102, 101, 1996, 2160, 2007, 2668, 12670, 12053, 2013, 2026, 2227, 1012, 102, 101, 2026, 4451, 1998, 5423, 2020, 5689, 102, 101, 2125, 1998, 1045, 2071, 6684, 2156, 1012, 1005, 102, 101, 9318, 2001, 6760, 2000, 2902, 1998, 2038, 17215, 2048, 3136, 1998, 3223, 2062, 2084, 2531, 25343, 2000, 7192, 2014, 6441, 1012, 102, 101, 1996, 3899, 4457, 2014, 2061, 13925, 2135, 2014, 7697, 23245, 2001, 7950, 2041, 1010, 2014, 5048, 14417, 2001, 21726, 1010, 102, 101, 2014, 4451, 9157, 2041, 1997, 2173, 1998, 2014, 2970, 7950, 2000, 14021, 5596, 2015, 1012, 102, 101, 9318, 2794, 1024, 1036, 2026, 5048, 14417, 2097, 2467, 2022, 21726, 1011, 2027, 6187, 1050, 29618, 2102, 8081, 2008, 4983, 1045, 2031, 2350, 5970, 1012, 102, 101, 1036, 2138, 2026, 7697, 23245, 2015, 2020, 9157, 102, 101, 2041, 1045, 2031, 2000, 2031, 1037, 3221, 7270, 2503, 2026, 3239, 2008, 17736, 2026, 4000, 1012, 102, 101, 7435, 2018, 2000, 7367, 2860, 2026, 4451, 2067, 2006, 1998, 7367, 2860, 2026, 2970, 2067, 2362, 1010, 1998, 102, 101, 1045, 1005, 3726, 2288, 1037, 2428, 2784, 11228, 2006, 2026, 2227, 1012, 102, 101, 2009, 2145, 2038, 1050, 29618, 2102, 15027, 1010, 2324, 102, 101, 9318, 1998, 2014, 3008, 11925, 1996, 102, 101, 2610, 1010, 2021, 2020, 7135, 2000, 7523, 2053, 2895, 2071, 2022, 2579, 2114, 102, 101, 1996, 5608, 1997, 1996, 3899, 2138, 1996, 5043, 3047, 2006, 2797, 3200, 1012, 102, 101, 2009, 2003, 5319, 1996, 3899, 2001, 2404, 2091, 2206, 1996, 102, 101, 9318, 2003, 2085, 14328, 1996, 2231, 2000, 2175, 3805, 2007, 3488, 2005, 1037, 2689, 1999, 1996, 2375, 1012, 102, 101, 2197, 3204, 1010, 2403, 29624, 29100, 29624, 11614, 12323, 8840, 9335, 29624, 12243, 3385, 2001, 5003, 18696, 2000, 2331, 2011, 1037, 5308, 1997, 6077, 2012, 1037, 2160, 1999, 2012, 27949, 1010, 3618, 5087, 1012, 102, 101, 2145, 13400, 1024, 9318, 5232, 2758, 2016, 2145, 5683, 6091, 2055, 2183, 2041, 1999, 2270, 2206, 1996, 23512, 2886, 102, 101, 1996, 3899, 2001, 1037, 2892, 29624, 13578, 2098, 2090, 1037, 2887, 17712, 6590, 1010, 15885, 1010, 1998, 1037, 18672, 2102, 22384, 102, 101, 1996, 3899, 1010, 1037, 2892, 2090, 1037, 18672, 2102, 22384, 1010, 15885, 1010, 1998, 2887, 17712, 6590, 2001, 2404, 2091, 2044, 1996, 2886, 102, 101, 3618, 5087, 2610, 1010, 2040, 2024, 11538, 12323, 1005, 2015, 2331, 1010, 2031, 2056, 2009, 2003, 1036, 9832, 1005, 3087, 2097, 2022, 21651, 2058, 12323, 1005, 2015, 2331, 1012, 102, 101, 2027, 2024, 4039, 2000, 2202, 2895, 2138, 1996, 6077, 2920, 2020, 2025, 7917, 15910, 1998, 2104, 2783, 4277, 3899, 5608, 2064, 2025, 2022, 21651, 2065, 4491, 2202, 2173, 2006, 2797, 3200, 1012, 102, 101, 2021, 12323, 1005, 2015, 2155, 2031, 3390, 2019, 1041, 29624, 22327, 22753, 4214, 2005, 1037, 2689, 2000, 1996, 2375, 1998, 2014, 2331, 2038, 9469, 12616, 2000, 2655, 2005, 13661, 5290, 1997, 3899, 2491, 4277, 1012, 102, 101, 1999, 2337, 1010, 1996, 2231, 2623, 2009, 2052, 27950, 6094, 2061, 3899, 5608, 2071, 2022, 21651, 2065, 2037, 4111, 4491, 2619, 2006, 2797, 3200, 1012, 102, 101, 7763, 2706, 2044, 1996, 2886, 1010, 9318, 2758, 2016, 2038, 2042, 2187, 2061, 12603, 7315, 2098, 2016, 2003, 6015, 2000, 2175, 2041, 1999, 2270, 1998, 7887, 5683, 2066, 2016, 1005, 2015, 2108, 13224, 1012, 102, 101, 4854, 1024, 9318, 2038, 5287, 2041, 2004, 1996, 2231, 2003, 2667, 2000, 3413, 2047, 4277, 4953, 3899, 4491, 102, 101, 2016, 2056, 1024, 1036, 2009, 1005, 2015, 5360, 2033, 1999, 2061, 2116, 3971, 1012, 102, 101, 1045, 1005, 3726, 2468, 11480, 2105, 6077, 1010, 3899, 10205, 1998, 2111, 1045, 2079, 1050, 29618, 2102, 2113, 1012, 102, 101, 1036, 2130, 3788, 1999, 2270, 2007, 2053, 5789, 2006, 2003, 1037, 9694, 4708, 1010, 1045, 6187, 1050, 29618, 2102, 3288, 2870, 2000, 2079, 2009, 1012, 1005, 102, 101, 1045, 14436, 5777, 2012, 2305, 1999, 3571, 1997, 2383, 15446, 1012, 1005, 102, 101, 1045, 2424, 2009, 3697, 2000, 2031, 6550, 2138, 1045, 2228, 1996, 5377, 14764, 2015, 1998, 27824, 1045, 2175, 1999, 2058, 1996, 20014, 7946, 3512, 4301, 2097, 6033, 2068, 1012, 102, 101, 1036, 2026, 2214, 2767, 1998, 2014, 2155, 2031, 11248, 2033, 1998, 2056, 2009, 1005, 2015, 2026, 2219, 6346, 2138, 1045, 2001, 2409, 2009, 2001, 1996, 3899, 1005, 2015, 3242, 1010, 2021, 2009, 2001, 1037, 10682, 1010, 1045, 2106, 1050, 29618, 2102, 2156, 2505, 3308, 1999, 3564, 2091, 1012, 102, 101, 1036, 1996, 2155, 2031, 2025, 3491, 2151, 23124, 1011, 1045, 2145, 2156, 2068, 2379, 2026, 2188, 1998, 2027, 2552, 2066, 2498, 2038, 3047, 1012, 102, 101, 1036, 2008, 1005, 2015, 2339, 1996, 2231, 3791, 2000, 4287, 2006, 2667, 2000, 2689, 1996, 2375, 2006, 2023, 1012, 1005, 102, 101, 1045, 3929, 2490, 2009, 1010, 1998, 4209, 2060, 2111, 2228, 2027, 2323, 2022, 21651, 2038, 2445, 2033, 1996, 7023, 2000, 3713, 2041, 1012, 102, 101, 1036, 2009, 1005, 1031, 1055, 6230, 2205, 2411, 2085, 1010, 1998, 1996, 2886, 2006, 2033, 1998, 2060, 4491, 2006, 2402, 3057, 1999, 1996, 2739, 2265, 2009, 2064, 4148, 2000, 2111, 1997, 2151, 2287, 1012, 1005, 102, 101, 1045, 2097, 2954, 2127, 1996, 2154, 1045, 3280, 2005, 3425, 2005, 2111, 1999, 1996, 2168, 4049, 2004, 2033, 1012, 1005, 102]\n"
     ]
    }
   ],
   "source": [
    "# print(aa)\n",
    "print(type(aa))\n",
    "print(aa[0].keys())\n",
    "print(aa[0]['src'])"
   ]
  },
  {
   "cell_type": "code",
   "execution_count": 12,
   "id": "213d214f-cb24-4dcf-87cb-fa39d0215253",
   "metadata": {},
   "outputs": [
    {
     "name": "stdout",
     "output_type": "stream",
     "text": [
      "['preprocessed/bert_data_cnndm_final/cnndm.test.0.bert.pt', 'preprocessed/bert_data_cnndm_final/cnndm.test.5.bert.pt', 'preprocessed/bert_data_cnndm_final/cnndm.test.1.bert.pt', 'preprocessed/bert_data_cnndm_final/cnndm.test.3.bert.pt', 'preprocessed/bert_data_cnndm_final/cnndm.test.2.bert.pt', 'preprocessed/bert_data_cnndm_final/cnndm.test.4.bert.pt']\n",
      "144\n",
      "['preprocessed/bert_data_cnndm_final/cnndm.valid.0.bert.pt', 'preprocessed/bert_data_cnndm_final/cnndm.valid.3.bert.pt', 'preprocessed/bert_data_cnndm_final/cnndm.valid.5.bert.pt', 'preprocessed/bert_data_cnndm_final/cnndm.valid.4.bert.pt', 'preprocessed/bert_data_cnndm_final/cnndm.valid.6.bert.pt', 'preprocessed/bert_data_cnndm_final/cnndm.valid.2.bert.pt', 'preprocessed/bert_data_cnndm_final/cnndm.valid.1.bert.pt']\n"
     ]
    }
   ],
   "source": [
    "import glob\n",
    "\n",
    "# get all train pt files\n",
    "train_data_files = glob.glob(data_folder + '*train*.pt')\n",
    "test_data_files = glob.glob(data_folder + '*test*.pt')\n",
    "valid_data_files = glob.glob(data_folder + '*valid*.pt')\n",
    "\n",
    "print(test_data_files)\n",
    "print(len(train_data_files))\n",
    "print(valid_data_files)\n",
    "# merge all pt file into 1 list"
   ]
  },
  {
   "cell_type": "code",
   "execution_count": 19,
   "id": "e96f9e24-3956-4c24-b076-6edc1acc1155",
   "metadata": {},
   "outputs": [],
   "source": [
    "max_words_per_sample = 512\n",
    "\n",
    "def merge_pt(pt_files, field, max_words_per_sample = 512):\n",
    "    out_arr = None # numpy array\n",
    "\n",
    "    # max_words_per_sample = 0\n",
    "    n_samples = 0\n",
    "    for fname in pt_files:\n",
    "        # print('processing ', fn)\n",
    "        temp_pt = torch.load(fname)\n",
    "        n_samples += len(temp_pt)\n",
    "        # for pt in temp_pt:\n",
    "        #     max_words_per_sample = max(max_words_per_sample, len(pt[field]))\n",
    "        #     n_samples += 1\n",
    "    print(n_samples)\n",
    "\n",
    "    out_arr = -np.ones(shape = (n_samples, max_words_per_sample), dtype= np.int_)\n",
    "    i = 0\n",
    "    for fname in pt_files:\n",
    "        temp_pt = torch.load(fname)\n",
    "        for pt in temp_pt:\n",
    "            if (len(pt[field]) < max_words_per_sample):\n",
    "                out_arr[i, 0:len(pt[field])] = pt[field]\n",
    "            else:\n",
    "                out_arr[i, :] = pt[field][:max_words_per_sample]    \n",
    "            i+=1\n",
    "    return out_arr\n",
    "\n",
    "\n",
    "# def merge_text_pt(pt_files, field):\n",
    "#   # field = 'src_txt' or 'tgt_txt'\n",
    "  \n",
    "#   out_list = []\n",
    "#   for fn in pt_files:\n",
    "#     print('processing ', fn)\n",
    "#     temp_pt = torch.load(fn)\n",
    "#     for pt in temp_pt:\n",
    "#       out_list.append(pt[field])\n",
    "#   return out_list\n",
    "\n",
    "# merged_src_test = merge_pt(test_data_files, 'src')\n",
    "# print(merged_src_test)\n",
    "  \n"
   ]
  },
  {
   "cell_type": "code",
   "execution_count": 24,
   "id": "9639013f-9db6-44ae-bed3-75c9e7c22023",
   "metadata": {},
   "outputs": [
    {
     "name": "stdout",
     "output_type": "stream",
     "text": [
      "435\n"
     ]
    }
   ],
   "source": [
    "valid_dataset1 = torch.load(train_data_files[0])\n",
    "valid_data1 = valid_dataset1[0]\n",
    "print(len(valid_data1['src']))"
   ]
  },
  {
   "cell_type": "code",
   "execution_count": 26,
   "id": "3cff6951-56af-4419-9762-04a7423b15ac",
   "metadata": {},
   "outputs": [
    {
     "name": "stdout",
     "output_type": "stream",
     "text": [
      "287083\n",
      "(287083, 512)\n",
      "[[  101  5519  5208 ...    -1    -1    -1]\n",
      " [  101  6159 24246 ...    -1    -1    -1]\n",
      " [  101  1006 13229 ...  2062 10831  1010]\n",
      " ...\n",
      " [  101  1036  6102 ...  3955  1012   102]\n",
      " [  101  3036  3457 ...  3936  2008  2016]\n",
      " [  101  1006 13229 ...  2001  8060  2438]]\n"
     ]
    }
   ],
   "source": [
    "merged_test = merge_pt(train_data_files, 'src')\n",
    "print(merged_test.shape)\n",
    "print(merged_test)\n",
    "\n"
   ]
  },
  {
   "cell_type": "code",
   "execution_count": 14,
   "id": "0d0d2287-ed2a-4e95-9c9a-15a723741e19",
   "metadata": {},
   "outputs": [
    {
     "name": "stdout",
     "output_type": "stream",
     "text": [
      "/home/bui.thuy/text_sum\n",
      "bert2bert.ipynb       encoder_decoder2.ipynb  README.md      train.ipynb\n",
      "bert2bert_trainer.py  preprocessed\t      test.ipynb\n",
      "bert_test.py\t      preprocess.ipynb\t      train2.ipynb\n",
      "data.py\t\t      __pycache__\t      trainer.ipynb\n"
     ]
    }
   ],
   "source": [
    "!pwd\n",
    "!ls"
   ]
  },
  {
   "cell_type": "code",
   "execution_count": 27,
   "id": "57267dac-ba02-403b-9dcf-5b3b8e32b363",
   "metadata": {},
   "outputs": [],
   "source": [
    "del merged_test"
   ]
  },
  {
   "cell_type": "code",
   "execution_count": 30,
   "id": "18882ee3-b895-47e8-b348-9fd47fdfaf61",
   "metadata": {},
   "outputs": [
    {
     "name": "stdout",
     "output_type": "stream",
     "text": [
      "loading test_data.hdf5\n",
      "processing key  src\n",
      "11489\n",
      "processing key  tgt\n",
      "11489\n",
      "processing key  src_sent_labels\n",
      "11489\n",
      "processing key  segs\n",
      "11489\n",
      "processing key  clss\n",
      "11489\n",
      "done for test.hdf5\n",
      "loading valid_data\n",
      "processing key  src\n",
      "13367\n",
      "processing key  tgt\n",
      "13367\n",
      "processing key  src_sent_labels\n",
      "13367\n",
      "processing key  segs\n",
      "13367\n",
      "processing key  clss\n",
      "13367\n",
      "done for valid.hdf5\n",
      "processing train_data\n",
      "processing key  src\n",
      "287083\n",
      "processing key  tgt\n",
      "287083\n",
      "processing key  src_sent_labels\n",
      "287083\n",
      "processing key  segs\n",
      "287083\n",
      "processing key  clss\n",
      "287083\n"
     ]
    }
   ],
   "source": [
    "# merge all numeric fields in pt files\n",
    "keys = list(aa[0].keys())[:-2] # ['src', 'tgt', 'src_sent_labels', 'segs', 'clss']\n",
    "\n",
    "print('loading test_data.hdf5')\n",
    "with h5py.File(\"./preprocessed/test_data.hdf5\", \"w\") as data_file:\n",
    "    for k in keys:\n",
    "        print('processing key ', k)\n",
    "        merged_test = merge_pt(test_data_files, k)\n",
    "        data_file.create_dataset(name = k, data=merged_test)\n",
    "data_file.close()\n",
    "print('done for test.hdf5')\n",
    "\n",
    "\n",
    "print('loading valid_data')\n",
    "with h5py.File(\"./preprocessed/valid_data.hdf5\", \"w\") as data_file:\n",
    "    for k in keys:\n",
    "        print('processing key ', k)\n",
    "        merged_valid = merge_pt(valid_data_files, k)\n",
    "        data_file.create_dataset(name = k, data=merged_valid)\n",
    "data_file.close()\n",
    "print('done for valid.hdf5')\n",
    "\n",
    "print('processing train_data')\n",
    "with h5py.File(\"./preprocessed/train_data.hdf5\", \"w\") as data_file:\n",
    "    for k in keys:\n",
    "        print('processing key ', k)\n",
    "        merged_train = merge_pt(train_data_files, k)\n",
    "        data_file.create_dataset(name = k, data=merged_train)\n",
    "data_file.close()"
   ]
  },
  {
   "cell_type": "code",
   "execution_count": 62,
   "id": "89062a82-126c-4832-b7fd-10bddefeadd8",
   "metadata": {},
   "outputs": [
    {
     "name": "stdout",
     "output_type": "stream",
     "text": [
      "<KeysViewHDF5 ['clss', 'segs', 'src', 'src_sent_labels', 'tgt']>\n",
      "(287083, 512)\n",
      "270538 [  101  2919  6240  4135 10354  2013  1037  3960  6473  4825  1999  2225\n",
      "  3448  2730  1037  2280  2110  2375  8571  1998  2014  3129  1010  2429\n",
      "  2000  1037  9870  6406  2011  2037  2336  1012   102   101  2280 11849\n",
      "  3448  2732  7474  2979  2185  4793  6445  1999  2285  2262  2096  2014\n",
      "  3129  1010  7157  1010  2351  4793  6391  1999  2089  2286  2044  2027\n",
      "  2119  4265  5294 12763  2013  2833 16149  1010  1996  4848  4447  1012\n",
      "   102   101  1996  3232  1010  2040  2020  2496  2005  3438  2086  1010\n",
      "  8823  2112  1997  2037  6240  4135 10354 12278  1010  2029  2443  6240\n",
      "  4135 10354  1010 16137  9072 14629  1010 24665 11431  2100  1010 22953\n",
      " 21408  3669  1998  1037  4897  1010  2012  1037  3960  6473  4825  1999\n",
      " 25231  1999  2255  2262  1012   102   101  1996  7954  2001  1996  2197\n",
      "  2027  2052  2412  2031  2362  1010  2429  2000  1996  9870  1010  2029\n",
      "  2001  2034  2988  2011  1996 10907  3679  5653  1012   102   101  3279\n",
      "  1024  3448  2732  7474  1010 15885  2187  1998  2157  1010  1998  2014\n",
      "  3129  7157  1010  2157  1010  2119  2351  2706  2044  2027  2020  4930\n",
      "  2091  2007  2833 16149  2044  5983  6240  4135 10354  2012  1037  3960\n",
      "  6473  4825  1010  2429  2000  1037  9870   102   101  3157  2847  2101\n",
      "  1010  2027  2119  2234  2091  2007 24780  1998 22939 12171 20192  1998\n",
      "  2020  6760  2000  2902  2005  2833 16149  1012   102   101  2720  2732\n",
      "  7474  4265  1037  6909  2008  2154  1010  1996  9870  2758  1012   102\n",
      "   101  1036  2107  4506  5229  2720 29625  1998  3680 29625  2732  7474\n",
      " 14868  2029  4504  1999  2439  3637  1010 16915  1997  3558  4650  1010\n",
      "  6034 10089  1998  5915 26118  1997  2740  2007  9530  3366 15417  4818\n",
      "  2331  1011  2035  9034  1996  3086  1997  4591  2966  5073  1010  1005\n",
      "  1996  9870  2163  1012   102   101  3680  2732  7474  1010  2040  2018\n",
      "  4265  1037  6909  2416  2086  2077  5983  1996  2833  1010  2351  2048\n",
      "  2706  2101  1012   102   101  2014  3129  1005  2015  2740  2001 11855\n",
      "  2011  1996  5043  1998  2002  2734  2330  2540  5970  2005  1037  2540\n",
      " 10764  8985  1999  2285  2262  1010  1996  4848  4447  1012   102   101\n",
      "  2002  2815 24735  2127  1996  2279  2258  1998  2351  2012  2010  2188\n",
      "  1999  2089  2286  1012   102   101  4771  1024  2720  2732  7474  2003\n",
      " 15885  2007  2010  2684  5754  1010  2040  2038  6406  1996  9870  2007\n",
      "  2014  2567  1012   102   101  2009  7607  2008  2014 11419  2269  1010\n",
      "  1037  2942  3992  1010  2001  2583  2000  2448  2010  2219  2449  2127\n",
      "  2027  8823  1996  7954   102   101  2127  2002  8823  1996  7954  1010\n",
      "  2720  2732  7474  2001  2145  4906  2000  2147  1998  2448  2010  2219\n",
      "  2449  1010  2021  2044  1996  5043  1010  2002  2150  5901  5665  1010\n",
      "  1996  9870  2758  1012   102   101  1996  3232  1005  2015  4639  2336\n",
      "  1010  2928  1998  5754  2732  7474  1010  6406  1996  9870  2114  3960\n",
      "  6473  8623  1010  2029  2003  2241  1999  2047 10283  1010  4058  1010\n",
      "  1999  4027  4984  2457  2006  2255  1017  1012   102   101  1996  9870\n",
      "  2758  1996  3232 22667  2062  2084  1002  5539 29623  8889  2692  1999\n",
      "  2966  5366  2044  1996  9382 26392  7954  1012]\n"
     ]
    }
   ],
   "source": [
    "import random\n",
    "data_dir = \"./preprocessed/\"\n",
    "train_path = data_dir + 'train_data.hdf5'\n",
    "test_path = data_dir + 'test_data.hdf5'\n",
    "# test_nopad_path = data_dir + 'test_data.hdf5'\n",
    "valid_path = data_dir + 'valid_data.hdf5'\n",
    "\n",
    "# f = h5py.File(test_path, 'r')\n",
    "# for key in f.keys():\n",
    "#     print(key)\n",
    "    \n",
    "f = h5py.File(train_path, 'r')\n",
    "print(f.keys())\n",
    "    \n",
    "# f = h5py.File(valid_path, 'r')\n",
    "# for key in f.keys():\n",
    "#     print(key)\n",
    "\n",
    "\n",
    "test_src = f['src']\n",
    "print(test_src.shape)\n",
    "\n",
    "idx = random.randint(0, test_src.shape[0]-1)\n",
    "print(idx, test_src[idx])\n"
   ]
  },
  {
   "cell_type": "code",
   "execution_count": 13,
   "id": "421c1ced-62a8-4414-b229-d50bbcf1ab9f",
   "metadata": {
    "collapsed": true,
    "jupyter": {
     "outputs_hidden": true
    },
    "tags": []
   },
   "outputs": [
    {
     "name": "stdout",
     "output_type": "stream",
     "text": [
      "[ 1.0000e+00  6.8160e+03  5.2490e+03  2.4040e+03  2.0060e+03  2.1780e+03\n",
      "  2.2650e+03  1.9970e+03  1.2242e+04  2.0120e+03  1.3635e+04  2.1200e+03\n",
      "  3.0000e+00  1.9960e+03  2.4030e+03  2.9624e+04  7.2920e+03  2.3500e+03\n",
      "  3.4100e+03  2.0010e+03  2.3200e+03  1.4429e+04  2.0050e+03  2.0100e+03\n",
      "  2.4858e+04  2.1350e+03  3.2670e+03  3.0000e+00  2.0210e+03  1.9960e+03\n",
      "  2.2800e+03  2.0880e+03  2.0530e+03  1.0150e+03  3.5440e+03  2.0000e+03\n",
      "  2.0310e+03  2.3570e+03  2.0580e+03  1.0370e+03  2.0470e+03  7.0530e+03\n",
      "  3.0000e+00  5.2490e+03  2.0010e+03  4.1100e+03  2.0060e+03  4.9500e+03\n",
      "  5.6130e+03  2.0000e+03  2.1890e+03  2.0960e+03  1.0975e+04  1.8908e+04\n",
      "  9.3550e+03  3.0000e+00  1.1562e+04  2.1820e+03  2.0050e+03  2.2560e+03\n",
      "  2.3250e+03  5.9720e+03  1.9244e+04  1.0247e+04  1.9980e+03  1.0238e+04\n",
      "  2.0000e+00  2.0150e+03  2.6094e+04  2.0074e+04  3.0000e+00  1.5876e+04\n",
      "  4.8420e+03  2.1020e+03  3.9360e+03  2.0080e+03  1.9407e+04  2.0180e+03\n",
      "  2.0420e+03  2.6350e+03  1.4667e+04  2.0050e+03  2.0100e+03  6.2450e+03\n",
      "  3.0000e+00  1.1498e+04  7.5830e+03  6.5580e+03  4.1610e+03  1.9960e+03\n",
      "  6.0810e+03  9.4310e+03  2.7570e+03  2.0120e+03  1.9960e+03  3.4960e+03\n",
      "  2.0440e+03  2.3830e+03  2.1790e+03  2.0020e+03  1.7818e+04  2.3700e+03\n",
      "  3.0000e+00  1.9407e+04  1.0050e+03  2.0150e+03  1.8146e+04  1.0100e+03\n",
      "  2.8520e+03  2.9625e+04  2.0560e+03  2.0500e+03  1.2849e+04  6.5900e+03\n",
      "  1.0100e+03  3.3690e+03  2.5740e+03  5.7280e+03  1.9980e+03  2.4090e+03\n",
      "  2.6100e+03  2.0160e+03  2.0180e+03  2.0420e+03  1.2318e+04  1.9407e+04\n",
      "  3.6790e+03  3.0000e+00  1.9407e+04  2.0010e+03  7.2830e+03  1.3879e+04\n",
      "  2.0110e+03  1.2354e+04  2.8390e+03  2.8520e+03  2.3151e+04  4.2460e+03\n",
      "  1.9990e+03  2.7180e+03  2.0907e+04  2.1860e+03  4.8950e+03  2.3890e+04\n",
      "  3.0850e+03  5.0350e+03  8.0290e+03  1.2940e+04  2.0290e+03  6.0060e+03\n",
      "  2.0060e+03  2.2330e+03  1.0200e+03  3.0000e+00  2.8140e+03  2.0560e+03\n",
      "  2.0080e+03  1.0100e+03  2.2950e+03  2.8520e+03  1.9407e+04  2.0010e+03\n",
      "  6.3140e+03  1.0100e+03  2.2650e+03  2.1060e+03  1.0500e+03  2.9618e+04\n",
      "  2.1020e+03  3.4260e+03  2.0100e+03  2.3310e+03  2.0000e+00  1.5680e+04\n",
      "  2.4200e+03  1.0110e+03  2.9624e+04  1.9980e+03  1.8152e+04  2.0000e+03\n",
      "  2.7350e+03  2.0390e+03  1.0370e+03  2.3530e+03  2.0510e+03  2.0650e+03\n",
      "  2.0270e+03  2.1450e+03  2.0200e+03  1.0500e+03  2.9618e+04  2.1020e+03\n",
      "  5.0860e+03  1.0120e+03  3.0000e+00  1.0489e+04  4.3660e+03  2.0270e+03\n",
      "  2.0640e+03  3.8280e+03  1.9960e+03  1.7237e+04  1.0010e+03  1.0230e+03\n",
      "  1.9912e+04  3.2580e+03  2.0110e+03  3.9090e+03  2.0410e+03  2.0000e+03\n",
      "  2.6600e+03  2.7380e+03  2.0840e+03  2.7310e+03  1.1498e+04  7.5830e+03\n",
      "  6.5580e+03  1.9990e+03  3.7250e+03  1.0120e+03  2.0000e+00  2.7560e+03\n",
      "  1.0100e+03  1.9970e+03  4.7700e+03  2.3950e+03  1.0100e+03  6.1870e+03\n",
      "  1.1795e+04  2.9060e+03  1.4876e+04  2.0780e+03  1.0100e+03  5.9050e+03\n",
      "  2.0000e+03  1.7731e+04  1.6034e+04  1.9980e+03  1.7985e+04  1.0110e+03\n",
      "  2.1278e+04  2.0050e+03  2.8090e+03  2.0860e+03  1.9980e+03  2.0930e+03\n",
      "  2.7060e+03  3.0000e+00  7.7580e+03  2.2131e+04  8.0990e+03  1.0100e+03\n",
      "  2.3820e+03  1.0100e+03  1.9970e+03  1.0430e+03  5.8020e+03  2.5660e+03\n",
      "  2.4830e+03  1.0100e+03  6.1870e+03  1.1795e+04  2.9060e+03  1.4876e+04\n",
      "  2.0780e+03  1.0100e+03  5.9050e+03  2.0000e+03  1.7731e+04  1.6034e+04\n",
      "  1.9980e+03  1.7985e+04  1.0110e+03  2.1278e+04  2.0050e+03  3.1570e+03\n",
      "  2.0860e+03  3.0000e+00  5.6550e+03  2.3170e+03  1.0100e+03  3.5900e+03\n",
      "  1.0100e+03  1.9970e+03  6.1870e+03  1.1795e+04  2.9060e+03  1.4876e+04\n",
      "  2.0780e+03  1.0100e+03  1.2254e+04  5.9050e+03  2.0000e+03  1.7731e+04\n",
      "  1.7985e+04  1.9980e+03  2.3830e+03  2.0190e+03  2.0017e+04  3.2820e+03\n",
      "  1.0100e+03  2.1790e+03  5.9050e+03  1.9970e+03  1.7731e+04  1.6034e+04\n",
      "  2.0440e+03  1.0370e+03  3.9790e+03  1.0110e+03  2.3400e+03  2.0860e+03\n",
      "  3.0000e+00  9.4480e+03  2.2131e+04  8.0990e+03  1.0100e+03  2.7560e+03\n",
      "  1.0100e+03  1.9970e+03  5.9390e+03  1.0050e+03  2.0780e+03  8.8400e+03\n",
      "  2.0780e+03  1.0100e+03  2.2220e+03  5.6850e+03  1.3088e+04  8.6490e+03\n",
      "  1.0100e+03  6.1870e+03  1.1795e+04  2.9060e+03  1.4876e+04  2.0780e+03\n",
      "  1.0100e+03  5.9050e+03  2.0000e+03  1.7731e+04  1.6034e+04  1.0110e+03\n",
      "  2.4160e+03  2.0860e+03  1.9980e+03  2.8090e+03  2.7060e+03  3.0000e+00\n",
      "  3.2350e+03  4.2020e+03  1.0100e+03  2.6560e+03  1.0100e+03  1.9970e+03\n",
      "  4.7700e+03  2.3950e+03  1.0100e+03  6.1870e+03  1.1795e+04  2.9060e+03\n",
      "  1.4876e+04  2.0780e+03  1.0100e+03  5.9050e+03  2.0000e+03  1.7731e+04\n",
      "  1.7985e+04  1.0110e+03  2.8710e+03  2.7060e+03  3.0000e+00  2.1310e+03\n",
      "  1.0606e+04  8.5470e+03  1.0100e+03  2.6030e+03  1.0100e+03  1.9970e+03\n",
      "  6.1870e+03  2.0630e+03  7.7820e+03  1.0100e+03  6.1870e+03  1.1795e+04\n",
      "  2.9060e+03  1.4876e+04  2.0780e+03  1.0100e+03  5.9050e+03  2.0000e+03\n",
      "  1.7731e+04  1.6034e+04  1.9980e+03  1.7985e+04  1.0110e+03  2.1760e+03\n",
      "  2.0860e+03  3.0000e+00  2.7030e+03  8.0990e+03  1.0100e+03  4.0290e+03\n",
      "  1.0100e+03  1.9970e+03  8.8400e+03  2.0780e+03  1.6660e+04  2.1020e+03\n",
      "  1.0100e+03  6.1870e+03  1.1795e+04  2.9060e+03  1.4876e+04  2.0780e+03\n",
      "  1.0100e+03  5.9050e+03  2.0000e+03  1.7731e+04  1.6034e+04  1.9980e+03\n",
      "  1.7985e+04  1.0110e+03  2.1760e+03  2.0860e+03  1.9980e+03  2.8090e+03\n",
      "  2.7060e+03  3.0000e+00  3.2350e+03  8.2330e+03  1.0100e+03  3.5900e+03\n",
      "  1.0100e+03  1.9970e+03  2.2220e+03  2.3190e+03  5.6770e+03  2.4830e+03\n",
      "  2.3460e+03  1.0100e+03  6.1870e+03  1.1795e+04  2.9060e+03  1.4876e+04\n",
      "  2.0780e+03  1.0100e+03  5.9050e+03  2.0000e+03  1.7731e+04  1.7985e+04\n",
      "  1.0110e+03  2.3220e+03  2.7060e+03  3.0000e+00  6.4400e+03  3.7660e+03\n",
      "  1.0100e+03  4.7000e+03  1.0100e+03  1.9970e+03  8.8400e+03  2.0780e+03\n",
      "  1.0410e+03  2.7861e+04  2.0780e+03  1.0100e+03  6.1870e+03  1.1795e+04\n",
      "  2.9060e+03  1.4876e+04  2.0780e+03  1.0100e+03  4.3520e+03  1.0345e+04\n",
      "  2.0000e+03  2.0220e+03  2.1090e+03  2.0050e+03  4.4250e+03  1.9970e+03\n",
      "  1.6034e+04  1.9980e+03  1.7985e+04  1.0110e+03  2.4030e+03  2.7060e+03\n",
      "  3.0000e+00  6.4260e+03  3.7660e+03  1.0100e+03  2.8710e+03  1.0100e+03\n",
      "  1.9970e+03  8.8400e+03  2.0780e+03  1.0410e+03  2.7861e+04  2.0780e+03\n",
      "  1.0100e+03  6.1870e+03 -1.0000e+00 -1.0000e+00 -1.0000e+00 -1.0000e+00\n",
      " -1.0000e+00 -1.0000e+00 -1.0000e+00 -1.0000e+00 -1.0000e+00 -1.0000e+00\n",
      " -1.0000e+00 -1.0000e+00]\n"
     ]
    }
   ],
   "source": [
    "from data import *\n",
    "\n",
    "test_dataset = SummarisationDataset(test_nopad_path)\n",
    "item = test_dataset.__getitem__(0)\n",
    "print(item['tgt'])"
   ]
  },
  {
   "cell_type": "code",
   "execution_count": 26,
   "id": "94e1be2f-5277-4f7b-a7e4-119dbfc165fb",
   "metadata": {},
   "outputs": [
    {
     "name": "stdout",
     "output_type": "stream",
     "text": [
      "merged_train size in mb 1175.891968\n"
     ]
    }
   ],
   "source": [
    "import sys\n",
    "sys.getsizeof(merged_train)\n",
    "\n",
    "merged_train = merge_pt(train_data_files, 'src')\n",
    "print('merged_train size in mb', merged_train.nbytes / 1000000)\n",
    "\n",
    "del merged_train"
   ]
  },
  {
   "cell_type": "code",
   "execution_count": null,
   "id": "aabe0869-bff6-4e1f-950e-00f9406de238",
   "metadata": {},
   "outputs": [],
   "source": [
    "train_data_file = './cnn_dailymail/train.csv'\n",
    "train_data = pd.read_csv(train_data_file)\n",
    "vocab = {}\n",
    "\n",
    "for idx in train_data.shape[0]:\n",
    "    article = train_data.iloc[idx]['article']\n",
    "    summary = train_data.iloc[idx]['highlights']\n",
    "    \n"
   ]
  },
  {
   "cell_type": "code",
   "execution_count": 3,
   "id": "de5b6e4a-a935-4050-af87-fbff989a181b",
   "metadata": {},
   "outputs": [],
   "source": [
    "from transformers import BertTokenizer, BertModel"
   ]
  },
  {
   "cell_type": "code",
   "execution_count": 4,
   "id": "e86ea3c1-86be-4c0a-988e-87a8e2efba13",
   "metadata": {},
   "outputs": [
    {
     "data": {
      "application/vnd.jupyter.widget-view+json": {
       "model_id": "f05dcb6bd5ae414c83b9b3bb6bb93ed8",
       "version_major": 2,
       "version_minor": 0
      },
      "text/plain": [
       "Downloading:   0%|          | 0.00/226k [00:00<?, ?B/s]"
      ]
     },
     "metadata": {},
     "output_type": "display_data"
    },
    {
     "data": {
      "application/vnd.jupyter.widget-view+json": {
       "model_id": "d98679b9e30f41789e029a4ef1fcece9",
       "version_major": 2,
       "version_minor": 0
      },
      "text/plain": [
       "Downloading:   0%|          | 0.00/28.0 [00:00<?, ?B/s]"
      ]
     },
     "metadata": {},
     "output_type": "display_data"
    },
    {
     "data": {
      "application/vnd.jupyter.widget-view+json": {
       "model_id": "0cb0cac607254a998416cf0f2c06e09a",
       "version_major": 2,
       "version_minor": 0
      },
      "text/plain": [
       "Downloading:   0%|          | 0.00/455k [00:00<?, ?B/s]"
      ]
     },
     "metadata": {},
     "output_type": "display_data"
    },
    {
     "data": {
      "application/vnd.jupyter.widget-view+json": {
       "model_id": "53e43574c96c4557aa596103da8bbe9f",
       "version_major": 2,
       "version_minor": 0
      },
      "text/plain": [
       "Downloading:   0%|          | 0.00/570 [00:00<?, ?B/s]"
      ]
     },
     "metadata": {},
     "output_type": "display_data"
    }
   ],
   "source": [
    "# try \n",
    "\n",
    "tokenizer = BertTokenizer.from_pretrained('bert-base-uncased', do_lower=True)"
   ]
  },
  {
   "cell_type": "code",
   "execution_count": 20,
   "id": "5b2f9f6e-4802-432d-a35a-1ec266cd62f8",
   "metadata": {},
   "outputs": [
    {
     "name": "stdout",
     "output_type": "stream",
     "text": [
      "dict_keys(['src', 'tgt', 'src_sent_labels', 'segs', 'clss', 'src_txt', 'tgt_txt'])\n"
     ]
    }
   ],
   "source": [
    "print(aa[0].keys())"
   ]
  },
  {
   "cell_type": "code",
   "execution_count": 39,
   "id": "065a3494-243d-4cf6-ac41-d0f46e6c32f6",
   "metadata": {},
   "outputs": [
    {
     "name": "stdout",
     "output_type": "stream",
     "text": [
      "479\n",
      "a university of iowa student has died nearly three months after a fall in rome in a suspected robbery attack in rome .\n",
      "andrew mogni , 20 , from glen ellyn , illinois , had only just arrived for a semester program in italy when the incident happened in january .\n",
      "[101, 1037, 2118, 1997, 5947, 3076, 2038, 2351, 3053, 2093, 2706, 2044, 1037, 2991, 1999, 4199, 1999, 1037, 6878, 13742, 2886, 1999, 4199, 1012, 102, 101, 4080, 9587, 29076, 1010, 2322, 1010, 2013, 8904, 3449, 9644, 1010, 4307, 1010, 2018, 2069, 2074, 3369, 2005, 1037, 13609, 2565, 1999, 3304, 2043, 1996, 5043, 3047, 1999, 2254, 1012, 102, 101, 2002, 2001, 10583, 2067, 2000, 3190, 3081, 2250, 10771, 2006, 2233, 2322, 1010, 2021, 2002, 2351, 2006, 4465, 1012, 102, 101, 4080, 9587, 29076, 1010, 2322, 1010, 2013, 8904, 3449, 9644, 1010, 4307, 1010, 1037, 2118, 1997, 5947, 3076, 2038, 2351, 3053, 2093, 2706, 2044, 1037, 2991, 1999, 4199, 1999, 1037, 6878, 13742, 102, 101, 2002, 2001, 2579, 2000, 1037, 2966, 4322, 1999, 1996, 3190, 2181, 1010, 2485, 2000, 2010, 2155, 2188, 1999, 8904, 3449, 9644, 1012, 102, 101, 2002, 2351, 2006, 4465, 2012, 7855, 3986, 2902, 1011, 2966, 19684, 1005, 1055, 2436, 14056, 3581, 18454, 6199, 2319, 2758, 1037, 3426, 1997, 2331, 24185, 1050, 1005, 1056, 2022, 2207, 2127, 6928, 2012, 1996, 5700, 1012, 102, 101, 3988, 2610, 4311, 5393, 1996, 2991, 2001, 2019, 4926, 2021, 4614, 2024, 11538, 1996, 6061, 2008, 9587, 29076, 2001, 20114, 1012, 102, 101, 2006, 4465, 1010, 2010, 5542, 9460, 2626, 3784, 1024, 1036, 2023, 2851, 2026, 5542, 4080, 1005, 1055, 3969, 2001, 4196, 2039, 2000, 6014, 1012, 102, 101, 3988, 2610, 4311, 5393, 1996, 2991, 2001, 2019, 4926, 2021, 4614, 2024, 11538, 1996, 6061, 2008, 9587, 29076, 2001, 20114, 102, 101, 1036, 2012, 1996, 2927, 1997, 2254, 2002, 2253, 2000, 4199, 2000, 2817, 7548, 1998, 2006, 1996, 2126, 2188, 2013, 1037, 2283, 2002, 2001, 23197, 4457, 1998, 6908, 2125, 1037, 2871, 6199, 2958, 1998, 2718, 1996, 5509, 2917, 1012, 102, 101, 1036, 2002, 2001, 1999, 1037, 16571, 1998, 1999, 4187, 4650, 2005, 2706, 1012, 1005, 102, 101, 13723, 20073, 1010, 2040, 2056, 2016, 2003, 1037, 2485, 2155, 2767, 1010, 2409, 2026, 9282, 2166, 1010, 2008, 9587, 29076, 2018, 2069, 2042, 1999, 1996, 2406, 2005, 2416, 2847, 2043, 1996, 5043, 3047, 1012, 102, 101, 2016, 2056, 2002, 2001, 2001, 2894, 2012, 1996, 2051, 1997, 1996, 6884, 6101, 1998, 3167, 5167, 2020, 7376, 1012, 102, 101, 2016, 2794, 2008, 2002, 2001, 1999, 1037, 2512, 1011, 2966, 2135, 10572, 16571, 1010, 2383, 4265, 3809, 8985, 1998, 4722, 9524, 1012, 102, 101, 9587, 29076, 2001, 1037, 2353, 1011, 2095, 5446, 2350, 2013, 8904, 3449, 9644, 1010, 5665, 1012, 1010, 2040, 2001, 8019, 1999, 1037, 13609, 1011, 2146, 2565, 2012, 2198, 9298, 4140, 2118, 1012, 102, 101, 9587, 29076, 6272, 2000, 1996, 2082, 1005, 1055, 3127, 1997, 1996, 13201, 16371, 13577, 1010, 4311, 1996, 3190, 10969, 2040, 6866, 1037, 3696, 2648, 1037, 2311, 3752, 1036, 11839, 2005, 9587, 29076, 1012, 1005, 102, 101, 1996, 13577, 1005, 1055, 5947, 3127, 2623, 4465, 5027, 3081, 10474, 2008, 1037, 3986, 2326, 2097, 2022, 2218, 2006, 3721, 2000, 3342, 9587, 29076, 1012, 102]\n",
      "479\n",
      "[101, 1037, 2118, 1997, 5947, 3076, 2038, 2351, 3053, 2093, 2706, 2044, 1037, 2991, 1999, 4199, 1999, 1037, 6878, 13742, 2886, 1999, 4199, 1012, 102, 101, 4080, 9587, 29076, 1010, 2322, 1010, 2013, 8904, 3449, 9644, 1010, 4307, 1010, 2018, 2069, 2074, 3369, 2005, 1037, 13609, 2565, 1999, 3304, 2043, 1996, 5043, 3047, 1999, 2254, 1012, 102, 101, 2002, 2001, 10583, 2067, 2000, 3190, 3081, 2250, 10771, 2006, 2233, 2322, 1010, 2021, 2002, 2351, 2006, 4465, 1012, 102, 101, 4080, 9587, 29076, 1010, 2322, 1010, 2013, 8904, 3449, 9644, 1010, 4307, 1010, 1037, 2118, 1997, 5947, 3076, 2038, 2351, 3053, 2093, 2706, 2044, 1037, 2991, 1999, 4199, 1999, 1037, 6878, 13742, 102, 101, 2002, 2001, 2579, 2000, 1037, 2966, 4322, 1999, 1996, 3190, 2181, 1010, 2485, 2000, 2010, 2155, 2188, 1999, 8904, 3449, 9644, 1012, 102, 101, 2002, 2351, 2006, 4465, 2012, 7855, 3986, 2902, 1011, 2966, 19684, 1005, 2015, 2436, 14056, 3581, 18454, 6199, 2319, 2758, 1037, 3426, 1997, 2331, 24185, 1050, 29618, 2102, 2022, 2207, 2127, 6928, 2012, 1996, 5700, 1012, 102, 101, 3988, 2610, 4311, 5393, 1996, 2991, 2001, 2019, 4926, 2021, 4614, 2024, 11538, 1996, 6061, 2008, 9587, 29076, 2001, 20114, 1012, 102, 101, 2006, 4465, 1010, 2010, 5542, 9460, 2626, 3784, 1024, 1036, 2023, 2851, 2026, 5542, 4080, 1005, 2015, 3969, 2001, 4196, 2039, 2000, 6014, 1012, 102, 101, 3988, 2610, 4311, 5393, 1996, 2991, 2001, 2019, 4926, 2021, 4614, 2024, 11538, 1996, 6061, 2008, 9587, 29076, 2001, 20114, 102, 101, 1036, 2012, 1996, 2927, 1997, 2254, 2002, 2253, 2000, 4199, 2000, 2817, 7548, 1998, 2006, 1996, 2126, 2188, 2013, 1037, 2283, 2002, 2001, 23197, 4457, 1998, 6908, 2125, 1037, 2871, 6199, 2958, 1998, 2718, 1996, 5509, 2917, 1012, 102, 101, 1036, 2002, 2001, 1999, 1037, 16571, 1998, 1999, 4187, 4650, 2005, 2706, 1012, 1005, 102, 101, 13723, 20073, 1010, 2040, 2056, 2016, 2003, 1037, 2485, 2155, 2767, 1010, 2409, 2026, 9282, 2166, 1010, 2008, 9587, 29076, 2018, 2069, 2042, 1999, 1996, 2406, 2005, 2416, 2847, 2043, 1996, 5043, 3047, 1012, 102, 101, 2016, 2056, 2002, 2001, 2001, 2894, 2012, 1996, 2051, 1997, 1996, 6884, 6101, 1998, 3167, 5167, 2020, 7376, 1012, 102, 101, 2016, 2794, 2008, 2002, 2001, 1999, 1037, 2512, 29624, 7583, 15004, 10572, 16571, 1010, 2383, 4265, 3809, 8985, 1998, 4722, 9524, 1012, 102, 101, 9587, 29076, 2001, 1037, 2353, 29624, 29100, 5446, 2350, 2013, 8904, 3449, 9644, 1010, 5665, 29625, 1010, 2040, 2001, 8019, 1999, 1037, 13609, 29624, 10052, 2565, 2012, 2198, 9298, 4140, 2118, 1012, 102, 101, 9587, 29076, 6272, 2000, 1996, 2082, 1005, 2015, 3127, 1997, 1996, 13201, 16371, 13577, 1010, 4311, 1996, 3190, 10969, 2040, 6866, 1037, 3696, 2648, 1037, 2311, 3752, 1036, 11839, 2005, 9587, 29076, 1012, 1005, 102, 101, 1996, 13577, 1005, 2015, 5947, 3127, 2623, 4465, 5027, 3081, 10474, 2008, 1037, 3986, 2326, 2097, 2022, 2218, 2006, 3721, 2000, 3342, 9587, 29076, 1012, 102]\n",
      "479\n",
      "149 2015 1055\n",
      "# # s\n",
      "s\n",
      "163 29618 1005\n",
      "# # '\n",
      "'\n",
      "164 2102 1056\n",
      "# # t\n",
      "t\n",
      "214 2015 1055\n",
      "# # s\n",
      "s\n",
      "367 29624 1011\n",
      "# # -\n",
      "-\n",
      "368 7583 2966\n",
      "# # m e d\n",
      "m e d i c a l\n",
      "369 15004 2135\n",
      "# # i c a l l y\n",
      "# # l y\n",
      "388 29624 1011\n",
      "# # -\n",
      "-\n",
      "389 29100 2095\n",
      "# # y e a r\n",
      "y e a r\n",
      "398 29625 1012\n",
      "# #.\n",
      ".\n",
      "406 29624 1011\n",
      "# # -\n",
      "-\n",
      "407 10052 2146\n",
      "# # l o n g\n",
      "l o n g\n",
      "424 2015 1055\n",
      "# # s\n",
      "s\n",
      "456 2015 1055\n",
      "# # s\n",
      "s\n"
     ]
    }
   ],
   "source": [
    "sents = aa[0]['src_txt']\n",
    "token_ids = aa[0]['src']\n",
    "\n",
    "print(len(token_ids))\n",
    "# print(token_ids[0])\n",
    "print(sents[0])\n",
    "print(sents[1])\n",
    "\n",
    "unflat = [tokenizer.encode(s) for s in sents]\n",
    "flat_list = [item for sublist in unflat for item in sublist]\n",
    "print(flat_list)\n",
    "print(len(flat_list))\n",
    "\n",
    "print(token_ids)\n",
    "print(len(token_ids))\n",
    "\n",
    "for i in range(len(flat_list)):\n",
    "    if flat_list[i] != token_ids[i]:\n",
    "        print(i, token_ids[i], flat_list[i] )\n",
    "        print(tokenizer.decode(token_ids[i]))\n",
    "        print(tokenizer.decode(flat_list[i]))"
   ]
  },
  {
   "cell_type": "code",
   "execution_count": 23,
   "id": "e848bbcd-32a0-4516-895c-fe94f83f68c4",
   "metadata": {},
   "outputs": [
    {
     "name": "stdout",
     "output_type": "stream",
     "text": [
      "dict_keys(['src', 'tgt', 'src_sent_labels', 'segs', 'clss', 'src_txt', 'tgt_txt'])\n",
      "src 479\n",
      "[101, 1037, 2118, 1997, 5947, 3076, 2038, 2351, 3053, 2093, 2706, 2044, 1037, 2991, 1999, 4199, 1999, 1037, 6878, 13742, 2886, 1999, 4199, 1012, 102, 101, 4080, 9587, 29076, 1010, 2322, 1010, 2013, 8904, 3449, 9644, 1010, 4307, 1010, 2018, 2069, 2074, 3369, 2005, 1037, 13609, 2565, 1999, 3304, 2043, 1996, 5043, 3047, 1999, 2254, 1012, 102, 101, 2002, 2001, 10583, 2067, 2000, 3190, 3081, 2250, 10771, 2006, 2233, 2322, 1010, 2021, 2002, 2351, 2006, 4465, 1012, 102, 101, 4080, 9587, 29076, 1010, 2322, 1010, 2013, 8904, 3449, 9644, 1010, 4307, 1010, 1037, 2118, 1997, 5947, 3076, 2038, 2351, 3053, 2093, 2706, 2044, 1037, 2991, 1999, 4199, 1999, 1037, 6878, 13742, 102, 101, 2002, 2001, 2579, 2000, 1037, 2966, 4322, 1999, 1996, 3190, 2181, 1010, 2485, 2000, 2010, 2155, 2188, 1999, 8904, 3449, 9644, 1012, 102, 101, 2002, 2351, 2006, 4465, 2012, 7855, 3986, 2902, 1011, 2966, 19684, 1005, 2015, 2436, 14056, 3581, 18454, 6199, 2319, 2758, 1037, 3426, 1997, 2331, 24185, 1050, 29618, 2102, 2022, 2207, 2127, 6928, 2012, 1996, 5700, 1012, 102, 101, 3988, 2610, 4311, 5393, 1996, 2991, 2001, 2019, 4926, 2021, 4614, 2024, 11538, 1996, 6061, 2008, 9587, 29076, 2001, 20114, 1012, 102, 101, 2006, 4465, 1010, 2010, 5542, 9460, 2626, 3784, 1024, 1036, 2023, 2851, 2026, 5542, 4080, 1005, 2015, 3969, 2001, 4196, 2039, 2000, 6014, 1012, 102, 101, 3988, 2610, 4311, 5393, 1996, 2991, 2001, 2019, 4926, 2021, 4614, 2024, 11538, 1996, 6061, 2008, 9587, 29076, 2001, 20114, 102, 101, 1036, 2012, 1996, 2927, 1997, 2254, 2002, 2253, 2000, 4199, 2000, 2817, 7548, 1998, 2006, 1996, 2126, 2188, 2013, 1037, 2283, 2002, 2001, 23197, 4457, 1998, 6908, 2125, 1037, 2871, 6199, 2958, 1998, 2718, 1996, 5509, 2917, 1012, 102, 101, 1036, 2002, 2001, 1999, 1037, 16571, 1998, 1999, 4187, 4650, 2005, 2706, 1012, 1005, 102, 101, 13723, 20073, 1010, 2040, 2056, 2016, 2003, 1037, 2485, 2155, 2767, 1010, 2409, 2026, 9282, 2166, 1010, 2008, 9587, 29076, 2018, 2069, 2042, 1999, 1996, 2406, 2005, 2416, 2847, 2043, 1996, 5043, 3047, 1012, 102, 101, 2016, 2056, 2002, 2001, 2001, 2894, 2012, 1996, 2051, 1997, 1996, 6884, 6101, 1998, 3167, 5167, 2020, 7376, 1012, 102, 101, 2016, 2794, 2008, 2002, 2001, 1999, 1037, 2512, 29624, 7583, 15004, 10572, 16571, 1010, 2383, 4265, 3809, 8985, 1998, 4722, 9524, 1012, 102, 101, 9587, 29076, 2001, 1037, 2353, 29624, 29100, 5446, 2350, 2013, 8904, 3449, 9644, 1010, 5665, 29625, 1010, 2040, 2001, 8019, 1999, 1037, 13609, 29624, 10052, 2565, 2012, 2198, 9298, 4140, 2118, 1012, 102, 101, 9587, 29076, 6272, 2000, 1996, 2082, 1005, 2015, 3127, 1997, 1996, 13201, 16371, 13577, 1010, 4311, 1996, 3190, 10969, 2040, 6866, 1037, 3696, 2648, 1037, 2311, 3752, 1036, 11839, 2005, 9587, 29076, 1012, 1005, 102, 101, 1996, 13577, 1005, 2015, 5947, 3127, 2623, 4465, 5027, 3081, 10474, 2008, 1037, 3986, 2326, 2097, 2022, 2218, 2006, 3721, 2000, 3342, 9587, 29076, 1012, 102]\n",
      "tgt 81\n",
      "[1, 4080, 9587, 29076, 1010, 2322, 1010, 2013, 8904, 3449, 9644, 1010, 4307, 1010, 2018, 2069, 2074, 3369, 2005, 1037, 13609, 2565, 2043, 1996, 5043, 3047, 1999, 2254, 3, 2002, 2001, 10583, 2067, 2000, 3190, 3081, 2250, 2006, 2233, 2322, 2021, 2002, 2351, 2006, 4465, 3, 3988, 2610, 4311, 5393, 1996, 2991, 2001, 2019, 4926, 2021, 4614, 2024, 11538, 1996, 6061, 2008, 9587, 29076, 2001, 20114, 3, 2010, 5542, 4447, 2002, 2001, 4457, 1998, 6908, 2871, 6199, 2013, 1037, 2958, 2]\n",
      "src_sent_labels 17\n",
      "[0, 1, 1, 0, 0, 0, 1, 0, 0, 0, 0, 0, 0, 0, 0, 0, 0]\n",
      "segs 479\n",
      "[0, 0, 0, 0, 0, 0, 0, 0, 0, 0, 0, 0, 0, 0, 0, 0, 0, 0, 0, 0, 0, 0, 0, 0, 0, 1, 1, 1, 1, 1, 1, 1, 1, 1, 1, 1, 1, 1, 1, 1, 1, 1, 1, 1, 1, 1, 1, 1, 1, 1, 1, 1, 1, 1, 1, 1, 1, 0, 0, 0, 0, 0, 0, 0, 0, 0, 0, 0, 0, 0, 0, 0, 0, 0, 0, 0, 0, 0, 1, 1, 1, 1, 1, 1, 1, 1, 1, 1, 1, 1, 1, 1, 1, 1, 1, 1, 1, 1, 1, 1, 1, 1, 1, 1, 1, 1, 1, 1, 1, 1, 1, 1, 0, 0, 0, 0, 0, 0, 0, 0, 0, 0, 0, 0, 0, 0, 0, 0, 0, 0, 0, 0, 0, 0, 0, 0, 1, 1, 1, 1, 1, 1, 1, 1, 1, 1, 1, 1, 1, 1, 1, 1, 1, 1, 1, 1, 1, 1, 1, 1, 1, 1, 1, 1, 1, 1, 1, 1, 1, 1, 1, 1, 1, 1, 0, 0, 0, 0, 0, 0, 0, 0, 0, 0, 0, 0, 0, 0, 0, 0, 0, 0, 0, 0, 0, 0, 0, 1, 1, 1, 1, 1, 1, 1, 1, 1, 1, 1, 1, 1, 1, 1, 1, 1, 1, 1, 1, 1, 1, 1, 1, 1, 1, 0, 0, 0, 0, 0, 0, 0, 0, 0, 0, 0, 0, 0, 0, 0, 0, 0, 0, 0, 0, 0, 0, 1, 1, 1, 1, 1, 1, 1, 1, 1, 1, 1, 1, 1, 1, 1, 1, 1, 1, 1, 1, 1, 1, 1, 1, 1, 1, 1, 1, 1, 1, 1, 1, 1, 1, 1, 1, 1, 1, 1, 1, 0, 0, 0, 0, 0, 0, 0, 0, 0, 0, 0, 0, 0, 0, 0, 0, 1, 1, 1, 1, 1, 1, 1, 1, 1, 1, 1, 1, 1, 1, 1, 1, 1, 1, 1, 1, 1, 1, 1, 1, 1, 1, 1, 1, 1, 1, 1, 1, 1, 1, 1, 1, 0, 0, 0, 0, 0, 0, 0, 0, 0, 0, 0, 0, 0, 0, 0, 0, 0, 0, 0, 0, 0, 1, 1, 1, 1, 1, 1, 1, 1, 1, 1, 1, 1, 1, 1, 1, 1, 1, 1, 1, 1, 1, 1, 1, 1, 0, 0, 0, 0, 0, 0, 0, 0, 0, 0, 0, 0, 0, 0, 0, 0, 0, 0, 0, 0, 0, 0, 0, 0, 0, 0, 0, 0, 0, 0, 0, 0, 0, 0, 1, 1, 1, 1, 1, 1, 1, 1, 1, 1, 1, 1, 1, 1, 1, 1, 1, 1, 1, 1, 1, 1, 1, 1, 1, 1, 1, 1, 1, 1, 1, 1, 1, 1, 1, 1, 0, 0, 0, 0, 0, 0, 0, 0, 0, 0, 0, 0, 0, 0, 0, 0, 0, 0, 0, 0, 0, 0, 0, 0, 0, 0, 0]\n",
      "clss 17\n",
      "[0, 25, 57, 78, 112, 136, 174, 197, 223, 245, 285, 301, 337, 358, 382, 416, 452]\n",
      "src_txt 17\n",
      "['a university of iowa student has died nearly three months after a fall in rome in a suspected robbery attack in rome .', 'andrew mogni , 20 , from glen ellyn , illinois , had only just arrived for a semester program in italy when the incident happened in january .', 'he was flown back to chicago via air ambulance on march 20 , but he died on sunday .', 'andrew mogni , 20 , from glen ellyn , illinois , a university of iowa student has died nearly three months after a fall in rome in a suspected robbery', 'he was taken to a medical facility in the chicago area , close to his family home in glen ellyn .', \"he died on sunday at northwestern memorial hospital - medical examiner 's office spokesman frank shuftan says a cause of death wo n't be released until monday at the earliest .\", 'initial police reports indicated the fall was an accident but authorities are investigating the possibility that mogni was robbed .', \"on sunday , his cousin abby wrote online : ` this morning my cousin andrew 's soul was lifted up to heaven .\", 'initial police reports indicated the fall was an accident but authorities are investigating the possibility that mogni was robbed', '` at the beginning of january he went to rome to study aboard and on the way home from a party he was brutally attacked and thrown off a 40ft bridge and hit the concrete below .', \"` he was in a coma and in critical condition for months . '\", 'paula barnett , who said she is a close family friend , told my suburban life , that mogni had only been in the country for six hours when the incident happened .', 'she said he was was alone at the time of the alleged assault and personal items were stolen .', 'she added that he was in a non-medically induced coma , having suffered serious infection and internal bleeding .', 'mogni was a third-year finance major from glen ellyn , ill. , who was participating in a semester-long program at john cabot university .', \"mogni belonged to the school 's chapter of the sigma nu fraternity , reports the chicago tribune who posted a sign outside a building reading ` pray for mogni . '\", \"the fraternity 's iowa chapter announced sunday afternoon via twitter that a memorial service will be held on campus to remember mogni .\"]\n",
      "tgt_txt 402\n",
      "andrew mogni , 20 , from glen ellyn , illinois , had only just arrived for a semester program when the incident happened in january<q>he was flown back to chicago via air on march 20 but he died on sunday<q>initial police reports indicated the fall was an accident but authorities are investigating the possibility that mogni was robbed<q>his cousin claims he was attacked and thrown 40ft from a bridge\n"
     ]
    }
   ],
   "source": [
    "print(aa[0].keys())\n",
    "for k in aa[0].keys():\n",
    "    print(k, len(aa[0][k]) )\n",
    "    print(aa[0][k])"
   ]
  }
 ],
 "metadata": {
  "kernelspec": {
   "display_name": "pytorch_env",
   "language": "python",
   "name": "pytorch_env"
  },
  "language_info": {
   "codemirror_mode": {
    "name": "ipython",
    "version": 3
   },
   "file_extension": ".py",
   "mimetype": "text/x-python",
   "name": "python",
   "nbconvert_exporter": "python",
   "pygments_lexer": "ipython3",
   "version": "3.7.11"
  }
 },
 "nbformat": 4,
 "nbformat_minor": 5
}
