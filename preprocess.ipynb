{
 "cells": [
  {
   "cell_type": "code",
   "execution_count": 1,
   "id": "fcfe5124-4050-4c34-98e2-d2b9ba47d642",
   "metadata": {},
   "outputs": [],
   "source": [
    "import torch\n",
    "from torch.utils.data import Dataset, DataLoader, SequentialSampler\n",
    "import pandas as pd\n",
    "import numpy as np\n",
    "import h5py \n",
    "import pickle\n",
    "import os\n",
    "from tqdm import tqdm"
   ]
  },
  {
   "cell_type": "code",
   "execution_count": 2,
   "id": "4e398a1b-34ec-48b8-ab49-fe22a4508f1e",
   "metadata": {},
   "outputs": [
    {
     "name": "stdout",
     "output_type": "stream",
     "text": [
      "/home/bui.thuy/text_sum\n"
     ]
    }
   ],
   "source": [
    "!pwd\n",
    "work_dir = '~/text_sum/'\n",
    "data_folder = 'preprocessed/bert_data_cnndm_final/'\n",
    "\n",
    "\n",
    "aa = torch.load(data_folder + 'cnndm.test.0.bert.pt')"
   ]
  },
  {
   "cell_type": "code",
   "execution_count": 8,
   "id": "6a270714-3f3d-4acc-8147-e7a2ee343b7c",
   "metadata": {
    "tags": []
   },
   "outputs": [
    {
     "name": "stdout",
     "output_type": "stream",
     "text": [
      "<class 'list'>\n",
      "dict_keys(['src', 'tgt', 'src_sent_labels', 'segs', 'clss', 'src_txt', 'tgt_txt'])\n"
     ]
    }
   ],
   "source": [
    "# print(aa)\n",
    "print(type(aa))\n",
    "print(aa[0].keys())\n",
    "print(aa[0]['src'])"
   ]
  },
  {
   "cell_type": "code",
   "execution_count": 9,
   "id": "213d214f-cb24-4dcf-87cb-fa39d0215253",
   "metadata": {},
   "outputs": [
    {
     "name": "stdout",
     "output_type": "stream",
     "text": [
      "['preprocessed/bert_data_cnndm_final/cnndm.test.0.bert.pt', 'preprocessed/bert_data_cnndm_final/cnndm.test.5.bert.pt', 'preprocessed/bert_data_cnndm_final/cnndm.test.1.bert.pt', 'preprocessed/bert_data_cnndm_final/cnndm.test.3.bert.pt', 'preprocessed/bert_data_cnndm_final/cnndm.test.2.bert.pt', 'preprocessed/bert_data_cnndm_final/cnndm.test.4.bert.pt']\n"
     ]
    }
   ],
   "source": [
    "import glob\n",
    "\n",
    "# get all train pt files\n",
    "train_data_files = glob.glob(data_folder + '*train*.pt')\n",
    "test_data_files = glob.glob(data_folder + '*test*.pt')\n",
    "valid_data_files = glob.glob(data_folder + '*valid*.pt')\n",
    "\n",
    "print(test_data_files)\n",
    "# merge all pt file into 1 list"
   ]
  },
  {
   "cell_type": "code",
   "execution_count": 10,
   "id": "e96f9e24-3956-4c24-b076-6edc1acc1155",
   "metadata": {},
   "outputs": [],
   "source": [
    "def merge_pt(pt_files, field):\n",
    "  out_arr = None # numpy array\n",
    "\n",
    "  max_words_per_sample = 0\n",
    "  n_samples = 0\n",
    "  for fn in pt_files:\n",
    "    # print('processing ', fn)\n",
    "    temp_pt = torch.load(fn)\n",
    "    for pt in temp_pt:\n",
    "      max_words_per_sample = max(max_words_per_sample, len(pt[field]))\n",
    "      n_samples += 1\n",
    "\n",
    "  out_arr = -np.ones(shape = (n_samples, max_words_per_sample))\n",
    "  i = 0\n",
    "  for fn in pt_files:\n",
    "    temp_pt = torch.load(fn)\n",
    "    for pt in temp_pt:\n",
    "      out_arr[i, 0:len(pt[field])] = pt[field]\n",
    "      i+=1\n",
    "\n",
    "  return out_arr\n",
    "\n",
    "\n",
    "def merge_text_pt(pt_files, field):\n",
    "  # field = 'src_txt' or 'tgt_txt'\n",
    "  \n",
    "  out_list = []\n",
    "  for fn in pt_files:\n",
    "    print('processing ', fn)\n",
    "    temp_pt = torch.load(fn)\n",
    "    for pt in temp_pt:\n",
    "      out_list.append(pt[field])\n",
    "  return out_list\n",
    "\n",
    "# merged_src_test = merge_pt(test_data_files, 'src')\n",
    "# print(merged_src_test)\n",
    "  \n"
   ]
  },
  {
   "cell_type": "code",
   "execution_count": 11,
   "id": "0d0d2287-ed2a-4e95-9c9a-15a723741e19",
   "metadata": {},
   "outputs": [
    {
     "name": "stdout",
     "output_type": "stream",
     "text": [
      "/home/bui.thuy/text_sum\n",
      "bert_data  preprocessed  preprocess.ipynb  train.ipynb\n"
     ]
    }
   ],
   "source": [
    "!pwd\n",
    "!ls"
   ]
  },
  {
   "cell_type": "code",
   "execution_count": 16,
   "id": "18882ee3-b895-47e8-b348-9fd47fdfaf61",
   "metadata": {},
   "outputs": [
    {
     "name": "stdout",
     "output_type": "stream",
     "text": [
      "processing train_data\n",
      "processing key  src\n",
      "processing key  tgt\n",
      "processing key  src_sent_labels\n",
      "processing key  segs\n",
      "processing key  clss\n"
     ]
    }
   ],
   "source": [
    "# merge all numeric fields in pt files\n",
    "keys = list(aa[0].keys())[:-2] # ['src', 'tgt', 'src_sent_labels', 'segs', 'clss']\n",
    "\n",
    "# print('loading test_data')\n",
    "# with h5py.File(\"./preprocessed/test_data.hdf5\", \"w\") as data_file:\n",
    "#   for k in keys:\n",
    "#     print('processing key ', k)\n",
    "#     merged_test = merge_pt(test_data_files, k)\n",
    "#     data_file.create_dataset(name = k, data=merged_test)\n",
    "# data_file.close()\n",
    "\n",
    "\n",
    "# print('loading valid_data')\n",
    "# with h5py.File(\"./preprocessed/valid_data.hdf5\", \"w\") as data_file:\n",
    "#   for k in keys:\n",
    "#     print('processing key ', k)\n",
    "#     merged_valid = merge_pt(valid_data_files, k)\n",
    "#     data_file.create_dataset(name = k, data=merged_valid)\n",
    "# data_file.close()\n",
    "\n",
    "print('processing train_data')\n",
    "with h5py.File(\"./preprocessed/train_data.hdf5\", \"w\") as data_file:\n",
    "  for k in keys:\n",
    "    print('processing key ', k)\n",
    "    merged_train = merge_pt(train_data_files, k)\n",
    "    data_file.create_dataset(name = k, data=merged_train)\n",
    "data_file.close()"
   ]
  },
  {
   "cell_type": "code",
   "execution_count": 17,
   "id": "89062a82-126c-4832-b7fd-10bddefeadd8",
   "metadata": {},
   "outputs": [
    {
     "name": "stdout",
     "output_type": "stream",
     "text": [
      "clss\n",
      "segs\n",
      "src\n",
      "src_sent_labels\n",
      "tgt\n",
      "[[ 1.0100e+02  5.5190e+03  5.2080e+03 ... -1.0000e+00 -1.0000e+00\n",
      "  -1.0000e+00]\n",
      " [ 1.0100e+02  6.1590e+03  2.4246e+04 ... -1.0000e+00 -1.0000e+00\n",
      "  -1.0000e+00]\n",
      " [ 1.0100e+02  1.0060e+03  1.3229e+04 ... -1.0000e+00 -1.0000e+00\n",
      "  -1.0000e+00]\n",
      " [ 1.0100e+02  4.3110e+03  6.5920e+03 ... -1.0000e+00 -1.0000e+00\n",
      "  -1.0000e+00]\n",
      " [ 1.0100e+02  5.8400e+03  2.9627e+04 ... -1.0000e+00 -1.0000e+00\n",
      "  -1.0000e+00]\n",
      " [ 1.0100e+02  2.0090e+03  1.0050e+03 ... -1.0000e+00 -1.0000e+00\n",
      "  -1.0000e+00]]\n",
      "(287083, 3831)\n"
     ]
    }
   ],
   "source": [
    "data_dir = \"./preprocessed/\"\n",
    "train_path = data_dir + 'train_data.hdf5'\n",
    "test_path = data_dir + 'test_data.hdf5'\n",
    "valid_path = data_dir + 'valid_data.hdf5'\n",
    "\n",
    "f = h5py.File(train_path, 'r')\n",
    "for key in f.keys():\n",
    "    print(key)\n",
    "\n",
    "test_src = f['src']\n",
    "print(test_src[:6,:])\n",
    "print(test_src.shape)\n"
   ]
  },
  {
   "cell_type": "code",
   "execution_count": 20,
   "id": "94e1be2f-5277-4f7b-a7e4-119dbfc165fb",
   "metadata": {},
   "outputs": [
    {
     "name": "stdout",
     "output_type": "stream",
     "text": [
      "merged_train size in mb 8798.519784\n"
     ]
    }
   ],
   "source": [
    "import sys\n",
    "sys.getsizeof(merged_train)\n",
    "\n",
    "merged_train = merge_pt(train_data_files, 'src')\n",
    "print('merged_train size in mb', merged_train.nbytes / 1000000)\n",
    "\n",
    "del merged_train"
   ]
  },
  {
   "cell_type": "code",
   "execution_count": null,
   "id": "aabe0869-bff6-4e1f-950e-00f9406de238",
   "metadata": {},
   "outputs": [],
   "source": [
    "train_data_file = './cnn_dailymail/train.csv'\n",
    "train_data = pd.read_csv(train_data_file)\n",
    "vocab = {}\n",
    "\n",
    "for idx in train_data.shape[0]:\n",
    "    article = train_data.iloc[idx]['article']\n",
    "    summary = train_data.iloc[idx]['highlights']\n",
    "    \n"
   ]
  },
  {
   "cell_type": "code",
   "execution_count": 3,
   "id": "de5b6e4a-a935-4050-af87-fbff989a181b",
   "metadata": {},
   "outputs": [],
   "source": [
    "from transformers import BertTokenizer, BertModel"
   ]
  },
  {
   "cell_type": "code",
   "execution_count": 4,
   "id": "e86ea3c1-86be-4c0a-988e-87a8e2efba13",
   "metadata": {},
   "outputs": [
    {
     "data": {
      "application/vnd.jupyter.widget-view+json": {
       "model_id": "f05dcb6bd5ae414c83b9b3bb6bb93ed8",
       "version_major": 2,
       "version_minor": 0
      },
      "text/plain": [
       "Downloading:   0%|          | 0.00/226k [00:00<?, ?B/s]"
      ]
     },
     "metadata": {},
     "output_type": "display_data"
    },
    {
     "data": {
      "application/vnd.jupyter.widget-view+json": {
       "model_id": "d98679b9e30f41789e029a4ef1fcece9",
       "version_major": 2,
       "version_minor": 0
      },
      "text/plain": [
       "Downloading:   0%|          | 0.00/28.0 [00:00<?, ?B/s]"
      ]
     },
     "metadata": {},
     "output_type": "display_data"
    },
    {
     "data": {
      "application/vnd.jupyter.widget-view+json": {
       "model_id": "0cb0cac607254a998416cf0f2c06e09a",
       "version_major": 2,
       "version_minor": 0
      },
      "text/plain": [
       "Downloading:   0%|          | 0.00/455k [00:00<?, ?B/s]"
      ]
     },
     "metadata": {},
     "output_type": "display_data"
    },
    {
     "data": {
      "application/vnd.jupyter.widget-view+json": {
       "model_id": "53e43574c96c4557aa596103da8bbe9f",
       "version_major": 2,
       "version_minor": 0
      },
      "text/plain": [
       "Downloading:   0%|          | 0.00/570 [00:00<?, ?B/s]"
      ]
     },
     "metadata": {},
     "output_type": "display_data"
    }
   ],
   "source": [
    "# try \n",
    "\n",
    "tokenizer = BertTokenizer.from_pretrained('bert-base-uncased', do_lower=True)"
   ]
  },
  {
   "cell_type": "code",
   "execution_count": 20,
   "id": "5b2f9f6e-4802-432d-a35a-1ec266cd62f8",
   "metadata": {},
   "outputs": [
    {
     "name": "stdout",
     "output_type": "stream",
     "text": [
      "dict_keys(['src', 'tgt', 'src_sent_labels', 'segs', 'clss', 'src_txt', 'tgt_txt'])\n"
     ]
    }
   ],
   "source": [
    "print(aa[0].keys())"
   ]
  },
  {
   "cell_type": "code",
   "execution_count": 39,
   "id": "065a3494-243d-4cf6-ac41-d0f46e6c32f6",
   "metadata": {},
   "outputs": [
    {
     "name": "stdout",
     "output_type": "stream",
     "text": [
      "479\n",
      "a university of iowa student has died nearly three months after a fall in rome in a suspected robbery attack in rome .\n",
      "andrew mogni , 20 , from glen ellyn , illinois , had only just arrived for a semester program in italy when the incident happened in january .\n",
      "[101, 1037, 2118, 1997, 5947, 3076, 2038, 2351, 3053, 2093, 2706, 2044, 1037, 2991, 1999, 4199, 1999, 1037, 6878, 13742, 2886, 1999, 4199, 1012, 102, 101, 4080, 9587, 29076, 1010, 2322, 1010, 2013, 8904, 3449, 9644, 1010, 4307, 1010, 2018, 2069, 2074, 3369, 2005, 1037, 13609, 2565, 1999, 3304, 2043, 1996, 5043, 3047, 1999, 2254, 1012, 102, 101, 2002, 2001, 10583, 2067, 2000, 3190, 3081, 2250, 10771, 2006, 2233, 2322, 1010, 2021, 2002, 2351, 2006, 4465, 1012, 102, 101, 4080, 9587, 29076, 1010, 2322, 1010, 2013, 8904, 3449, 9644, 1010, 4307, 1010, 1037, 2118, 1997, 5947, 3076, 2038, 2351, 3053, 2093, 2706, 2044, 1037, 2991, 1999, 4199, 1999, 1037, 6878, 13742, 102, 101, 2002, 2001, 2579, 2000, 1037, 2966, 4322, 1999, 1996, 3190, 2181, 1010, 2485, 2000, 2010, 2155, 2188, 1999, 8904, 3449, 9644, 1012, 102, 101, 2002, 2351, 2006, 4465, 2012, 7855, 3986, 2902, 1011, 2966, 19684, 1005, 1055, 2436, 14056, 3581, 18454, 6199, 2319, 2758, 1037, 3426, 1997, 2331, 24185, 1050, 1005, 1056, 2022, 2207, 2127, 6928, 2012, 1996, 5700, 1012, 102, 101, 3988, 2610, 4311, 5393, 1996, 2991, 2001, 2019, 4926, 2021, 4614, 2024, 11538, 1996, 6061, 2008, 9587, 29076, 2001, 20114, 1012, 102, 101, 2006, 4465, 1010, 2010, 5542, 9460, 2626, 3784, 1024, 1036, 2023, 2851, 2026, 5542, 4080, 1005, 1055, 3969, 2001, 4196, 2039, 2000, 6014, 1012, 102, 101, 3988, 2610, 4311, 5393, 1996, 2991, 2001, 2019, 4926, 2021, 4614, 2024, 11538, 1996, 6061, 2008, 9587, 29076, 2001, 20114, 102, 101, 1036, 2012, 1996, 2927, 1997, 2254, 2002, 2253, 2000, 4199, 2000, 2817, 7548, 1998, 2006, 1996, 2126, 2188, 2013, 1037, 2283, 2002, 2001, 23197, 4457, 1998, 6908, 2125, 1037, 2871, 6199, 2958, 1998, 2718, 1996, 5509, 2917, 1012, 102, 101, 1036, 2002, 2001, 1999, 1037, 16571, 1998, 1999, 4187, 4650, 2005, 2706, 1012, 1005, 102, 101, 13723, 20073, 1010, 2040, 2056, 2016, 2003, 1037, 2485, 2155, 2767, 1010, 2409, 2026, 9282, 2166, 1010, 2008, 9587, 29076, 2018, 2069, 2042, 1999, 1996, 2406, 2005, 2416, 2847, 2043, 1996, 5043, 3047, 1012, 102, 101, 2016, 2056, 2002, 2001, 2001, 2894, 2012, 1996, 2051, 1997, 1996, 6884, 6101, 1998, 3167, 5167, 2020, 7376, 1012, 102, 101, 2016, 2794, 2008, 2002, 2001, 1999, 1037, 2512, 1011, 2966, 2135, 10572, 16571, 1010, 2383, 4265, 3809, 8985, 1998, 4722, 9524, 1012, 102, 101, 9587, 29076, 2001, 1037, 2353, 1011, 2095, 5446, 2350, 2013, 8904, 3449, 9644, 1010, 5665, 1012, 1010, 2040, 2001, 8019, 1999, 1037, 13609, 1011, 2146, 2565, 2012, 2198, 9298, 4140, 2118, 1012, 102, 101, 9587, 29076, 6272, 2000, 1996, 2082, 1005, 1055, 3127, 1997, 1996, 13201, 16371, 13577, 1010, 4311, 1996, 3190, 10969, 2040, 6866, 1037, 3696, 2648, 1037, 2311, 3752, 1036, 11839, 2005, 9587, 29076, 1012, 1005, 102, 101, 1996, 13577, 1005, 1055, 5947, 3127, 2623, 4465, 5027, 3081, 10474, 2008, 1037, 3986, 2326, 2097, 2022, 2218, 2006, 3721, 2000, 3342, 9587, 29076, 1012, 102]\n",
      "479\n",
      "[101, 1037, 2118, 1997, 5947, 3076, 2038, 2351, 3053, 2093, 2706, 2044, 1037, 2991, 1999, 4199, 1999, 1037, 6878, 13742, 2886, 1999, 4199, 1012, 102, 101, 4080, 9587, 29076, 1010, 2322, 1010, 2013, 8904, 3449, 9644, 1010, 4307, 1010, 2018, 2069, 2074, 3369, 2005, 1037, 13609, 2565, 1999, 3304, 2043, 1996, 5043, 3047, 1999, 2254, 1012, 102, 101, 2002, 2001, 10583, 2067, 2000, 3190, 3081, 2250, 10771, 2006, 2233, 2322, 1010, 2021, 2002, 2351, 2006, 4465, 1012, 102, 101, 4080, 9587, 29076, 1010, 2322, 1010, 2013, 8904, 3449, 9644, 1010, 4307, 1010, 1037, 2118, 1997, 5947, 3076, 2038, 2351, 3053, 2093, 2706, 2044, 1037, 2991, 1999, 4199, 1999, 1037, 6878, 13742, 102, 101, 2002, 2001, 2579, 2000, 1037, 2966, 4322, 1999, 1996, 3190, 2181, 1010, 2485, 2000, 2010, 2155, 2188, 1999, 8904, 3449, 9644, 1012, 102, 101, 2002, 2351, 2006, 4465, 2012, 7855, 3986, 2902, 1011, 2966, 19684, 1005, 2015, 2436, 14056, 3581, 18454, 6199, 2319, 2758, 1037, 3426, 1997, 2331, 24185, 1050, 29618, 2102, 2022, 2207, 2127, 6928, 2012, 1996, 5700, 1012, 102, 101, 3988, 2610, 4311, 5393, 1996, 2991, 2001, 2019, 4926, 2021, 4614, 2024, 11538, 1996, 6061, 2008, 9587, 29076, 2001, 20114, 1012, 102, 101, 2006, 4465, 1010, 2010, 5542, 9460, 2626, 3784, 1024, 1036, 2023, 2851, 2026, 5542, 4080, 1005, 2015, 3969, 2001, 4196, 2039, 2000, 6014, 1012, 102, 101, 3988, 2610, 4311, 5393, 1996, 2991, 2001, 2019, 4926, 2021, 4614, 2024, 11538, 1996, 6061, 2008, 9587, 29076, 2001, 20114, 102, 101, 1036, 2012, 1996, 2927, 1997, 2254, 2002, 2253, 2000, 4199, 2000, 2817, 7548, 1998, 2006, 1996, 2126, 2188, 2013, 1037, 2283, 2002, 2001, 23197, 4457, 1998, 6908, 2125, 1037, 2871, 6199, 2958, 1998, 2718, 1996, 5509, 2917, 1012, 102, 101, 1036, 2002, 2001, 1999, 1037, 16571, 1998, 1999, 4187, 4650, 2005, 2706, 1012, 1005, 102, 101, 13723, 20073, 1010, 2040, 2056, 2016, 2003, 1037, 2485, 2155, 2767, 1010, 2409, 2026, 9282, 2166, 1010, 2008, 9587, 29076, 2018, 2069, 2042, 1999, 1996, 2406, 2005, 2416, 2847, 2043, 1996, 5043, 3047, 1012, 102, 101, 2016, 2056, 2002, 2001, 2001, 2894, 2012, 1996, 2051, 1997, 1996, 6884, 6101, 1998, 3167, 5167, 2020, 7376, 1012, 102, 101, 2016, 2794, 2008, 2002, 2001, 1999, 1037, 2512, 29624, 7583, 15004, 10572, 16571, 1010, 2383, 4265, 3809, 8985, 1998, 4722, 9524, 1012, 102, 101, 9587, 29076, 2001, 1037, 2353, 29624, 29100, 5446, 2350, 2013, 8904, 3449, 9644, 1010, 5665, 29625, 1010, 2040, 2001, 8019, 1999, 1037, 13609, 29624, 10052, 2565, 2012, 2198, 9298, 4140, 2118, 1012, 102, 101, 9587, 29076, 6272, 2000, 1996, 2082, 1005, 2015, 3127, 1997, 1996, 13201, 16371, 13577, 1010, 4311, 1996, 3190, 10969, 2040, 6866, 1037, 3696, 2648, 1037, 2311, 3752, 1036, 11839, 2005, 9587, 29076, 1012, 1005, 102, 101, 1996, 13577, 1005, 2015, 5947, 3127, 2623, 4465, 5027, 3081, 10474, 2008, 1037, 3986, 2326, 2097, 2022, 2218, 2006, 3721, 2000, 3342, 9587, 29076, 1012, 102]\n",
      "479\n",
      "149 2015 1055\n",
      "# # s\n",
      "s\n",
      "163 29618 1005\n",
      "# # '\n",
      "'\n",
      "164 2102 1056\n",
      "# # t\n",
      "t\n",
      "214 2015 1055\n",
      "# # s\n",
      "s\n",
      "367 29624 1011\n",
      "# # -\n",
      "-\n",
      "368 7583 2966\n",
      "# # m e d\n",
      "m e d i c a l\n",
      "369 15004 2135\n",
      "# # i c a l l y\n",
      "# # l y\n",
      "388 29624 1011\n",
      "# # -\n",
      "-\n",
      "389 29100 2095\n",
      "# # y e a r\n",
      "y e a r\n",
      "398 29625 1012\n",
      "# #.\n",
      ".\n",
      "406 29624 1011\n",
      "# # -\n",
      "-\n",
      "407 10052 2146\n",
      "# # l o n g\n",
      "l o n g\n",
      "424 2015 1055\n",
      "# # s\n",
      "s\n",
      "456 2015 1055\n",
      "# # s\n",
      "s\n"
     ]
    }
   ],
   "source": [
    "sents = aa[0]['src_txt']\n",
    "token_ids = aa[0]['src']\n",
    "\n",
    "print(len(token_ids))\n",
    "# print(token_ids[0])\n",
    "print(sents[0])\n",
    "print(sents[1])\n",
    "\n",
    "unflat = [tokenizer.encode(s) for s in sents]\n",
    "flat_list = [item for sublist in unflat for item in sublist]\n",
    "print(flat_list)\n",
    "print(len(flat_list))\n",
    "\n",
    "print(token_ids)\n",
    "print(len(token_ids))\n",
    "\n",
    "for i in range(len(flat_list)):\n",
    "    if flat_list[i] != token_ids[i]:\n",
    "        print(i, token_ids[i], flat_list[i] )\n",
    "        print(tokenizer.decode(token_ids[i]))\n",
    "        print(tokenizer.decode(flat_list[i]))"
   ]
  },
  {
   "cell_type": "code",
   "execution_count": 23,
   "id": "e848bbcd-32a0-4516-895c-fe94f83f68c4",
   "metadata": {},
   "outputs": [
    {
     "name": "stdout",
     "output_type": "stream",
     "text": [
      "dict_keys(['src', 'tgt', 'src_sent_labels', 'segs', 'clss', 'src_txt', 'tgt_txt'])\n",
      "src 479\n",
      "[101, 1037, 2118, 1997, 5947, 3076, 2038, 2351, 3053, 2093, 2706, 2044, 1037, 2991, 1999, 4199, 1999, 1037, 6878, 13742, 2886, 1999, 4199, 1012, 102, 101, 4080, 9587, 29076, 1010, 2322, 1010, 2013, 8904, 3449, 9644, 1010, 4307, 1010, 2018, 2069, 2074, 3369, 2005, 1037, 13609, 2565, 1999, 3304, 2043, 1996, 5043, 3047, 1999, 2254, 1012, 102, 101, 2002, 2001, 10583, 2067, 2000, 3190, 3081, 2250, 10771, 2006, 2233, 2322, 1010, 2021, 2002, 2351, 2006, 4465, 1012, 102, 101, 4080, 9587, 29076, 1010, 2322, 1010, 2013, 8904, 3449, 9644, 1010, 4307, 1010, 1037, 2118, 1997, 5947, 3076, 2038, 2351, 3053, 2093, 2706, 2044, 1037, 2991, 1999, 4199, 1999, 1037, 6878, 13742, 102, 101, 2002, 2001, 2579, 2000, 1037, 2966, 4322, 1999, 1996, 3190, 2181, 1010, 2485, 2000, 2010, 2155, 2188, 1999, 8904, 3449, 9644, 1012, 102, 101, 2002, 2351, 2006, 4465, 2012, 7855, 3986, 2902, 1011, 2966, 19684, 1005, 2015, 2436, 14056, 3581, 18454, 6199, 2319, 2758, 1037, 3426, 1997, 2331, 24185, 1050, 29618, 2102, 2022, 2207, 2127, 6928, 2012, 1996, 5700, 1012, 102, 101, 3988, 2610, 4311, 5393, 1996, 2991, 2001, 2019, 4926, 2021, 4614, 2024, 11538, 1996, 6061, 2008, 9587, 29076, 2001, 20114, 1012, 102, 101, 2006, 4465, 1010, 2010, 5542, 9460, 2626, 3784, 1024, 1036, 2023, 2851, 2026, 5542, 4080, 1005, 2015, 3969, 2001, 4196, 2039, 2000, 6014, 1012, 102, 101, 3988, 2610, 4311, 5393, 1996, 2991, 2001, 2019, 4926, 2021, 4614, 2024, 11538, 1996, 6061, 2008, 9587, 29076, 2001, 20114, 102, 101, 1036, 2012, 1996, 2927, 1997, 2254, 2002, 2253, 2000, 4199, 2000, 2817, 7548, 1998, 2006, 1996, 2126, 2188, 2013, 1037, 2283, 2002, 2001, 23197, 4457, 1998, 6908, 2125, 1037, 2871, 6199, 2958, 1998, 2718, 1996, 5509, 2917, 1012, 102, 101, 1036, 2002, 2001, 1999, 1037, 16571, 1998, 1999, 4187, 4650, 2005, 2706, 1012, 1005, 102, 101, 13723, 20073, 1010, 2040, 2056, 2016, 2003, 1037, 2485, 2155, 2767, 1010, 2409, 2026, 9282, 2166, 1010, 2008, 9587, 29076, 2018, 2069, 2042, 1999, 1996, 2406, 2005, 2416, 2847, 2043, 1996, 5043, 3047, 1012, 102, 101, 2016, 2056, 2002, 2001, 2001, 2894, 2012, 1996, 2051, 1997, 1996, 6884, 6101, 1998, 3167, 5167, 2020, 7376, 1012, 102, 101, 2016, 2794, 2008, 2002, 2001, 1999, 1037, 2512, 29624, 7583, 15004, 10572, 16571, 1010, 2383, 4265, 3809, 8985, 1998, 4722, 9524, 1012, 102, 101, 9587, 29076, 2001, 1037, 2353, 29624, 29100, 5446, 2350, 2013, 8904, 3449, 9644, 1010, 5665, 29625, 1010, 2040, 2001, 8019, 1999, 1037, 13609, 29624, 10052, 2565, 2012, 2198, 9298, 4140, 2118, 1012, 102, 101, 9587, 29076, 6272, 2000, 1996, 2082, 1005, 2015, 3127, 1997, 1996, 13201, 16371, 13577, 1010, 4311, 1996, 3190, 10969, 2040, 6866, 1037, 3696, 2648, 1037, 2311, 3752, 1036, 11839, 2005, 9587, 29076, 1012, 1005, 102, 101, 1996, 13577, 1005, 2015, 5947, 3127, 2623, 4465, 5027, 3081, 10474, 2008, 1037, 3986, 2326, 2097, 2022, 2218, 2006, 3721, 2000, 3342, 9587, 29076, 1012, 102]\n",
      "tgt 81\n",
      "[1, 4080, 9587, 29076, 1010, 2322, 1010, 2013, 8904, 3449, 9644, 1010, 4307, 1010, 2018, 2069, 2074, 3369, 2005, 1037, 13609, 2565, 2043, 1996, 5043, 3047, 1999, 2254, 3, 2002, 2001, 10583, 2067, 2000, 3190, 3081, 2250, 2006, 2233, 2322, 2021, 2002, 2351, 2006, 4465, 3, 3988, 2610, 4311, 5393, 1996, 2991, 2001, 2019, 4926, 2021, 4614, 2024, 11538, 1996, 6061, 2008, 9587, 29076, 2001, 20114, 3, 2010, 5542, 4447, 2002, 2001, 4457, 1998, 6908, 2871, 6199, 2013, 1037, 2958, 2]\n",
      "src_sent_labels 17\n",
      "[0, 1, 1, 0, 0, 0, 1, 0, 0, 0, 0, 0, 0, 0, 0, 0, 0]\n",
      "segs 479\n",
      "[0, 0, 0, 0, 0, 0, 0, 0, 0, 0, 0, 0, 0, 0, 0, 0, 0, 0, 0, 0, 0, 0, 0, 0, 0, 1, 1, 1, 1, 1, 1, 1, 1, 1, 1, 1, 1, 1, 1, 1, 1, 1, 1, 1, 1, 1, 1, 1, 1, 1, 1, 1, 1, 1, 1, 1, 1, 0, 0, 0, 0, 0, 0, 0, 0, 0, 0, 0, 0, 0, 0, 0, 0, 0, 0, 0, 0, 0, 1, 1, 1, 1, 1, 1, 1, 1, 1, 1, 1, 1, 1, 1, 1, 1, 1, 1, 1, 1, 1, 1, 1, 1, 1, 1, 1, 1, 1, 1, 1, 1, 1, 1, 0, 0, 0, 0, 0, 0, 0, 0, 0, 0, 0, 0, 0, 0, 0, 0, 0, 0, 0, 0, 0, 0, 0, 0, 1, 1, 1, 1, 1, 1, 1, 1, 1, 1, 1, 1, 1, 1, 1, 1, 1, 1, 1, 1, 1, 1, 1, 1, 1, 1, 1, 1, 1, 1, 1, 1, 1, 1, 1, 1, 1, 1, 0, 0, 0, 0, 0, 0, 0, 0, 0, 0, 0, 0, 0, 0, 0, 0, 0, 0, 0, 0, 0, 0, 0, 1, 1, 1, 1, 1, 1, 1, 1, 1, 1, 1, 1, 1, 1, 1, 1, 1, 1, 1, 1, 1, 1, 1, 1, 1, 1, 0, 0, 0, 0, 0, 0, 0, 0, 0, 0, 0, 0, 0, 0, 0, 0, 0, 0, 0, 0, 0, 0, 1, 1, 1, 1, 1, 1, 1, 1, 1, 1, 1, 1, 1, 1, 1, 1, 1, 1, 1, 1, 1, 1, 1, 1, 1, 1, 1, 1, 1, 1, 1, 1, 1, 1, 1, 1, 1, 1, 1, 1, 0, 0, 0, 0, 0, 0, 0, 0, 0, 0, 0, 0, 0, 0, 0, 0, 1, 1, 1, 1, 1, 1, 1, 1, 1, 1, 1, 1, 1, 1, 1, 1, 1, 1, 1, 1, 1, 1, 1, 1, 1, 1, 1, 1, 1, 1, 1, 1, 1, 1, 1, 1, 0, 0, 0, 0, 0, 0, 0, 0, 0, 0, 0, 0, 0, 0, 0, 0, 0, 0, 0, 0, 0, 1, 1, 1, 1, 1, 1, 1, 1, 1, 1, 1, 1, 1, 1, 1, 1, 1, 1, 1, 1, 1, 1, 1, 1, 0, 0, 0, 0, 0, 0, 0, 0, 0, 0, 0, 0, 0, 0, 0, 0, 0, 0, 0, 0, 0, 0, 0, 0, 0, 0, 0, 0, 0, 0, 0, 0, 0, 0, 1, 1, 1, 1, 1, 1, 1, 1, 1, 1, 1, 1, 1, 1, 1, 1, 1, 1, 1, 1, 1, 1, 1, 1, 1, 1, 1, 1, 1, 1, 1, 1, 1, 1, 1, 1, 0, 0, 0, 0, 0, 0, 0, 0, 0, 0, 0, 0, 0, 0, 0, 0, 0, 0, 0, 0, 0, 0, 0, 0, 0, 0, 0]\n",
      "clss 17\n",
      "[0, 25, 57, 78, 112, 136, 174, 197, 223, 245, 285, 301, 337, 358, 382, 416, 452]\n",
      "src_txt 17\n",
      "['a university of iowa student has died nearly three months after a fall in rome in a suspected robbery attack in rome .', 'andrew mogni , 20 , from glen ellyn , illinois , had only just arrived for a semester program in italy when the incident happened in january .', 'he was flown back to chicago via air ambulance on march 20 , but he died on sunday .', 'andrew mogni , 20 , from glen ellyn , illinois , a university of iowa student has died nearly three months after a fall in rome in a suspected robbery', 'he was taken to a medical facility in the chicago area , close to his family home in glen ellyn .', \"he died on sunday at northwestern memorial hospital - medical examiner 's office spokesman frank shuftan says a cause of death wo n't be released until monday at the earliest .\", 'initial police reports indicated the fall was an accident but authorities are investigating the possibility that mogni was robbed .', \"on sunday , his cousin abby wrote online : ` this morning my cousin andrew 's soul was lifted up to heaven .\", 'initial police reports indicated the fall was an accident but authorities are investigating the possibility that mogni was robbed', '` at the beginning of january he went to rome to study aboard and on the way home from a party he was brutally attacked and thrown off a 40ft bridge and hit the concrete below .', \"` he was in a coma and in critical condition for months . '\", 'paula barnett , who said she is a close family friend , told my suburban life , that mogni had only been in the country for six hours when the incident happened .', 'she said he was was alone at the time of the alleged assault and personal items were stolen .', 'she added that he was in a non-medically induced coma , having suffered serious infection and internal bleeding .', 'mogni was a third-year finance major from glen ellyn , ill. , who was participating in a semester-long program at john cabot university .', \"mogni belonged to the school 's chapter of the sigma nu fraternity , reports the chicago tribune who posted a sign outside a building reading ` pray for mogni . '\", \"the fraternity 's iowa chapter announced sunday afternoon via twitter that a memorial service will be held on campus to remember mogni .\"]\n",
      "tgt_txt 402\n",
      "andrew mogni , 20 , from glen ellyn , illinois , had only just arrived for a semester program when the incident happened in january<q>he was flown back to chicago via air on march 20 but he died on sunday<q>initial police reports indicated the fall was an accident but authorities are investigating the possibility that mogni was robbed<q>his cousin claims he was attacked and thrown 40ft from a bridge\n"
     ]
    }
   ],
   "source": [
    "print(aa[0].keys())\n",
    "for k in aa[0].keys():\n",
    "    print(k, len(aa[0][k]) )\n",
    "    print(aa[0][k])"
   ]
  }
 ],
 "metadata": {
  "kernelspec": {
   "display_name": "pytorch_env",
   "language": "python",
   "name": "pytorch_env"
  },
  "language_info": {
   "codemirror_mode": {
    "name": "ipython",
    "version": 3
   },
   "file_extension": ".py",
   "mimetype": "text/x-python",
   "name": "python",
   "nbconvert_exporter": "python",
   "pygments_lexer": "ipython3",
   "version": "3.7.11"
  }
 },
 "nbformat": 4,
 "nbformat_minor": 5
}
