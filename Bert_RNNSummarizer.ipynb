{
  "cells": [
    {
      "cell_type": "markdown",
      "source": [
        ""
      ],
      "metadata": {
        "id": "rXgzOA17mQRP"
      }
    },
    {
      "cell_type": "code",
      "source": [
        "!pip install transformers\n",
        "!pip install GPUtil\n",
        "!pip install rouge\n",
        "!pip install datasets\n",
        "!pip install rouge_score\n"
      ],
      "metadata": {
        "id": "fH1LPg4nR9YK",
        "colab": {
          "base_uri": "https://localhost:8080/"
        },
        "outputId": "440786b6-c6b4-4a80-c92d-8d592732f814"
      },
      "execution_count": null,
      "outputs": [
        {
          "output_type": "stream",
          "name": "stdout",
          "text": [
            "Collecting transformers\n",
            "  Downloading transformers-4.18.0-py3-none-any.whl (4.0 MB)\n",
            "\u001b[K     |████████████████████████████████| 4.0 MB 23.4 MB/s \n",
            "\u001b[?25hRequirement already satisfied: requests in /usr/local/lib/python3.7/dist-packages (from transformers) (2.23.0)\n",
            "Requirement already satisfied: regex!=2019.12.17 in /usr/local/lib/python3.7/dist-packages (from transformers) (2019.12.20)\n",
            "Requirement already satisfied: filelock in /usr/local/lib/python3.7/dist-packages (from transformers) (3.6.0)\n",
            "Requirement already satisfied: importlib-metadata in /usr/local/lib/python3.7/dist-packages (from transformers) (4.11.3)\n",
            "Requirement already satisfied: tqdm>=4.27 in /usr/local/lib/python3.7/dist-packages (from transformers) (4.64.0)\n",
            "Collecting pyyaml>=5.1\n",
            "  Downloading PyYAML-6.0-cp37-cp37m-manylinux_2_5_x86_64.manylinux1_x86_64.manylinux_2_12_x86_64.manylinux2010_x86_64.whl (596 kB)\n",
            "\u001b[K     |████████████████████████████████| 596 kB 58.3 MB/s \n",
            "\u001b[?25hRequirement already satisfied: packaging>=20.0 in /usr/local/lib/python3.7/dist-packages (from transformers) (21.3)\n",
            "Collecting tokenizers!=0.11.3,<0.13,>=0.11.1\n",
            "  Downloading tokenizers-0.12.1-cp37-cp37m-manylinux_2_12_x86_64.manylinux2010_x86_64.whl (6.6 MB)\n",
            "\u001b[K     |████████████████████████████████| 6.6 MB 60.2 MB/s \n",
            "\u001b[?25hRequirement already satisfied: numpy>=1.17 in /usr/local/lib/python3.7/dist-packages (from transformers) (1.21.6)\n",
            "Collecting huggingface-hub<1.0,>=0.1.0\n",
            "  Downloading huggingface_hub-0.5.1-py3-none-any.whl (77 kB)\n",
            "\u001b[K     |████████████████████████████████| 77 kB 6.0 MB/s \n",
            "\u001b[?25hCollecting sacremoses\n",
            "  Downloading sacremoses-0.0.49-py3-none-any.whl (895 kB)\n",
            "\u001b[K     |████████████████████████████████| 895 kB 77.3 MB/s \n",
            "\u001b[?25hRequirement already satisfied: typing-extensions>=3.7.4.3 in /usr/local/lib/python3.7/dist-packages (from huggingface-hub<1.0,>=0.1.0->transformers) (4.1.1)\n",
            "Requirement already satisfied: pyparsing!=3.0.5,>=2.0.2 in /usr/local/lib/python3.7/dist-packages (from packaging>=20.0->transformers) (3.0.8)\n",
            "Requirement already satisfied: zipp>=0.5 in /usr/local/lib/python3.7/dist-packages (from importlib-metadata->transformers) (3.8.0)\n",
            "Requirement already satisfied: urllib3!=1.25.0,!=1.25.1,<1.26,>=1.21.1 in /usr/local/lib/python3.7/dist-packages (from requests->transformers) (1.24.3)\n",
            "Requirement already satisfied: chardet<4,>=3.0.2 in /usr/local/lib/python3.7/dist-packages (from requests->transformers) (3.0.4)\n",
            "Requirement already satisfied: idna<3,>=2.5 in /usr/local/lib/python3.7/dist-packages (from requests->transformers) (2.10)\n",
            "Requirement already satisfied: certifi>=2017.4.17 in /usr/local/lib/python3.7/dist-packages (from requests->transformers) (2021.10.8)\n",
            "Requirement already satisfied: click in /usr/local/lib/python3.7/dist-packages (from sacremoses->transformers) (7.1.2)\n",
            "Requirement already satisfied: six in /usr/local/lib/python3.7/dist-packages (from sacremoses->transformers) (1.15.0)\n",
            "Requirement already satisfied: joblib in /usr/local/lib/python3.7/dist-packages (from sacremoses->transformers) (1.1.0)\n",
            "Installing collected packages: pyyaml, tokenizers, sacremoses, huggingface-hub, transformers\n",
            "  Attempting uninstall: pyyaml\n",
            "    Found existing installation: PyYAML 3.13\n",
            "    Uninstalling PyYAML-3.13:\n",
            "      Successfully uninstalled PyYAML-3.13\n",
            "Successfully installed huggingface-hub-0.5.1 pyyaml-6.0 sacremoses-0.0.49 tokenizers-0.12.1 transformers-4.18.0\n",
            "Collecting GPUtil\n",
            "  Downloading GPUtil-1.4.0.tar.gz (5.5 kB)\n",
            "Building wheels for collected packages: GPUtil\n",
            "  Building wheel for GPUtil (setup.py) ... \u001b[?25l\u001b[?25hdone\n",
            "  Created wheel for GPUtil: filename=GPUtil-1.4.0-py3-none-any.whl size=7411 sha256=3fadd99e605d8342dfb264bdda177aa0369874ff80cced89accc676c74f61322\n",
            "  Stored in directory: /root/.cache/pip/wheels/6e/f8/83/534c52482d6da64622ddbf72cd93c35d2ef2881b78fd08ff0c\n",
            "Successfully built GPUtil\n",
            "Installing collected packages: GPUtil\n",
            "Successfully installed GPUtil-1.4.0\n",
            "Collecting rouge\n",
            "  Downloading rouge-1.0.1-py3-none-any.whl (13 kB)\n",
            "Requirement already satisfied: six in /usr/local/lib/python3.7/dist-packages (from rouge) (1.15.0)\n",
            "Installing collected packages: rouge\n",
            "Successfully installed rouge-1.0.1\n",
            "Collecting datasets\n",
            "  Downloading datasets-2.1.0-py3-none-any.whl (325 kB)\n",
            "\u001b[K     |████████████████████████████████| 325 kB 30.2 MB/s \n",
            "\u001b[?25hCollecting aiohttp\n",
            "  Downloading aiohttp-3.8.1-cp37-cp37m-manylinux_2_5_x86_64.manylinux1_x86_64.manylinux_2_12_x86_64.manylinux2010_x86_64.whl (1.1 MB)\n",
            "\u001b[K     |████████████████████████████████| 1.1 MB 72.1 MB/s \n",
            "\u001b[?25hRequirement already satisfied: pyarrow>=5.0.0 in /usr/local/lib/python3.7/dist-packages (from datasets) (6.0.1)\n",
            "Requirement already satisfied: dill in /usr/local/lib/python3.7/dist-packages (from datasets) (0.3.4)\n",
            "Requirement already satisfied: packaging in /usr/local/lib/python3.7/dist-packages (from datasets) (21.3)\n",
            "Collecting xxhash\n",
            "  Downloading xxhash-3.0.0-cp37-cp37m-manylinux_2_17_x86_64.manylinux2014_x86_64.whl (212 kB)\n",
            "\u001b[K     |████████████████████████████████| 212 kB 97.6 MB/s \n",
            "\u001b[?25hRequirement already satisfied: requests>=2.19.0 in /usr/local/lib/python3.7/dist-packages (from datasets) (2.23.0)\n",
            "Requirement already satisfied: multiprocess in /usr/local/lib/python3.7/dist-packages (from datasets) (0.70.12.2)\n",
            "Requirement already satisfied: huggingface-hub<1.0.0,>=0.1.0 in /usr/local/lib/python3.7/dist-packages (from datasets) (0.5.1)\n",
            "Requirement already satisfied: importlib-metadata in /usr/local/lib/python3.7/dist-packages (from datasets) (4.11.3)\n",
            "Requirement already satisfied: pandas in /usr/local/lib/python3.7/dist-packages (from datasets) (1.3.5)\n",
            "Requirement already satisfied: tqdm>=4.62.1 in /usr/local/lib/python3.7/dist-packages (from datasets) (4.64.0)\n",
            "Collecting responses<0.19\n",
            "  Downloading responses-0.18.0-py3-none-any.whl (38 kB)\n",
            "Requirement already satisfied: numpy>=1.17 in /usr/local/lib/python3.7/dist-packages (from datasets) (1.21.6)\n",
            "Collecting fsspec[http]>=2021.05.0\n",
            "  Downloading fsspec-2022.3.0-py3-none-any.whl (136 kB)\n",
            "\u001b[K     |████████████████████████████████| 136 kB 85.6 MB/s \n",
            "\u001b[?25hRequirement already satisfied: pyyaml in /usr/local/lib/python3.7/dist-packages (from huggingface-hub<1.0.0,>=0.1.0->datasets) (6.0)\n",
            "Requirement already satisfied: typing-extensions>=3.7.4.3 in /usr/local/lib/python3.7/dist-packages (from huggingface-hub<1.0.0,>=0.1.0->datasets) (4.1.1)\n",
            "Requirement already satisfied: filelock in /usr/local/lib/python3.7/dist-packages (from huggingface-hub<1.0.0,>=0.1.0->datasets) (3.6.0)\n",
            "Requirement already satisfied: pyparsing!=3.0.5,>=2.0.2 in /usr/local/lib/python3.7/dist-packages (from packaging->datasets) (3.0.8)\n",
            "Requirement already satisfied: idna<3,>=2.5 in /usr/local/lib/python3.7/dist-packages (from requests>=2.19.0->datasets) (2.10)\n",
            "Requirement already satisfied: certifi>=2017.4.17 in /usr/local/lib/python3.7/dist-packages (from requests>=2.19.0->datasets) (2021.10.8)\n",
            "Requirement already satisfied: urllib3!=1.25.0,!=1.25.1,<1.26,>=1.21.1 in /usr/local/lib/python3.7/dist-packages (from requests>=2.19.0->datasets) (1.24.3)\n",
            "Requirement already satisfied: chardet<4,>=3.0.2 in /usr/local/lib/python3.7/dist-packages (from requests>=2.19.0->datasets) (3.0.4)\n",
            "Collecting urllib3!=1.25.0,!=1.25.1,<1.26,>=1.21.1\n",
            "  Downloading urllib3-1.25.11-py2.py3-none-any.whl (127 kB)\n",
            "\u001b[K     |████████████████████████████████| 127 kB 56.7 MB/s \n",
            "\u001b[?25hRequirement already satisfied: charset-normalizer<3.0,>=2.0 in /usr/local/lib/python3.7/dist-packages (from aiohttp->datasets) (2.0.12)\n",
            "Requirement already satisfied: attrs>=17.3.0 in /usr/local/lib/python3.7/dist-packages (from aiohttp->datasets) (21.4.0)\n",
            "Collecting yarl<2.0,>=1.0\n",
            "  Downloading yarl-1.7.2-cp37-cp37m-manylinux_2_5_x86_64.manylinux1_x86_64.manylinux_2_12_x86_64.manylinux2010_x86_64.whl (271 kB)\n",
            "\u001b[K     |████████████████████████████████| 271 kB 88.6 MB/s \n",
            "\u001b[?25hCollecting frozenlist>=1.1.1\n",
            "  Downloading frozenlist-1.3.0-cp37-cp37m-manylinux_2_5_x86_64.manylinux1_x86_64.manylinux_2_17_x86_64.manylinux2014_x86_64.whl (144 kB)\n",
            "\u001b[K     |████████████████████████████████| 144 kB 97.9 MB/s \n",
            "\u001b[?25hCollecting aiosignal>=1.1.2\n",
            "  Downloading aiosignal-1.2.0-py3-none-any.whl (8.2 kB)\n",
            "Collecting multidict<7.0,>=4.5\n",
            "  Downloading multidict-6.0.2-cp37-cp37m-manylinux_2_17_x86_64.manylinux2014_x86_64.whl (94 kB)\n",
            "\u001b[K     |████████████████████████████████| 94 kB 4.0 MB/s \n",
            "\u001b[?25hCollecting asynctest==0.13.0\n",
            "  Downloading asynctest-0.13.0-py3-none-any.whl (26 kB)\n",
            "Collecting async-timeout<5.0,>=4.0.0a3\n",
            "  Downloading async_timeout-4.0.2-py3-none-any.whl (5.8 kB)\n",
            "Requirement already satisfied: zipp>=0.5 in /usr/local/lib/python3.7/dist-packages (from importlib-metadata->datasets) (3.8.0)\n",
            "Requirement already satisfied: python-dateutil>=2.7.3 in /usr/local/lib/python3.7/dist-packages (from pandas->datasets) (2.8.2)\n",
            "Requirement already satisfied: pytz>=2017.3 in /usr/local/lib/python3.7/dist-packages (from pandas->datasets) (2022.1)\n",
            "Requirement already satisfied: six>=1.5 in /usr/local/lib/python3.7/dist-packages (from python-dateutil>=2.7.3->pandas->datasets) (1.15.0)\n",
            "Installing collected packages: multidict, frozenlist, yarl, urllib3, asynctest, async-timeout, aiosignal, fsspec, aiohttp, xxhash, responses, datasets\n",
            "  Attempting uninstall: urllib3\n",
            "    Found existing installation: urllib3 1.24.3\n",
            "    Uninstalling urllib3-1.24.3:\n",
            "      Successfully uninstalled urllib3-1.24.3\n",
            "\u001b[31mERROR: pip's dependency resolver does not currently take into account all the packages that are installed. This behaviour is the source of the following dependency conflicts.\n",
            "datascience 0.10.6 requires folium==0.2.1, but you have folium 0.8.3 which is incompatible.\u001b[0m\n",
            "Successfully installed aiohttp-3.8.1 aiosignal-1.2.0 async-timeout-4.0.2 asynctest-0.13.0 datasets-2.1.0 frozenlist-1.3.0 fsspec-2022.3.0 multidict-6.0.2 responses-0.18.0 urllib3-1.25.11 xxhash-3.0.0 yarl-1.7.2\n",
            "Collecting rouge_score\n",
            "  Downloading rouge_score-0.0.4-py2.py3-none-any.whl (22 kB)\n",
            "Requirement already satisfied: six>=1.14.0 in /usr/local/lib/python3.7/dist-packages (from rouge_score) (1.15.0)\n",
            "Requirement already satisfied: numpy in /usr/local/lib/python3.7/dist-packages (from rouge_score) (1.21.6)\n",
            "Requirement already satisfied: absl-py in /usr/local/lib/python3.7/dist-packages (from rouge_score) (1.0.0)\n",
            "Requirement already satisfied: nltk in /usr/local/lib/python3.7/dist-packages (from rouge_score) (3.2.5)\n",
            "Installing collected packages: rouge-score\n",
            "Successfully installed rouge-score-0.0.4\n"
          ]
        }
      ]
    },
    {
      "cell_type": "code",
      "execution_count": null,
      "metadata": {
        "id": "D-QknsZYRnZk"
      },
      "outputs": [],
      "source": [
        "from transformers import BertTokenizer, BertModel, BertConfig\n",
        "from torch.optim import Adam\n",
        "from torch.utils.data import Dataset, DataLoader, SequentialSampler\n",
        "from nltk.tokenize import sent_tokenize\n",
        "from torch.nn import functional as F\n",
        "import torch\n",
        "from GPUtil import showUtilization as gpu_usage\n",
        "from numba import cuda\n",
        "import os\n",
        "import re\n",
        "import datasets\n",
        "import torch\n",
        "from torch.utils.data import Dataset, DataLoader, SequentialSampler\n",
        "import pandas as pd\n",
        "from io import open\n",
        "import unicodedata\n",
        "import string\n",
        "import numpy as np\n",
        "\n",
        "import time\n",
        "import random\n",
        "import torch.nn as nn\n",
        "from torch import optim\n",
        "import torch.nn.functional as F\n",
        "\n",
        "device = torch.device(\"cuda\" if torch.cuda.is_available() else \"cpu\")"
      ]
    },
    {
      "cell_type": "code",
      "source": [
        "from google.colab import drive\n",
        "drive.mount('/content/drive')\n",
        "root_dir = '/content/drive/MyDrive/CS6120Dataset'"
      ],
      "metadata": {
        "colab": {
          "base_uri": "https://localhost:8080/"
        },
        "id": "0645BJAbSacv",
        "outputId": "7c952f95-b4e7-406b-8176-10cf46116135"
      },
      "execution_count": null,
      "outputs": [
        {
          "output_type": "stream",
          "name": "stdout",
          "text": [
            "Mounted at /content/drive\n"
          ]
        }
      ]
    },
    {
      "cell_type": "markdown",
      "source": [
        "Preprocessing and Dataset"
      ],
      "metadata": {
        "id": "3ldUQ6MedaOa"
      }
    },
    {
      "cell_type": "code",
      "execution_count": null,
      "metadata": {
        "id": "VUj807j3RnZq"
      },
      "outputs": [],
      "source": [
        "def pad_art(flat_list):\n",
        "    sent_sep_idxs = [idx for idx, t in enumerate(flat_list) if t == tokenizer.sep_token_id and idx < 512]\n",
        "    last_sent_sep_idx = min(max(sent_sep_idxs)+1 if (len(sent_sep_idxs) > 0) else 512, 512)\n",
        "    flat_list = flat_list[:last_sent_sep_idx]\n",
        "    padded_list = flat_list + [tokenizer.pad_token_id] * (512 - len(flat_list))\n",
        "    return torch.tensor([padded_list])\n",
        "\n",
        "def pad_sum(encoded_sum):\n",
        "    padded_sum = encoded_sum + [tokenizer.pad_token_id] * (512 - len(encoded_sum))\n",
        "    padded_sum += [tokenizer.pad_token_id]\n",
        "    return torch.tensor([padded_sum])\n",
        "\n",
        "def pad_seg(seg_embs):\n",
        "    seg_embs = torch.tensor([seg_embs])\n",
        "    padded_seg = F.pad(input=seg_embs, pad=(0,512-seg_embs.shape[1]), mode='constant', value=tokenizer.pad_token_id)\n",
        "    return padded_seg\n",
        "\n",
        "def mask(padded_tensor):\n",
        "    src_mask = torch.zeros_like(padded_tensor)\n",
        "    src_mask[padded_tensor != tokenizer.pad_token_id] = 1 \n",
        "    return src_mask\n",
        "\n",
        "\n",
        "\n",
        "class CNNBertDataset(Dataset):\n",
        "    \n",
        "    def __init__(self,root_dir, type_, transform = None, n=None):\n",
        "        super().__init__()\n",
        "        self.root_dir = root_dir\n",
        "        self.dataset = pd.read_csv(f'{root_dir}/{type_}.csv')\n",
        "        if n:\n",
        "          self.dataset = self.dataset[:n]\n",
        "        self.transform = transform\n",
        "        \n",
        "    \n",
        "    def __len__(self):\n",
        "        return self.dataset.shape[0]\n",
        "\n",
        "    def __getitem__(self, idx):\n",
        "        art_ = eval(self.dataset.iloc[idx]['src'])\n",
        "        sum_ = eval(self.dataset.iloc[idx]['tgt'])\n",
        "        seg_ = eval(self.dataset.iloc[idx]['segs'])\n",
        "        padded_art = pad_art(art_).squeeze()\n",
        "        seg_art = pad_seg(seg_).squeeze()\n",
        "        mask_art = mask(padded_art).squeeze()\n",
        "        \n",
        "        padded_sum = pad_sum(sum_)\n",
        "        mask_sum = mask(padded_sum)\n",
        "        \n",
        "        return padded_art, padded_sum, seg_art, mask_art, mask_sum"
      ]
    },
    {
      "cell_type": "markdown",
      "source": [
        "Model architecture"
      ],
      "metadata": {
        "id": "KIhBFVhbdkPP"
      }
    },
    {
      "cell_type": "code",
      "source": [
        "class AttnDecoderforgetGRU2(nn.Module):\n",
        "\n",
        "  def __init__(self,input_size, hidden_size, n_layers, output_size):\n",
        "    super().__init__()\n",
        "    self.hidden_size = hidden_size\n",
        "    self.n_layers = n_layers\n",
        "    self.attn = nn.Linear(input_size*4, hidden_size)\n",
        "    self.softmax = nn.Softmax()\n",
        "    self.gru1 =  nn.GRU(hidden_size*3, hidden_size*3, n_layers, batch_first =True, dropout=0.2)\n",
        "    self.gru2 =  nn.GRU(hidden_size*3, hidden_size*3, n_layers, batch_first =True, dropout=0.2)\n",
        "    self.gru3 =  nn.GRU(hidden_size*3, hidden_size*3, n_layers, batch_first =True, dropout=0.2)\n",
        "    self.gru4 =  nn.GRU(hidden_size*3, hidden_size*3, n_layers, batch_first =True, dropout=0.2)\n",
        "    self.fc1 = nn.Linear(hidden_size*3, hidden_size*2)\n",
        "    self.fc2 = nn.Linear(hidden_size*3, hidden_size*2)\n",
        "    self.fc3 = nn.Linear(hidden_size*3, hidden_size)\n",
        "    self.forget = nn.Linear(hidden_size*3, hidden_size)\n",
        "    self.resize = nn.Linear(hidden_size, hidden_size*2)\n",
        "    self.out = nn.Linear(hidden_size, output_size)\n",
        "\n",
        "\n",
        "  def forward(self, input_, prev_hidden, encoder_hidden,encoder_h):\n",
        "    #print(input_.shape, prev_hidden.shape,encoder_hidden.shape  )\n",
        "    \n",
        "    #lstm_C = encoder_out.repeat(self.n_layers,1,1)\n",
        "    energy = self.attn(torch.cat((input_, prev_hidden), dim=1))\n",
        "\n",
        "    prev_hidden = prev_hidden.repeat(self.n_layers,1,1)\n",
        "\n",
        "    attn = torch.bmm(energy.unsqueeze(1),encoder_h)\n",
        "\n",
        "    out = F.relu(torch.cat((attn, input_.unsqueeze(1)), dim=2)).squeeze(1)\n",
        "    #print(out.shape)\n",
        "    encoder_hidden = encoder_hidden*(1 - F.sigmoid(self.forget(torch.cat((encoder_hidden, out), dim=1))))\n",
        "\n",
        "    #encoder_hidden_re = F.relu(self.resize(encoder_hidden))\n",
        "   \n",
        "    #context = F.relu(self.attn(torch.cat((encoder_hidden,input_), dim = 1 )))\n",
        "    #prev_hidden = prev_hidden.repeat(self.n_layers,1,1)\n",
        "\n",
        "    out, prev_hidden = self.gru1(torch.cat((out,encoder_hidden), dim=1).unsqueeze(1),prev_hidden)\n",
        "    out = F.relu(self.fc1(out)).squeeze(1)\n",
        "    \n",
        "    out, prev_hidden = self.gru2(torch.cat((out,encoder_hidden), dim=1).unsqueeze(1),prev_hidden)\n",
        "    out = F.relu(self.fc2(out)).squeeze(1)\n",
        "\n",
        "    out, prev_hidden = self.gru3(torch.cat((out,encoder_hidden), dim=1).unsqueeze(1),prev_hidden)\n",
        "    out = F.relu(self.fc3(out))\n",
        "\n",
        "    \n",
        "    #out, prev_hidden = self.gru4(torch.cat((out,encoder_hidden), dim=1).unsqueeze(1),prev_hidden)\n",
        " \n",
        "\n",
        "    return self.out(out), prev_hidden.permute(1,0,2)[:,-1].squeeze(1), encoder_hidden\n",
        "\n",
        "  def initHidden(self, batch_size):\n",
        "      return torch.zeros(batch_size,self.hidden_size*3, device=device)"
      ],
      "metadata": {
        "id": "67UgFGA-6W55"
      },
      "execution_count": null,
      "outputs": []
    },
    {
      "cell_type": "code",
      "source": [
        "class AttnDecoderforgetGRU(nn.Module):\n",
        "\n",
        "  def __init__(self,input_size, hidden_size, n_layers, output_size):\n",
        "    super().__init__()\n",
        "    self.hidden_size = hidden_size\n",
        "    self.n_layers = n_layers\n",
        "    self.attn = nn.Linear(input_size*2, hidden_size)\n",
        "    self.softmax = nn.Softmax()\n",
        "    self.gru1 =  nn.GRU(hidden_size*2, hidden_size, n_layers, batch_first =True, dropout=0.2)\n",
        "    self.gru2 =  nn.GRU(hidden_size*2, hidden_size, n_layers, batch_first =True, dropout=0.2)\n",
        "    self.gru3 =  nn.GRU(hidden_size*2, hidden_size, n_layers, batch_first =True, dropout=0.2)\n",
        "    self.gru4 =  nn.GRU(hidden_size*2, hidden_size, n_layers, batch_first =True, dropout=0.2)\n",
        "    self.fc1 = nn.Linear(hidden_size, hidden_size)\n",
        "    self.fc2 = nn.Linear(hidden_size, hidden_size)\n",
        "    self.fc3 = nn.Linear(hidden_size, hidden_size)\n",
        "    self.forget = nn.Linear(hidden_size*2, hidden_size)\n",
        "    self.out = nn.Linear(hidden_size, output_size)\n",
        "\n",
        "\n",
        "  def forward(self, input_, prev_hidden, encoder_hidden):\n",
        "    #print(input_.shape, prev_hidden.shape,encoder_hidden.shape  )\n",
        "    encoder_hidden = encoder_hidden*(1 - F.sigmoid(self.forget(torch.cat((encoder_hidden, input_), dim=1))))\n",
        "   \n",
        "    context = F.relu(self.attn(torch.cat((encoder_hidden,input_), dim = 1 )))\n",
        "    prev_hidden = prev_hidden.repeat(self.n_layers,1,1)\n",
        "\n",
        "    out, prev_hidden = self.gru1(torch.cat((input_,encoder_hidden), dim=1).unsqueeze(1),prev_hidden)\n",
        "    out = F.relu(self.fc1(out)).squeeze(1)\n",
        "    \n",
        "    out, prev_hidden = self.gru2(torch.cat((out,encoder_hidden), dim=1).unsqueeze(1),prev_hidden)\n",
        "    out = F.relu(self.fc2(out)).squeeze(1)\n",
        "\n",
        "    out, prev_hidden = self.gru3(torch.cat((out,encoder_hidden), dim=1).unsqueeze(1),prev_hidden)\n",
        "    out = F.relu(self.fc3(out))\n",
        "\n",
        "    #out, prev_hidden = self.gru4(torch.cat((out,encoder_hidden), dim=1).unsqueeze(1),prev_hidden)\n",
        " \n",
        "\n",
        "    return self.out(out), prev_hidden.permute(1,0,2)[:,-1].squeeze(1), encoder_hidden\n",
        "\n",
        "  def initHidden(self, batch_size):\n",
        "      return torch.zeros(batch_size,self.hidden_size, device=device)"
      ],
      "metadata": {
        "id": "-jCMimZVzHMU"
      },
      "execution_count": null,
      "outputs": []
    },
    {
      "cell_type": "code",
      "source": [
        ""
      ],
      "metadata": {
        "id": "mDess95uc2sq"
      },
      "execution_count": null,
      "outputs": []
    },
    {
      "cell_type": "markdown",
      "source": [
        "Loading dataset"
      ],
      "metadata": {
        "id": "30upVQI4dozW"
      }
    },
    {
      "cell_type": "code",
      "execution_count": null,
      "metadata": {
        "id": "SUhHTMT3RnZs"
      },
      "outputs": [],
      "source": [
        "BATCH_SIZE = 4\n",
        "\n",
        "train_data = CNNBertDataset(\n",
        "    root_dir = root_dir+'/dataset_750',\n",
        "    type_ = 'train',\n",
        "    n = 4\n",
        "    \n",
        ")\n",
        "\n",
        "val_data = CNNBertDataset(\n",
        "    root_dir = root_dir+'/dataset_750',\n",
        "    type_ = 'val',\n",
        "    n = 4\n",
        "    \n",
        ")\n",
        "test_data = CNNBertDataset(\n",
        "    root_dir = root_dir+'/dataset_750',\n",
        "    type_ = 'test',\n",
        "    n = 4\n",
        ")\n",
        "\n",
        "\n",
        "train_dataloader = DataLoader(train_data, batch_size=BATCH_SIZE, shuffle=True,\n",
        "                   pin_memory=True)\n",
        "test_dataloader = DataLoader(test_data, batch_size=BATCH_SIZE, shuffle=True,\n",
        "                    pin_memory=True)\n",
        "val_dataloader = DataLoader(val_data, batch_size=BATCH_SIZE, shuffle=True,\n",
        "                    pin_memory=True)"
      ]
    },
    {
      "cell_type": "markdown",
      "source": [
        "Runner function that trains the model if its in train mode otherwise genertates test resuls\n"
      ],
      "metadata": {
        "id": "YJltOG79dr6C"
      }
    },
    {
      "cell_type": "code",
      "source": [
        "def attnRunnerForgetGRU(encoder, decoder, dataloader, criterion,optimizer, startingword, vocab_size, train =True, MAX_LEN = 30, teacher_forcing=False):\n",
        "\n",
        "  if train:\n",
        "    decoder.train()\n",
        "  else:\n",
        "    decoder.eval()\n",
        "  \n",
        "  epoch_loss = 0\n",
        "  epoch_acc = 0\n",
        "  epoch_total = 0\n",
        " \n",
        "  for i,batch in enumerate(dataloader):\n",
        "    padded_art, padded_sum, seg_art, mask_art, mask_sum = batch\n",
        "    this_batch_size = padded_art.shape[0]\n",
        "    if train:\n",
        "      optimizer.zero_grad()\n",
        "    encoder_ = None\n",
        "    input_ = None\n",
        "    with torch.no_grad():\n",
        "      encoder_ =  encoder( input_ids = padded_art.to(device),\n",
        "                                attention_mask = mask_art.to(device),\n",
        "                                token_type_ids = seg_art.to(device))\n",
        "      start_tensor = torch.tensor([[starting_word]]).repeat(this_batch_size,1).to(device)\n",
        "      input_ = encoder(start_tensor)['pooler_output']\n",
        "      del start_tensor\n",
        "    \n",
        "    encoder_output = encoder_['pooler_output']\n",
        "    encoder_hidden = encoder_['last_hidden_state']    \n",
        "    summ_ = torch.empty((this_batch_size, 0, vocab_size)).to(device)\n",
        "    #summ_ = torch.empty((this_batch_size, 0)).to(device)\n",
        "    prev_hidden = decoder.initHidden(this_batch_size)\n",
        "    \n",
        "\n",
        "    for di in range(1,MAX_LEN):\n",
        "          out, prev_hidden, encoder_output = decoder(input_, prev_hidden, encoder_output)#For no attn\n",
        "          #out, prev_hidden, encoder_output = decoder(input_, prev_hidden, encoder_output,encoder_hidden)#for attn\n",
        "          del input_\n",
        "          next = out.max(-1)[1]\n",
        "\n",
        "          summ_ = torch.cat((summ_,out), dim=1)\n",
        "          #summ_ = torch.cat((summ_,next), dim=1)\n",
        "          with torch.no_grad():\n",
        "            if train and random.random()<teacher_forcing:\n",
        "                input_ = encoder(padded_sum[:,:,di].reshape(-1).unsqueeze(dim=1).to(device))['pooler_output']\n",
        "            else:\n",
        "                input_ = encoder(next)['pooler_output']\n",
        "    target = padded_sum[:,:,1:MAX_LEN].squeeze(1).to(device)\n",
        "\n",
        "    loss = criterion(summ_,target  )\n",
        "\n",
        "    epoch_loss += loss.item()\n",
        "\n",
        "    epoch_acc += (summ_.max(-1)[1] == target).sum().item()\n",
        "\n",
        "    epoch_total += target.numel()\n",
        "    if train:\n",
        "      loss.backward()\n",
        "      optimizer.step()\n",
        "    del loss\n",
        "    del  padded_sum\n",
        "  epoch_loss = epoch_loss/epoch_total\n",
        "  epoch_acc = epoch_acc/epoch_total\n",
        "  return epoch_loss, epoch_acc  "
      ],
      "metadata": {
        "id": "xOfLr53m1Ua5"
      },
      "execution_count": null,
      "outputs": []
    },
    {
      "cell_type": "markdown",
      "source": [
        "Wrapper function to for training and testing\n"
      ],
      "metadata": {
        "id": "UmjHspwPd-9h"
      }
    },
    {
      "cell_type": "code",
      "source": [
        "\n",
        "def trainer(encoder, decoder, train_dataloader,val_dataloader,test_dataloader, startingword, optimizer, criterion, vocab_size,\n",
        "             EPOCHS = 10, MAX_LEN = 30, checkpoint = 5, model_location = './',teacher_forcing = 0.5, runner=None):\n",
        "  results = []\n",
        "  for epoch in range(EPOCHS):\n",
        "    start = time.time()\n",
        "    tr_loss, tr_acc = runner(encoder, decoder, train_dataloader, criterion,optimizer, startingword, vocab_size, train =True, MAX_LEN = MAX_LEN, teacher_forcing = teacher_forcing)\n",
        "    tr_time = time.time() - start\n",
        "    start = time.time()\n",
        "    val_loss, val_acc = runner(encoder, decoder, val_dataloader, criterion,optimizer, startingword, vocab_size,train =False, MAX_LEN = MAX_LEN)\n",
        "    print(f'epoch {epoch}, train s/it: {tr_time : .2f} val s/it: {time.time()-start: .2f}, tr_loss: {tr_loss: .6f}, tr_acc: {tr_acc :.6f}, val_loss: {val_loss: .6f}, val_acc: {val_acc: .6f}')\n",
        "    if epoch%checkpoint == 0:\n",
        "      torch.save(decoder.state_dict(), model_location)\n",
        "    results.append((epoch, tr_loss,tr_acc, val_loss, val_acc))\n",
        "  torch.save(decoder.state_dict(), model_location)\n",
        "  test_loss, test_acc = runner(encoder, decoder, test_dataloader, criterion,optimizer, startingword,vocab_size, train =False, MAX_LEN = MAX_LEN)\n",
        "  print(f'testing_loss: {test_loss: .6f}, testing_acc: {test_acc :.6f}')\n",
        "  result_df = pd.DataFrame(results, columns =['epoch', 'tr_loss','tr_acc', 'val_loss', 'val_acc'])\n",
        "  result_df.to_csv(model_location+'_result.csv')\n",
        "  return result_df\n"
      ],
      "metadata": {
        "id": "WFCsV02lo7gt"
      },
      "execution_count": null,
      "outputs": []
    },
    {
      "cell_type": "code",
      "source": [
        "encoder = BertModel.from_pretrained('google/bert_uncased_L-4_H-512_A-8').to(device)\n",
        "tokenizer = BertTokenizer.from_pretrained('google/bert_uncased_L-4_H-512_A-8', do_lower=True)\n",
        "encoder_config = BertConfig.from_pretrained(\"google/bert_uncased_L-4_H-512_A-8\")\n",
        "starting_word = tokenizer.vocab['[unused0]']\n",
        "for params in encoder.parameters():\n",
        "    params.require_grad = False"
      ],
      "metadata": {
        "id": "Q8v8dAYNzO1G",
        "colab": {
          "base_uri": "https://localhost:8080/",
          "height": 185,
          "referenced_widgets": [
            "97f92cb371d948208af6507e997a8daf",
            "4c1b91ca9aa24e73957eace01ae0d86b",
            "4df3ec179671470fb7ae873d79e97d15",
            "d749d124a94841fda46733002f55ccd6",
            "85ed9bb9d20441db80cada72075e0f5b",
            "13aee414e948459f9d304698df347c04",
            "869f5cbcc2054bfba5623cc535bedd0e",
            "58eece3b14d94d07b8d4394fc9707354",
            "b6bebdfdc6b6467cbb34f3ae90b03196",
            "1cbfc9501d70491f9e6ea0f610f07bc9",
            "c1c5e2dca526408abf1d2dffd39ea63c",
            "95914d6e2dc8419795f10c8d03bcbdf8",
            "cc054c1b45d64e8a9182a29773cf83f4",
            "11f9a4dc037e455983d7cd07db97efed",
            "d8a50c6b94154821baf13ccca2d8946e",
            "2940dbd5205649d49a04cb120c931daf",
            "e111563baeb1412c9317c1ecaec27a7c",
            "8e62bfec1949484fb3122f36d88abb4b",
            "3de3b568472d4434bfd555cade18f317",
            "819bab75b64b4ea2bb74bc74cc6034b0",
            "de5b4eb8716a483baddb72e10656c190",
            "7ad6abe4ebfe4d9fa0bd264aebc45175",
            "1b448ad3729647e3a493bc702d585ad8",
            "83ef762762c849fdbe8a9fc413a1bc3d",
            "151409da60274c7e9843f3bb3128d363",
            "cf07d50b66824526804a9b75b8c205fc",
            "3b164c9737014e048a68bfe3c8af0a67",
            "6af36fd6f4af4e2bb4e649ab8df9677d",
            "c8ab73ff2ae54b048c02977412eaffdb",
            "b6010d400fd240fbb60301959879d03d",
            "1c669b66737a446fad9950271ad0504b",
            "2a976ae33f7a4bab841bf437b8b0972c",
            "b049c252c07346d093c3da95bed4f4be"
          ]
        },
        "outputId": "8b3e19df-106c-44a3-a4cf-fe518fca3981"
      },
      "execution_count": null,
      "outputs": [
        {
          "output_type": "display_data",
          "data": {
            "text/plain": [
              "Downloading:   0%|          | 0.00/383 [00:00<?, ?B/s]"
            ],
            "application/vnd.jupyter.widget-view+json": {
              "version_major": 2,
              "version_minor": 0,
              "model_id": "97f92cb371d948208af6507e997a8daf"
            }
          },
          "metadata": {}
        },
        {
          "output_type": "display_data",
          "data": {
            "text/plain": [
              "Downloading:   0%|          | 0.00/111M [00:00<?, ?B/s]"
            ],
            "application/vnd.jupyter.widget-view+json": {
              "version_major": 2,
              "version_minor": 0,
              "model_id": "95914d6e2dc8419795f10c8d03bcbdf8"
            }
          },
          "metadata": {}
        },
        {
          "output_type": "stream",
          "name": "stderr",
          "text": [
            "Some weights of the model checkpoint at google/bert_uncased_L-4_H-512_A-8 were not used when initializing BertModel: ['cls.seq_relationship.weight', 'cls.seq_relationship.bias', 'cls.predictions.transform.dense.weight', 'cls.predictions.transform.LayerNorm.weight', 'cls.predictions.transform.LayerNorm.bias', 'cls.predictions.decoder.weight', 'cls.predictions.transform.dense.bias', 'cls.predictions.decoder.bias', 'cls.predictions.bias']\n",
            "- This IS expected if you are initializing BertModel from the checkpoint of a model trained on another task or with another architecture (e.g. initializing a BertForSequenceClassification model from a BertForPreTraining model).\n",
            "- This IS NOT expected if you are initializing BertModel from the checkpoint of a model that you expect to be exactly identical (initializing a BertForSequenceClassification model from a BertForSequenceClassification model).\n"
          ]
        },
        {
          "output_type": "display_data",
          "data": {
            "text/plain": [
              "Downloading:   0%|          | 0.00/226k [00:00<?, ?B/s]"
            ],
            "application/vnd.jupyter.widget-view+json": {
              "version_major": 2,
              "version_minor": 0,
              "model_id": "1b448ad3729647e3a493bc702d585ad8"
            }
          },
          "metadata": {}
        }
      ]
    },
    {
      "cell_type": "markdown",
      "source": [
        "pd.read_csv"
      ],
      "metadata": {
        "id": "ydaElb_PTkO4"
      }
    },
    {
      "cell_type": "markdown",
      "source": [
        "Loss function to work on Rouge based loss"
      ],
      "metadata": {
        "id": "uyfjXdPDeLQd"
      }
    },
    {
      "cell_type": "code",
      "source": [
        "class RougeLoss(nn.CrossEntropyLoss):\n",
        "\n",
        "  def __init__(self, alpha=0.25):\n",
        "    super().__init__(ignore_index=0)\n",
        "    self.alpha = alpha\n",
        "\n",
        "  def forward(self, predicted, actual):\n",
        "    loss = super().forward(predicted.permute(0,2,1),actual)\n",
        "    pred = predicted.max(-1)[1]\n",
        "    rouge_output = rouge.compute(predictions=pred, references=actual )\n",
        "    return  (1- self.alpha) * loss - self.alpha * torch.log(torch.tensor( rouge_output['rouge1'].mid.fmeasure, requires_grad = True) + 0.00001)"
      ],
      "metadata": {
        "id": "UJpDl9cXo0lc"
      },
      "execution_count": null,
      "outputs": []
    },
    {
      "cell_type": "code",
      "source": [
        "\n"
      ],
      "metadata": {
        "id": "JOSDFvQl1e7R"
      },
      "execution_count": null,
      "outputs": []
    },
    {
      "cell_type": "code",
      "source": [
        "decoder = AttnDecoderforgetGRU(512,512,2,encoder_config.vocab_size).to(device)\n",
        "optimizer = optim.Adam(decoder.parameters(), lr = 1e-3)\n",
        "criterion = RougeLoss()"
      ],
      "metadata": {
        "id": "LyngjRZQ9_2Y"
      },
      "execution_count": null,
      "outputs": []
    },
    {
      "cell_type": "code",
      "source": [
        "result = trainer(encoder, decoder, train_dataloader,val_dataloader,test_dataloader,starting_word, optimizer, criterion, encoder_config.vocab_size,\n",
        "             EPOCHS = 40, MAX_LEN = 10, checkpoint = 4, model_location = root_dir+'/attndecoder_FRGT_SAMPLE_GRU_4_1', teacher_forcing=0.3,runner = attnRunnerForgetGRU)"
      ],
      "metadata": {
        "colab": {
          "base_uri": "https://localhost:8080/"
        },
        "id": "2yaPoX8_jXEg",
        "outputId": "d6031224-f958-4ebb-9acf-aee47555d167"
      },
      "execution_count": null,
      "outputs": [
        {
          "output_type": "stream",
          "name": "stderr",
          "text": [
            "/usr/local/lib/python3.7/dist-packages/torch/nn/functional.py:1806: UserWarning: nn.functional.sigmoid is deprecated. Use torch.sigmoid instead.\n",
            "  warnings.warn(\"nn.functional.sigmoid is deprecated. Use torch.sigmoid instead.\")\n"
          ]
        },
        {
          "output_type": "stream",
          "name": "stdout",
          "text": [
            "epoch 0, train s/it:  0.25 val s/it:  0.26, tr_loss:  0.366596, tr_acc: 0.000000, val_loss:  0.311565, val_acc:  0.027778\n",
            "epoch 1, train s/it:  0.23 val s/it:  0.25, tr_loss:  0.292960, tr_acc: 0.111111, val_loss:  0.313113, val_acc:  0.027778\n",
            "epoch 2, train s/it:  0.24 val s/it:  0.26, tr_loss:  0.248704, tr_acc: 0.083333, val_loss:  0.324183, val_acc:  0.027778\n",
            "epoch 3, train s/it:  0.25 val s/it:  0.25, tr_loss:  0.187549, tr_acc: 0.083333, val_loss:  0.380074, val_acc:  0.027778\n",
            "epoch 4, train s/it:  0.23 val s/it:  0.25, tr_loss:  0.148647, tr_acc: 0.083333, val_loss:  0.474050, val_acc:  0.000000\n",
            "epoch 5, train s/it:  0.23 val s/it:  0.24, tr_loss:  0.127905, tr_acc: 0.083333, val_loss:  0.502847, val_acc:  0.000000\n",
            "epoch 6, train s/it:  0.26 val s/it:  0.28, tr_loss:  0.112877, tr_acc: 0.138889, val_loss:  0.529170, val_acc:  0.000000\n",
            "epoch 7, train s/it:  0.27 val s/it:  0.27, tr_loss:  0.105203, tr_acc: 0.166667, val_loss:  0.550532, val_acc:  0.000000\n",
            "epoch 8, train s/it:  0.24 val s/it:  0.25, tr_loss:  0.101553, tr_acc: 0.138889, val_loss:  0.561191, val_acc:  0.000000\n",
            "epoch 9, train s/it:  0.25 val s/it:  0.25, tr_loss:  0.092314, tr_acc: 0.166667, val_loss:  0.571770, val_acc:  0.000000\n",
            "epoch 10, train s/it:  0.24 val s/it:  0.25, tr_loss:  0.082341, tr_acc: 0.194444, val_loss:  0.524362, val_acc:  0.000000\n",
            "epoch 11, train s/it:  0.24 val s/it:  0.25, tr_loss:  0.075918, tr_acc: 0.194444, val_loss:  0.540607, val_acc:  0.027778\n",
            "epoch 12, train s/it:  0.24 val s/it:  0.24, tr_loss:  0.075546, tr_acc: 0.194444, val_loss:  0.563984, val_acc:  0.000000\n",
            "epoch 13, train s/it:  0.24 val s/it:  0.26, tr_loss:  0.069733, tr_acc: 0.250000, val_loss:  0.588531, val_acc:  0.000000\n",
            "epoch 14, train s/it:  0.24 val s/it:  0.25, tr_loss:  0.067323, tr_acc: 0.250000, val_loss:  0.613417, val_acc:  0.000000\n",
            "epoch 15, train s/it:  0.23 val s/it:  0.26, tr_loss:  0.063380, tr_acc: 0.305556, val_loss:  0.633328, val_acc:  0.000000\n",
            "epoch 16, train s/it:  0.24 val s/it:  0.25, tr_loss:  0.060927, tr_acc: 0.333333, val_loss:  0.649920, val_acc:  0.000000\n",
            "epoch 17, train s/it:  0.25 val s/it:  0.25, tr_loss:  0.058808, tr_acc: 0.361111, val_loss:  0.664925, val_acc:  0.000000\n",
            "epoch 18, train s/it:  0.23 val s/it:  0.25, tr_loss:  0.058195, tr_acc: 0.333333, val_loss:  0.678223, val_acc:  0.000000\n",
            "epoch 19, train s/it:  0.25 val s/it:  0.24, tr_loss:  0.056014, tr_acc: 0.361111, val_loss:  0.690199, val_acc:  0.000000\n",
            "epoch 20, train s/it:  0.23 val s/it:  0.26, tr_loss:  0.053608, tr_acc: 0.361111, val_loss:  0.697820, val_acc:  0.000000\n",
            "epoch 21, train s/it:  0.23 val s/it:  0.26, tr_loss:  0.053168, tr_acc: 0.388889, val_loss:  0.709933, val_acc:  0.000000\n",
            "epoch 22, train s/it:  0.24 val s/it:  0.25, tr_loss:  0.051513, tr_acc: 0.388889, val_loss:  0.720757, val_acc:  0.000000\n",
            "epoch 23, train s/it:  0.24 val s/it:  0.24, tr_loss:  0.050538, tr_acc: 0.388889, val_loss:  0.729678, val_acc:  0.000000\n",
            "epoch 24, train s/it:  0.23 val s/it:  0.25, tr_loss:  0.049432, tr_acc: 0.416667, val_loss:  0.740099, val_acc:  0.000000\n",
            "epoch 25, train s/it:  0.25 val s/it:  0.25, tr_loss:  0.047812, tr_acc: 0.444444, val_loss:  0.746862, val_acc:  0.000000\n",
            "epoch 26, train s/it:  0.24 val s/it:  0.26, tr_loss:  0.046848, tr_acc: 0.416667, val_loss:  0.754603, val_acc:  0.000000\n",
            "epoch 27, train s/it:  0.24 val s/it:  0.25, tr_loss:  0.046007, tr_acc: 0.444444, val_loss:  0.759760, val_acc:  0.000000\n",
            "epoch 28, train s/it:  0.23 val s/it:  0.24, tr_loss:  0.043607, tr_acc: 0.527778, val_loss:  0.764264, val_acc:  0.000000\n",
            "epoch 29, train s/it:  0.24 val s/it:  0.26, tr_loss:  0.041348, tr_acc: 0.583333, val_loss:  0.773205, val_acc:  0.000000\n",
            "epoch 30, train s/it:  0.24 val s/it:  0.24, tr_loss:  0.040638, tr_acc: 0.555556, val_loss:  0.770393, val_acc:  0.000000\n",
            "epoch 31, train s/it:  0.25 val s/it:  0.24, tr_loss:  0.038764, tr_acc: 0.583333, val_loss:  0.780900, val_acc:  0.000000\n",
            "epoch 32, train s/it:  0.23 val s/it:  0.24, tr_loss:  0.037755, tr_acc: 0.611111, val_loss:  0.776918, val_acc:  0.000000\n",
            "epoch 33, train s/it:  0.25 val s/it:  0.25, tr_loss:  0.036290, tr_acc: 0.611111, val_loss:  0.787251, val_acc:  0.000000\n",
            "epoch 34, train s/it:  0.24 val s/it:  0.26, tr_loss:  0.035079, tr_acc: 0.583333, val_loss:  0.784794, val_acc:  0.000000\n",
            "epoch 35, train s/it:  0.26 val s/it:  0.44, tr_loss:  0.033643, tr_acc: 0.638889, val_loss:  0.782826, val_acc:  0.000000\n",
            "epoch 36, train s/it:  0.23 val s/it:  0.26, tr_loss:  0.032379, tr_acc: 0.666667, val_loss:  0.808140, val_acc:  0.000000\n",
            "epoch 37, train s/it:  0.24 val s/it:  0.25, tr_loss:  0.033754, tr_acc: 0.611111, val_loss:  0.779148, val_acc:  0.000000\n",
            "epoch 38, train s/it:  0.24 val s/it:  0.25, tr_loss:  0.032352, tr_acc: 0.611111, val_loss:  0.818259, val_acc:  0.000000\n",
            "epoch 39, train s/it:  0.24 val s/it:  0.24, tr_loss:  0.031588, tr_acc: 0.638889, val_loss:  0.822986, val_acc:  0.000000\n",
            "testing_loss:  0.760122, testing_acc: 0.000000\n"
          ]
        }
      ]
    },
    {
      "cell_type": "code",
      "source": [
        ""
      ],
      "metadata": {
        "id": "oKNDLd9Smvan"
      },
      "execution_count": null,
      "outputs": []
    },
    {
      "cell_type": "code",
      "source": [
        "#Loading the old model\n",
        "decoder =  AttnDecoderforgetGRU(512,512,2,encoder_config.vocab_size).to(device)\n",
        "decoder.load_state_dict(torch.load(root_dir+'/attndecoder_FRGT_GRU_2'))\n",
        "decoder.eval()"
      ],
      "metadata": {
        "colab": {
          "base_uri": "https://localhost:8080/"
        },
        "id": "rzmZoV5nuhkY",
        "outputId": "2fdba455-2550-4153-ea68-61eb018012e6"
      },
      "execution_count": null,
      "outputs": [
        {
          "output_type": "execute_result",
          "data": {
            "text/plain": [
              "AttnDecoderforgetGRU(\n",
              "  (attn): Linear(in_features=1024, out_features=512, bias=True)\n",
              "  (softmax): Softmax(dim=None)\n",
              "  (gru1): GRU(1024, 512, num_layers=2, batch_first=True, dropout=0.2)\n",
              "  (gru2): GRU(1024, 512, num_layers=2, batch_first=True, dropout=0.2)\n",
              "  (gru3): GRU(1024, 512, num_layers=2, batch_first=True, dropout=0.2)\n",
              "  (gru4): GRU(1024, 512, num_layers=2, batch_first=True, dropout=0.2)\n",
              "  (fc1): Linear(in_features=512, out_features=512, bias=True)\n",
              "  (fc2): Linear(in_features=512, out_features=512, bias=True)\n",
              "  (forget): Linear(in_features=1024, out_features=512, bias=True)\n",
              "  (out): Linear(in_features=512, out_features=30522, bias=True)\n",
              ")"
            ]
          },
          "metadata": {},
          "execution_count": 462
        }
      ]
    },
    {
      "cell_type": "markdown",
      "source": [
        "Summarizer function"
      ],
      "metadata": {
        "id": "B9G9Eo77eeK_"
      }
    },
    {
      "cell_type": "code",
      "source": [
        "def attnSummerizerForgetGRU(encoder, decoder, dataloader, tokenizer, startingword,  train =False, MAX_LEN = 30, teacher_forcing=False):\n",
        "\n",
        "  \n",
        "  decoder.eval()\n",
        "  actual = []\n",
        "  predicted = []\n",
        "  for i,batch in enumerate(dataloader):\n",
        "    padded_art, padded_sum, seg_art, mask_art, mask_sum = batch\n",
        "    this_batch_size = padded_art.shape[0]\n",
        "    encoder_ = None\n",
        "    input_ = None\n",
        "    with torch.no_grad():\n",
        "      encoder_ =  encoder( input_ids = padded_art.to(device),\n",
        "                                attention_mask = mask_art.to(device),\n",
        "                                token_type_ids = seg_art.to(device))\n",
        "      start_tensor = torch.tensor([[starting_word]]).repeat(this_batch_size,1).to(device)\n",
        "      input_ = encoder(start_tensor)['pooler_output']\n",
        "      del start_tensor\n",
        "    \n",
        "    encoder_output = encoder_['pooler_output']\n",
        "    encoder_hidden = encoder_['last_hidden_state']    \n",
        "    summ_ = torch.empty((this_batch_size, 0)).to(device)\n",
        "    prev_hidden = decoder.initHidden(this_batch_size)\n",
        "    \n",
        "\n",
        "    for di in range(1,MAX_LEN):\n",
        "          #out, prev_hidden, encoder_output = decoder(input_, prev_hidden, encoder_output)\n",
        "          out, prev_hidden, encoder_output = decoder(input_, prev_hidden, encoder_output,encoder_hidden)\n",
        "          del input_\n",
        "          next = out.max(-1)[1]\n",
        "          summ_ = torch.cat((summ_,next),1)\n",
        "          with torch.no_grad():\n",
        "                input_ = encoder(next)['pooler_output']\n",
        "    target = padded_sum[:,:,1:MAX_LEN].squeeze(1)\n",
        "    predicted.extend(tokenizer.batch_decode(summ_))\n",
        "    actual.extend(tokenizer.batch_decode(target))\n",
        "  return pd.DataFrame({'actual':actual,'predicted':predicted})\n",
        "  "
      ],
      "metadata": {
        "id": "M1-oeoWZ8-hE"
      },
      "execution_count": null,
      "outputs": []
    },
    {
      "cell_type": "code",
      "source": [
        "train_df = attnSummerizerForgetGRU(encoder, decoder, test_dataloader, tokenizer, starting_word,  MAX_LEN =10)\n",
        "print(train_df.iloc[0]['predicted'])\n",
        "print(train_df.iloc[0]['actual'])"
      ],
      "metadata": {
        "id": "mTwToEE-HBi2",
        "colab": {
          "base_uri": "https://localhost:8080/"
        },
        "outputId": "da662651-bcd8-45c9-d3c8-a68e06d99814"
      },
      "execution_count": null,
      "outputs": [
        {
          "output_type": "stream",
          "name": "stdout",
          "text": [
            "the final season of of of of of of\n",
            "edward archbold was among those in a contest\n"
          ]
        },
        {
          "output_type": "stream",
          "name": "stderr",
          "text": [
            "/usr/local/lib/python3.7/dist-packages/torch/nn/functional.py:1806: UserWarning: nn.functional.sigmoid is deprecated. Use torch.sigmoid instead.\n",
            "  warnings.warn(\"nn.functional.sigmoid is deprecated. Use torch.sigmoid instead.\")\n"
          ]
        }
      ]
    },
    {
      "cell_type": "markdown",
      "source": [
        ""
      ],
      "metadata": {
        "id": "w7UlTTR2Pr62"
      }
    },
    {
      "cell_type": "code",
      "source": [
        ""
      ],
      "metadata": {
        "colab": {
          "base_uri": "https://localhost:8080/"
        },
        "id": "2cKqyxHqPsRy",
        "outputId": "ea4d7a31-7976-40d9-a56e-b80480d329ac"
      },
      "execution_count": null,
      "outputs": [
        {
          "output_type": "stream",
          "name": "stdout",
          "text": [
            "isn courageous courageous possesses possesses光 possesses possesses光 possesses光 possesses光 bender possesses光 possesses光 bender possesses光 possesses光 bender possesses光 possesses光 bender possesses光 possesses光 bender possesses光 possesses光 bender possesses光 possesses光 bender possesses光 possesses光 bender possesses光 possesses光 bender possesses光 possesses光 bender possesses光 possesses光 bender possesses光 possesses光 bender possesses光 possesses光 bender possesses光 possesses光 bender\n",
            "the confederations cup tournament takes place in south africa this month [unused2] eight teams are involved in the tournament including spain, italy and brazil [unused2] entry is limited to regional champions, the world cup holders and the hosts [unused1] [PAD] [PAD] [PAD] [PAD] [PAD] [PAD] [PAD] [PAD] [PAD] [PAD] [PAD] [PAD] [PAD] [PAD] [PAD] [PAD] [PAD] [PAD] [PAD] [PAD] [PAD] [PAD] [PAD] [PAD] [PAD] [PAD] [PAD] [PAD] [PAD] [PAD] [PAD] [PAD] [PAD] [PAD] [PAD] [PAD] [PAD]\n"
          ]
        }
      ]
    },
    {
      "cell_type": "code",
      "source": [
        "print(encoder)"
      ],
      "metadata": {
        "colab": {
          "base_uri": "https://localhost:8080/"
        },
        "id": "FTpYl9RDXo7m",
        "outputId": "0acdbb70-8469-4c43-c1ee-8953372c6124"
      },
      "execution_count": null,
      "outputs": [
        {
          "output_type": "stream",
          "name": "stdout",
          "text": [
            "BertModel(\n",
            "  (embeddings): BertEmbeddings(\n",
            "    (word_embeddings): Embedding(30522, 512, padding_idx=0)\n",
            "    (position_embeddings): Embedding(512, 512)\n",
            "    (token_type_embeddings): Embedding(2, 512)\n",
            "    (LayerNorm): LayerNorm((512,), eps=1e-12, elementwise_affine=True)\n",
            "    (dropout): Dropout(p=0.1, inplace=False)\n",
            "  )\n",
            "  (encoder): BertEncoder(\n",
            "    (layer): ModuleList(\n",
            "      (0): BertLayer(\n",
            "        (attention): BertAttention(\n",
            "          (self): BertSelfAttention(\n",
            "            (query): Linear(in_features=512, out_features=512, bias=True)\n",
            "            (key): Linear(in_features=512, out_features=512, bias=True)\n",
            "            (value): Linear(in_features=512, out_features=512, bias=True)\n",
            "            (dropout): Dropout(p=0.1, inplace=False)\n",
            "          )\n",
            "          (output): BertSelfOutput(\n",
            "            (dense): Linear(in_features=512, out_features=512, bias=True)\n",
            "            (LayerNorm): LayerNorm((512,), eps=1e-12, elementwise_affine=True)\n",
            "            (dropout): Dropout(p=0.1, inplace=False)\n",
            "          )\n",
            "        )\n",
            "        (intermediate): BertIntermediate(\n",
            "          (dense): Linear(in_features=512, out_features=2048, bias=True)\n",
            "          (intermediate_act_fn): GELUActivation()\n",
            "        )\n",
            "        (output): BertOutput(\n",
            "          (dense): Linear(in_features=2048, out_features=512, bias=True)\n",
            "          (LayerNorm): LayerNorm((512,), eps=1e-12, elementwise_affine=True)\n",
            "          (dropout): Dropout(p=0.1, inplace=False)\n",
            "        )\n",
            "      )\n",
            "      (1): BertLayer(\n",
            "        (attention): BertAttention(\n",
            "          (self): BertSelfAttention(\n",
            "            (query): Linear(in_features=512, out_features=512, bias=True)\n",
            "            (key): Linear(in_features=512, out_features=512, bias=True)\n",
            "            (value): Linear(in_features=512, out_features=512, bias=True)\n",
            "            (dropout): Dropout(p=0.1, inplace=False)\n",
            "          )\n",
            "          (output): BertSelfOutput(\n",
            "            (dense): Linear(in_features=512, out_features=512, bias=True)\n",
            "            (LayerNorm): LayerNorm((512,), eps=1e-12, elementwise_affine=True)\n",
            "            (dropout): Dropout(p=0.1, inplace=False)\n",
            "          )\n",
            "        )\n",
            "        (intermediate): BertIntermediate(\n",
            "          (dense): Linear(in_features=512, out_features=2048, bias=True)\n",
            "          (intermediate_act_fn): GELUActivation()\n",
            "        )\n",
            "        (output): BertOutput(\n",
            "          (dense): Linear(in_features=2048, out_features=512, bias=True)\n",
            "          (LayerNorm): LayerNorm((512,), eps=1e-12, elementwise_affine=True)\n",
            "          (dropout): Dropout(p=0.1, inplace=False)\n",
            "        )\n",
            "      )\n",
            "      (2): BertLayer(\n",
            "        (attention): BertAttention(\n",
            "          (self): BertSelfAttention(\n",
            "            (query): Linear(in_features=512, out_features=512, bias=True)\n",
            "            (key): Linear(in_features=512, out_features=512, bias=True)\n",
            "            (value): Linear(in_features=512, out_features=512, bias=True)\n",
            "            (dropout): Dropout(p=0.1, inplace=False)\n",
            "          )\n",
            "          (output): BertSelfOutput(\n",
            "            (dense): Linear(in_features=512, out_features=512, bias=True)\n",
            "            (LayerNorm): LayerNorm((512,), eps=1e-12, elementwise_affine=True)\n",
            "            (dropout): Dropout(p=0.1, inplace=False)\n",
            "          )\n",
            "        )\n",
            "        (intermediate): BertIntermediate(\n",
            "          (dense): Linear(in_features=512, out_features=2048, bias=True)\n",
            "          (intermediate_act_fn): GELUActivation()\n",
            "        )\n",
            "        (output): BertOutput(\n",
            "          (dense): Linear(in_features=2048, out_features=512, bias=True)\n",
            "          (LayerNorm): LayerNorm((512,), eps=1e-12, elementwise_affine=True)\n",
            "          (dropout): Dropout(p=0.1, inplace=False)\n",
            "        )\n",
            "      )\n",
            "      (3): BertLayer(\n",
            "        (attention): BertAttention(\n",
            "          (self): BertSelfAttention(\n",
            "            (query): Linear(in_features=512, out_features=512, bias=True)\n",
            "            (key): Linear(in_features=512, out_features=512, bias=True)\n",
            "            (value): Linear(in_features=512, out_features=512, bias=True)\n",
            "            (dropout): Dropout(p=0.1, inplace=False)\n",
            "          )\n",
            "          (output): BertSelfOutput(\n",
            "            (dense): Linear(in_features=512, out_features=512, bias=True)\n",
            "            (LayerNorm): LayerNorm((512,), eps=1e-12, elementwise_affine=True)\n",
            "            (dropout): Dropout(p=0.1, inplace=False)\n",
            "          )\n",
            "        )\n",
            "        (intermediate): BertIntermediate(\n",
            "          (dense): Linear(in_features=512, out_features=2048, bias=True)\n",
            "          (intermediate_act_fn): GELUActivation()\n",
            "        )\n",
            "        (output): BertOutput(\n",
            "          (dense): Linear(in_features=2048, out_features=512, bias=True)\n",
            "          (LayerNorm): LayerNorm((512,), eps=1e-12, elementwise_affine=True)\n",
            "          (dropout): Dropout(p=0.1, inplace=False)\n",
            "        )\n",
            "      )\n",
            "    )\n",
            "  )\n",
            "  (pooler): BertPooler(\n",
            "    (dense): Linear(in_features=512, out_features=512, bias=True)\n",
            "    (activation): Tanh()\n",
            "  )\n",
            ")\n"
          ]
        }
      ]
    },
    {
      "cell_type": "code",
      "source": [
        "def attnSummerizerForgetGRUGenerator(encoder, decoder, tokenizer, startingword, src, segs, MAX_LEN = 30):\n",
        "\n",
        "  \n",
        "  decoder.eval()\n",
        "  actual = []\n",
        "  predicted = []\n",
        "  padded_art = pad_art(src).squeeze(1)\n",
        "  seg_art = pad_seg(segs).squeeze(1)\n",
        "  mask_art = mask(padded_art).squeeze(1)\n",
        "  \n",
        "  \n",
        "  encoder_ = None\n",
        "  input_ = None\n",
        "  with torch.no_grad():\n",
        "    encoder_ =  encoder( input_ids = padded_art.to(device),\n",
        "                              attention_mask = mask_art.to(device),\n",
        "                              token_type_ids = seg_art.to(device))\n",
        "    start_tensor = torch.tensor([[starting_word]]).repeat(1,1).to(device)\n",
        "    input_ = encoder(start_tensor)['pooler_output']\n",
        "    del start_tensor\n",
        "  \n",
        "  encoder_output = encoder_['pooler_output']\n",
        "  encoder_hidden = encoder_['last_hidden_state']    \n",
        "  summ_ = torch.empty((1, 0)).to(device)\n",
        "  prev_hidden = decoder.initHidden(1)\n",
        "    \n",
        "\n",
        "  for di in range(1,MAX_LEN):\n",
        "        out, prev_hidden, encoder_output = decoder(input_, prev_hidden, encoder_output)\n",
        "        del input_\n",
        "        next = out.max(-1)[1]\n",
        "        summ_ = torch.cat((summ_,next),1)\n",
        "        with torch.no_grad():\n",
        "              input_ = encoder(next)['pooler_output']\n",
        " \n",
        "  predicted.extend(tokenizer.batch_decode(summ_))\n",
        "  \n",
        "  return predicted"
      ],
      "metadata": {
        "id": "Uaa6l2WN3hNL"
      },
      "execution_count": null,
      "outputs": []
    },
    {
      "cell_type": "code",
      "source": [
        "art = 'This food tastes very bad. It smells too'\n",
        "summ = ''\n",
        "raw_article0, raw_summary0 = clean_message(art), clean_message(summ)\n",
        "rdt = RawDocTokenize()                                                                                        \n",
        "\n",
        "preprcessed1 = rdt.get_tokenized_output(raw_article0, raw_summary0, padding=False)\n",
        "\n",
        "clss = preprcessed1['clss']\n",
        "segs = preprcessed1['segs']\n",
        "src =preprcessed1['src']\n",
        "article = preprcessed1['article']\n",
        "tgt = preprcessed1['tgt']\n",
        "summary = preprcessed1['summary']\n",
        "attnSummerizerForgetGRUGenerator(encoder, decoder, tokenizer, starting_word, src, segs, MAX_LEN = 30)"
      ],
      "metadata": {
        "colab": {
          "base_uri": "https://localhost:8080/"
        },
        "id": "TQkMUAzj2oAH",
        "outputId": "7058ea1d-dfb2-4f66-c9d4-03b0f00df956"
      },
      "execution_count": null,
      "outputs": [
        {
          "output_type": "stream",
          "name": "stderr",
          "text": [
            "/usr/local/lib/python3.7/dist-packages/torch/nn/functional.py:1806: UserWarning: nn.functional.sigmoid is deprecated. Use torch.sigmoid instead.\n",
            "  warnings.warn(\"nn.functional.sigmoid is deprecated. Use torch.sigmoid instead.\")\n"
          ]
        },
        {
          "output_type": "execute_result",
          "data": {
            "text/plain": [
              "['not cat dog.. [unused1] [unused1] [unused1] [unused1] [unused1] [unused1] [unused1] [unused1] [unused1] [unused1] [unused1] [unused1] [unused1] [unused1] [unused1] [unused1] [unused1] [unused1] [unused1] [unused1] [unused1] [unused1] [unused1] [unused1]']"
            ]
          },
          "metadata": {},
          "execution_count": 453
        }
      ]
    },
    {
      "cell_type": "code",
      "source": [
        ""
      ],
      "metadata": {
        "id": "mIjBv83y3f8o"
      },
      "execution_count": null,
      "outputs": []
    }
  ],
  "metadata": {
    "kernelspec": {
      "display_name": "Python 3",
      "language": "python",
      "name": "python3"
    },
    "language_info": {
      "codemirror_mode": {
        "name": "ipython",
        "version": 3
      },
      "file_extension": ".py",
      "mimetype": "text/x-python",
      "name": "python",
      "nbconvert_exporter": "python",
      "pygments_lexer": "ipython3",
      "version": "3.6.10"
    },
    "colab": {
      "name": "Bert-RNNSummarizer.ipynb",
      "provenance": [],
      "collapsed_sections": [],
      "machine_shape": "hm"
    },
    "accelerator": "GPU",
    "widgets": {
      "application/vnd.jupyter.widget-state+json": {
        "97f92cb371d948208af6507e997a8daf": {
          "model_module": "@jupyter-widgets/controls",
          "model_name": "HBoxModel",
          "model_module_version": "1.5.0",
          "state": {
            "_dom_classes": [],
            "_model_module": "@jupyter-widgets/controls",
            "_model_module_version": "1.5.0",
            "_model_name": "HBoxModel",
            "_view_count": null,
            "_view_module": "@jupyter-widgets/controls",
            "_view_module_version": "1.5.0",
            "_view_name": "HBoxView",
            "box_style": "",
            "children": [
              "IPY_MODEL_4c1b91ca9aa24e73957eace01ae0d86b",
              "IPY_MODEL_4df3ec179671470fb7ae873d79e97d15",
              "IPY_MODEL_d749d124a94841fda46733002f55ccd6"
            ],
            "layout": "IPY_MODEL_85ed9bb9d20441db80cada72075e0f5b"
          }
        },
        "4c1b91ca9aa24e73957eace01ae0d86b": {
          "model_module": "@jupyter-widgets/controls",
          "model_name": "HTMLModel",
          "model_module_version": "1.5.0",
          "state": {
            "_dom_classes": [],
            "_model_module": "@jupyter-widgets/controls",
            "_model_module_version": "1.5.0",
            "_model_name": "HTMLModel",
            "_view_count": null,
            "_view_module": "@jupyter-widgets/controls",
            "_view_module_version": "1.5.0",
            "_view_name": "HTMLView",
            "description": "",
            "description_tooltip": null,
            "layout": "IPY_MODEL_13aee414e948459f9d304698df347c04",
            "placeholder": "​",
            "style": "IPY_MODEL_869f5cbcc2054bfba5623cc535bedd0e",
            "value": "Downloading: 100%"
          }
        },
        "4df3ec179671470fb7ae873d79e97d15": {
          "model_module": "@jupyter-widgets/controls",
          "model_name": "FloatProgressModel",
          "model_module_version": "1.5.0",
          "state": {
            "_dom_classes": [],
            "_model_module": "@jupyter-widgets/controls",
            "_model_module_version": "1.5.0",
            "_model_name": "FloatProgressModel",
            "_view_count": null,
            "_view_module": "@jupyter-widgets/controls",
            "_view_module_version": "1.5.0",
            "_view_name": "ProgressView",
            "bar_style": "success",
            "description": "",
            "description_tooltip": null,
            "layout": "IPY_MODEL_58eece3b14d94d07b8d4394fc9707354",
            "max": 383,
            "min": 0,
            "orientation": "horizontal",
            "style": "IPY_MODEL_b6bebdfdc6b6467cbb34f3ae90b03196",
            "value": 383
          }
        },
        "d749d124a94841fda46733002f55ccd6": {
          "model_module": "@jupyter-widgets/controls",
          "model_name": "HTMLModel",
          "model_module_version": "1.5.0",
          "state": {
            "_dom_classes": [],
            "_model_module": "@jupyter-widgets/controls",
            "_model_module_version": "1.5.0",
            "_model_name": "HTMLModel",
            "_view_count": null,
            "_view_module": "@jupyter-widgets/controls",
            "_view_module_version": "1.5.0",
            "_view_name": "HTMLView",
            "description": "",
            "description_tooltip": null,
            "layout": "IPY_MODEL_1cbfc9501d70491f9e6ea0f610f07bc9",
            "placeholder": "​",
            "style": "IPY_MODEL_c1c5e2dca526408abf1d2dffd39ea63c",
            "value": " 383/383 [00:00&lt;00:00, 15.8kB/s]"
          }
        },
        "85ed9bb9d20441db80cada72075e0f5b": {
          "model_module": "@jupyter-widgets/base",
          "model_name": "LayoutModel",
          "model_module_version": "1.2.0",
          "state": {
            "_model_module": "@jupyter-widgets/base",
            "_model_module_version": "1.2.0",
            "_model_name": "LayoutModel",
            "_view_count": null,
            "_view_module": "@jupyter-widgets/base",
            "_view_module_version": "1.2.0",
            "_view_name": "LayoutView",
            "align_content": null,
            "align_items": null,
            "align_self": null,
            "border": null,
            "bottom": null,
            "display": null,
            "flex": null,
            "flex_flow": null,
            "grid_area": null,
            "grid_auto_columns": null,
            "grid_auto_flow": null,
            "grid_auto_rows": null,
            "grid_column": null,
            "grid_gap": null,
            "grid_row": null,
            "grid_template_areas": null,
            "grid_template_columns": null,
            "grid_template_rows": null,
            "height": null,
            "justify_content": null,
            "justify_items": null,
            "left": null,
            "margin": null,
            "max_height": null,
            "max_width": null,
            "min_height": null,
            "min_width": null,
            "object_fit": null,
            "object_position": null,
            "order": null,
            "overflow": null,
            "overflow_x": null,
            "overflow_y": null,
            "padding": null,
            "right": null,
            "top": null,
            "visibility": null,
            "width": null
          }
        },
        "13aee414e948459f9d304698df347c04": {
          "model_module": "@jupyter-widgets/base",
          "model_name": "LayoutModel",
          "model_module_version": "1.2.0",
          "state": {
            "_model_module": "@jupyter-widgets/base",
            "_model_module_version": "1.2.0",
            "_model_name": "LayoutModel",
            "_view_count": null,
            "_view_module": "@jupyter-widgets/base",
            "_view_module_version": "1.2.0",
            "_view_name": "LayoutView",
            "align_content": null,
            "align_items": null,
            "align_self": null,
            "border": null,
            "bottom": null,
            "display": null,
            "flex": null,
            "flex_flow": null,
            "grid_area": null,
            "grid_auto_columns": null,
            "grid_auto_flow": null,
            "grid_auto_rows": null,
            "grid_column": null,
            "grid_gap": null,
            "grid_row": null,
            "grid_template_areas": null,
            "grid_template_columns": null,
            "grid_template_rows": null,
            "height": null,
            "justify_content": null,
            "justify_items": null,
            "left": null,
            "margin": null,
            "max_height": null,
            "max_width": null,
            "min_height": null,
            "min_width": null,
            "object_fit": null,
            "object_position": null,
            "order": null,
            "overflow": null,
            "overflow_x": null,
            "overflow_y": null,
            "padding": null,
            "right": null,
            "top": null,
            "visibility": null,
            "width": null
          }
        },
        "869f5cbcc2054bfba5623cc535bedd0e": {
          "model_module": "@jupyter-widgets/controls",
          "model_name": "DescriptionStyleModel",
          "model_module_version": "1.5.0",
          "state": {
            "_model_module": "@jupyter-widgets/controls",
            "_model_module_version": "1.5.0",
            "_model_name": "DescriptionStyleModel",
            "_view_count": null,
            "_view_module": "@jupyter-widgets/base",
            "_view_module_version": "1.2.0",
            "_view_name": "StyleView",
            "description_width": ""
          }
        },
        "58eece3b14d94d07b8d4394fc9707354": {
          "model_module": "@jupyter-widgets/base",
          "model_name": "LayoutModel",
          "model_module_version": "1.2.0",
          "state": {
            "_model_module": "@jupyter-widgets/base",
            "_model_module_version": "1.2.0",
            "_model_name": "LayoutModel",
            "_view_count": null,
            "_view_module": "@jupyter-widgets/base",
            "_view_module_version": "1.2.0",
            "_view_name": "LayoutView",
            "align_content": null,
            "align_items": null,
            "align_self": null,
            "border": null,
            "bottom": null,
            "display": null,
            "flex": null,
            "flex_flow": null,
            "grid_area": null,
            "grid_auto_columns": null,
            "grid_auto_flow": null,
            "grid_auto_rows": null,
            "grid_column": null,
            "grid_gap": null,
            "grid_row": null,
            "grid_template_areas": null,
            "grid_template_columns": null,
            "grid_template_rows": null,
            "height": null,
            "justify_content": null,
            "justify_items": null,
            "left": null,
            "margin": null,
            "max_height": null,
            "max_width": null,
            "min_height": null,
            "min_width": null,
            "object_fit": null,
            "object_position": null,
            "order": null,
            "overflow": null,
            "overflow_x": null,
            "overflow_y": null,
            "padding": null,
            "right": null,
            "top": null,
            "visibility": null,
            "width": null
          }
        },
        "b6bebdfdc6b6467cbb34f3ae90b03196": {
          "model_module": "@jupyter-widgets/controls",
          "model_name": "ProgressStyleModel",
          "model_module_version": "1.5.0",
          "state": {
            "_model_module": "@jupyter-widgets/controls",
            "_model_module_version": "1.5.0",
            "_model_name": "ProgressStyleModel",
            "_view_count": null,
            "_view_module": "@jupyter-widgets/base",
            "_view_module_version": "1.2.0",
            "_view_name": "StyleView",
            "bar_color": null,
            "description_width": ""
          }
        },
        "1cbfc9501d70491f9e6ea0f610f07bc9": {
          "model_module": "@jupyter-widgets/base",
          "model_name": "LayoutModel",
          "model_module_version": "1.2.0",
          "state": {
            "_model_module": "@jupyter-widgets/base",
            "_model_module_version": "1.2.0",
            "_model_name": "LayoutModel",
            "_view_count": null,
            "_view_module": "@jupyter-widgets/base",
            "_view_module_version": "1.2.0",
            "_view_name": "LayoutView",
            "align_content": null,
            "align_items": null,
            "align_self": null,
            "border": null,
            "bottom": null,
            "display": null,
            "flex": null,
            "flex_flow": null,
            "grid_area": null,
            "grid_auto_columns": null,
            "grid_auto_flow": null,
            "grid_auto_rows": null,
            "grid_column": null,
            "grid_gap": null,
            "grid_row": null,
            "grid_template_areas": null,
            "grid_template_columns": null,
            "grid_template_rows": null,
            "height": null,
            "justify_content": null,
            "justify_items": null,
            "left": null,
            "margin": null,
            "max_height": null,
            "max_width": null,
            "min_height": null,
            "min_width": null,
            "object_fit": null,
            "object_position": null,
            "order": null,
            "overflow": null,
            "overflow_x": null,
            "overflow_y": null,
            "padding": null,
            "right": null,
            "top": null,
            "visibility": null,
            "width": null
          }
        },
        "c1c5e2dca526408abf1d2dffd39ea63c": {
          "model_module": "@jupyter-widgets/controls",
          "model_name": "DescriptionStyleModel",
          "model_module_version": "1.5.0",
          "state": {
            "_model_module": "@jupyter-widgets/controls",
            "_model_module_version": "1.5.0",
            "_model_name": "DescriptionStyleModel",
            "_view_count": null,
            "_view_module": "@jupyter-widgets/base",
            "_view_module_version": "1.2.0",
            "_view_name": "StyleView",
            "description_width": ""
          }
        },
        "95914d6e2dc8419795f10c8d03bcbdf8": {
          "model_module": "@jupyter-widgets/controls",
          "model_name": "HBoxModel",
          "model_module_version": "1.5.0",
          "state": {
            "_dom_classes": [],
            "_model_module": "@jupyter-widgets/controls",
            "_model_module_version": "1.5.0",
            "_model_name": "HBoxModel",
            "_view_count": null,
            "_view_module": "@jupyter-widgets/controls",
            "_view_module_version": "1.5.0",
            "_view_name": "HBoxView",
            "box_style": "",
            "children": [
              "IPY_MODEL_cc054c1b45d64e8a9182a29773cf83f4",
              "IPY_MODEL_11f9a4dc037e455983d7cd07db97efed",
              "IPY_MODEL_d8a50c6b94154821baf13ccca2d8946e"
            ],
            "layout": "IPY_MODEL_2940dbd5205649d49a04cb120c931daf"
          }
        },
        "cc054c1b45d64e8a9182a29773cf83f4": {
          "model_module": "@jupyter-widgets/controls",
          "model_name": "HTMLModel",
          "model_module_version": "1.5.0",
          "state": {
            "_dom_classes": [],
            "_model_module": "@jupyter-widgets/controls",
            "_model_module_version": "1.5.0",
            "_model_name": "HTMLModel",
            "_view_count": null,
            "_view_module": "@jupyter-widgets/controls",
            "_view_module_version": "1.5.0",
            "_view_name": "HTMLView",
            "description": "",
            "description_tooltip": null,
            "layout": "IPY_MODEL_e111563baeb1412c9317c1ecaec27a7c",
            "placeholder": "​",
            "style": "IPY_MODEL_8e62bfec1949484fb3122f36d88abb4b",
            "value": "Downloading: 100%"
          }
        },
        "11f9a4dc037e455983d7cd07db97efed": {
          "model_module": "@jupyter-widgets/controls",
          "model_name": "FloatProgressModel",
          "model_module_version": "1.5.0",
          "state": {
            "_dom_classes": [],
            "_model_module": "@jupyter-widgets/controls",
            "_model_module_version": "1.5.0",
            "_model_name": "FloatProgressModel",
            "_view_count": null,
            "_view_module": "@jupyter-widgets/controls",
            "_view_module_version": "1.5.0",
            "_view_name": "ProgressView",
            "bar_style": "success",
            "description": "",
            "description_tooltip": null,
            "layout": "IPY_MODEL_3de3b568472d4434bfd555cade18f317",
            "max": 116252865,
            "min": 0,
            "orientation": "horizontal",
            "style": "IPY_MODEL_819bab75b64b4ea2bb74bc74cc6034b0",
            "value": 116252865
          }
        },
        "d8a50c6b94154821baf13ccca2d8946e": {
          "model_module": "@jupyter-widgets/controls",
          "model_name": "HTMLModel",
          "model_module_version": "1.5.0",
          "state": {
            "_dom_classes": [],
            "_model_module": "@jupyter-widgets/controls",
            "_model_module_version": "1.5.0",
            "_model_name": "HTMLModel",
            "_view_count": null,
            "_view_module": "@jupyter-widgets/controls",
            "_view_module_version": "1.5.0",
            "_view_name": "HTMLView",
            "description": "",
            "description_tooltip": null,
            "layout": "IPY_MODEL_de5b4eb8716a483baddb72e10656c190",
            "placeholder": "​",
            "style": "IPY_MODEL_7ad6abe4ebfe4d9fa0bd264aebc45175",
            "value": " 111M/111M [00:02&lt;00:00, 55.5MB/s]"
          }
        },
        "2940dbd5205649d49a04cb120c931daf": {
          "model_module": "@jupyter-widgets/base",
          "model_name": "LayoutModel",
          "model_module_version": "1.2.0",
          "state": {
            "_model_module": "@jupyter-widgets/base",
            "_model_module_version": "1.2.0",
            "_model_name": "LayoutModel",
            "_view_count": null,
            "_view_module": "@jupyter-widgets/base",
            "_view_module_version": "1.2.0",
            "_view_name": "LayoutView",
            "align_content": null,
            "align_items": null,
            "align_self": null,
            "border": null,
            "bottom": null,
            "display": null,
            "flex": null,
            "flex_flow": null,
            "grid_area": null,
            "grid_auto_columns": null,
            "grid_auto_flow": null,
            "grid_auto_rows": null,
            "grid_column": null,
            "grid_gap": null,
            "grid_row": null,
            "grid_template_areas": null,
            "grid_template_columns": null,
            "grid_template_rows": null,
            "height": null,
            "justify_content": null,
            "justify_items": null,
            "left": null,
            "margin": null,
            "max_height": null,
            "max_width": null,
            "min_height": null,
            "min_width": null,
            "object_fit": null,
            "object_position": null,
            "order": null,
            "overflow": null,
            "overflow_x": null,
            "overflow_y": null,
            "padding": null,
            "right": null,
            "top": null,
            "visibility": null,
            "width": null
          }
        },
        "e111563baeb1412c9317c1ecaec27a7c": {
          "model_module": "@jupyter-widgets/base",
          "model_name": "LayoutModel",
          "model_module_version": "1.2.0",
          "state": {
            "_model_module": "@jupyter-widgets/base",
            "_model_module_version": "1.2.0",
            "_model_name": "LayoutModel",
            "_view_count": null,
            "_view_module": "@jupyter-widgets/base",
            "_view_module_version": "1.2.0",
            "_view_name": "LayoutView",
            "align_content": null,
            "align_items": null,
            "align_self": null,
            "border": null,
            "bottom": null,
            "display": null,
            "flex": null,
            "flex_flow": null,
            "grid_area": null,
            "grid_auto_columns": null,
            "grid_auto_flow": null,
            "grid_auto_rows": null,
            "grid_column": null,
            "grid_gap": null,
            "grid_row": null,
            "grid_template_areas": null,
            "grid_template_columns": null,
            "grid_template_rows": null,
            "height": null,
            "justify_content": null,
            "justify_items": null,
            "left": null,
            "margin": null,
            "max_height": null,
            "max_width": null,
            "min_height": null,
            "min_width": null,
            "object_fit": null,
            "object_position": null,
            "order": null,
            "overflow": null,
            "overflow_x": null,
            "overflow_y": null,
            "padding": null,
            "right": null,
            "top": null,
            "visibility": null,
            "width": null
          }
        },
        "8e62bfec1949484fb3122f36d88abb4b": {
          "model_module": "@jupyter-widgets/controls",
          "model_name": "DescriptionStyleModel",
          "model_module_version": "1.5.0",
          "state": {
            "_model_module": "@jupyter-widgets/controls",
            "_model_module_version": "1.5.0",
            "_model_name": "DescriptionStyleModel",
            "_view_count": null,
            "_view_module": "@jupyter-widgets/base",
            "_view_module_version": "1.2.0",
            "_view_name": "StyleView",
            "description_width": ""
          }
        },
        "3de3b568472d4434bfd555cade18f317": {
          "model_module": "@jupyter-widgets/base",
          "model_name": "LayoutModel",
          "model_module_version": "1.2.0",
          "state": {
            "_model_module": "@jupyter-widgets/base",
            "_model_module_version": "1.2.0",
            "_model_name": "LayoutModel",
            "_view_count": null,
            "_view_module": "@jupyter-widgets/base",
            "_view_module_version": "1.2.0",
            "_view_name": "LayoutView",
            "align_content": null,
            "align_items": null,
            "align_self": null,
            "border": null,
            "bottom": null,
            "display": null,
            "flex": null,
            "flex_flow": null,
            "grid_area": null,
            "grid_auto_columns": null,
            "grid_auto_flow": null,
            "grid_auto_rows": null,
            "grid_column": null,
            "grid_gap": null,
            "grid_row": null,
            "grid_template_areas": null,
            "grid_template_columns": null,
            "grid_template_rows": null,
            "height": null,
            "justify_content": null,
            "justify_items": null,
            "left": null,
            "margin": null,
            "max_height": null,
            "max_width": null,
            "min_height": null,
            "min_width": null,
            "object_fit": null,
            "object_position": null,
            "order": null,
            "overflow": null,
            "overflow_x": null,
            "overflow_y": null,
            "padding": null,
            "right": null,
            "top": null,
            "visibility": null,
            "width": null
          }
        },
        "819bab75b64b4ea2bb74bc74cc6034b0": {
          "model_module": "@jupyter-widgets/controls",
          "model_name": "ProgressStyleModel",
          "model_module_version": "1.5.0",
          "state": {
            "_model_module": "@jupyter-widgets/controls",
            "_model_module_version": "1.5.0",
            "_model_name": "ProgressStyleModel",
            "_view_count": null,
            "_view_module": "@jupyter-widgets/base",
            "_view_module_version": "1.2.0",
            "_view_name": "StyleView",
            "bar_color": null,
            "description_width": ""
          }
        },
        "de5b4eb8716a483baddb72e10656c190": {
          "model_module": "@jupyter-widgets/base",
          "model_name": "LayoutModel",
          "model_module_version": "1.2.0",
          "state": {
            "_model_module": "@jupyter-widgets/base",
            "_model_module_version": "1.2.0",
            "_model_name": "LayoutModel",
            "_view_count": null,
            "_view_module": "@jupyter-widgets/base",
            "_view_module_version": "1.2.0",
            "_view_name": "LayoutView",
            "align_content": null,
            "align_items": null,
            "align_self": null,
            "border": null,
            "bottom": null,
            "display": null,
            "flex": null,
            "flex_flow": null,
            "grid_area": null,
            "grid_auto_columns": null,
            "grid_auto_flow": null,
            "grid_auto_rows": null,
            "grid_column": null,
            "grid_gap": null,
            "grid_row": null,
            "grid_template_areas": null,
            "grid_template_columns": null,
            "grid_template_rows": null,
            "height": null,
            "justify_content": null,
            "justify_items": null,
            "left": null,
            "margin": null,
            "max_height": null,
            "max_width": null,
            "min_height": null,
            "min_width": null,
            "object_fit": null,
            "object_position": null,
            "order": null,
            "overflow": null,
            "overflow_x": null,
            "overflow_y": null,
            "padding": null,
            "right": null,
            "top": null,
            "visibility": null,
            "width": null
          }
        },
        "7ad6abe4ebfe4d9fa0bd264aebc45175": {
          "model_module": "@jupyter-widgets/controls",
          "model_name": "DescriptionStyleModel",
          "model_module_version": "1.5.0",
          "state": {
            "_model_module": "@jupyter-widgets/controls",
            "_model_module_version": "1.5.0",
            "_model_name": "DescriptionStyleModel",
            "_view_count": null,
            "_view_module": "@jupyter-widgets/base",
            "_view_module_version": "1.2.0",
            "_view_name": "StyleView",
            "description_width": ""
          }
        },
        "1b448ad3729647e3a493bc702d585ad8": {
          "model_module": "@jupyter-widgets/controls",
          "model_name": "HBoxModel",
          "model_module_version": "1.5.0",
          "state": {
            "_dom_classes": [],
            "_model_module": "@jupyter-widgets/controls",
            "_model_module_version": "1.5.0",
            "_model_name": "HBoxModel",
            "_view_count": null,
            "_view_module": "@jupyter-widgets/controls",
            "_view_module_version": "1.5.0",
            "_view_name": "HBoxView",
            "box_style": "",
            "children": [
              "IPY_MODEL_83ef762762c849fdbe8a9fc413a1bc3d",
              "IPY_MODEL_151409da60274c7e9843f3bb3128d363",
              "IPY_MODEL_cf07d50b66824526804a9b75b8c205fc"
            ],
            "layout": "IPY_MODEL_3b164c9737014e048a68bfe3c8af0a67"
          }
        },
        "83ef762762c849fdbe8a9fc413a1bc3d": {
          "model_module": "@jupyter-widgets/controls",
          "model_name": "HTMLModel",
          "model_module_version": "1.5.0",
          "state": {
            "_dom_classes": [],
            "_model_module": "@jupyter-widgets/controls",
            "_model_module_version": "1.5.0",
            "_model_name": "HTMLModel",
            "_view_count": null,
            "_view_module": "@jupyter-widgets/controls",
            "_view_module_version": "1.5.0",
            "_view_name": "HTMLView",
            "description": "",
            "description_tooltip": null,
            "layout": "IPY_MODEL_6af36fd6f4af4e2bb4e649ab8df9677d",
            "placeholder": "​",
            "style": "IPY_MODEL_c8ab73ff2ae54b048c02977412eaffdb",
            "value": "Downloading: 100%"
          }
        },
        "151409da60274c7e9843f3bb3128d363": {
          "model_module": "@jupyter-widgets/controls",
          "model_name": "FloatProgressModel",
          "model_module_version": "1.5.0",
          "state": {
            "_dom_classes": [],
            "_model_module": "@jupyter-widgets/controls",
            "_model_module_version": "1.5.0",
            "_model_name": "FloatProgressModel",
            "_view_count": null,
            "_view_module": "@jupyter-widgets/controls",
            "_view_module_version": "1.5.0",
            "_view_name": "ProgressView",
            "bar_style": "success",
            "description": "",
            "description_tooltip": null,
            "layout": "IPY_MODEL_b6010d400fd240fbb60301959879d03d",
            "max": 231508,
            "min": 0,
            "orientation": "horizontal",
            "style": "IPY_MODEL_1c669b66737a446fad9950271ad0504b",
            "value": 231508
          }
        },
        "cf07d50b66824526804a9b75b8c205fc": {
          "model_module": "@jupyter-widgets/controls",
          "model_name": "HTMLModel",
          "model_module_version": "1.5.0",
          "state": {
            "_dom_classes": [],
            "_model_module": "@jupyter-widgets/controls",
            "_model_module_version": "1.5.0",
            "_model_name": "HTMLModel",
            "_view_count": null,
            "_view_module": "@jupyter-widgets/controls",
            "_view_module_version": "1.5.0",
            "_view_name": "HTMLView",
            "description": "",
            "description_tooltip": null,
            "layout": "IPY_MODEL_2a976ae33f7a4bab841bf437b8b0972c",
            "placeholder": "​",
            "style": "IPY_MODEL_b049c252c07346d093c3da95bed4f4be",
            "value": " 226k/226k [00:00&lt;00:00, 829kB/s]"
          }
        },
        "3b164c9737014e048a68bfe3c8af0a67": {
          "model_module": "@jupyter-widgets/base",
          "model_name": "LayoutModel",
          "model_module_version": "1.2.0",
          "state": {
            "_model_module": "@jupyter-widgets/base",
            "_model_module_version": "1.2.0",
            "_model_name": "LayoutModel",
            "_view_count": null,
            "_view_module": "@jupyter-widgets/base",
            "_view_module_version": "1.2.0",
            "_view_name": "LayoutView",
            "align_content": null,
            "align_items": null,
            "align_self": null,
            "border": null,
            "bottom": null,
            "display": null,
            "flex": null,
            "flex_flow": null,
            "grid_area": null,
            "grid_auto_columns": null,
            "grid_auto_flow": null,
            "grid_auto_rows": null,
            "grid_column": null,
            "grid_gap": null,
            "grid_row": null,
            "grid_template_areas": null,
            "grid_template_columns": null,
            "grid_template_rows": null,
            "height": null,
            "justify_content": null,
            "justify_items": null,
            "left": null,
            "margin": null,
            "max_height": null,
            "max_width": null,
            "min_height": null,
            "min_width": null,
            "object_fit": null,
            "object_position": null,
            "order": null,
            "overflow": null,
            "overflow_x": null,
            "overflow_y": null,
            "padding": null,
            "right": null,
            "top": null,
            "visibility": null,
            "width": null
          }
        },
        "6af36fd6f4af4e2bb4e649ab8df9677d": {
          "model_module": "@jupyter-widgets/base",
          "model_name": "LayoutModel",
          "model_module_version": "1.2.0",
          "state": {
            "_model_module": "@jupyter-widgets/base",
            "_model_module_version": "1.2.0",
            "_model_name": "LayoutModel",
            "_view_count": null,
            "_view_module": "@jupyter-widgets/base",
            "_view_module_version": "1.2.0",
            "_view_name": "LayoutView",
            "align_content": null,
            "align_items": null,
            "align_self": null,
            "border": null,
            "bottom": null,
            "display": null,
            "flex": null,
            "flex_flow": null,
            "grid_area": null,
            "grid_auto_columns": null,
            "grid_auto_flow": null,
            "grid_auto_rows": null,
            "grid_column": null,
            "grid_gap": null,
            "grid_row": null,
            "grid_template_areas": null,
            "grid_template_columns": null,
            "grid_template_rows": null,
            "height": null,
            "justify_content": null,
            "justify_items": null,
            "left": null,
            "margin": null,
            "max_height": null,
            "max_width": null,
            "min_height": null,
            "min_width": null,
            "object_fit": null,
            "object_position": null,
            "order": null,
            "overflow": null,
            "overflow_x": null,
            "overflow_y": null,
            "padding": null,
            "right": null,
            "top": null,
            "visibility": null,
            "width": null
          }
        },
        "c8ab73ff2ae54b048c02977412eaffdb": {
          "model_module": "@jupyter-widgets/controls",
          "model_name": "DescriptionStyleModel",
          "model_module_version": "1.5.0",
          "state": {
            "_model_module": "@jupyter-widgets/controls",
            "_model_module_version": "1.5.0",
            "_model_name": "DescriptionStyleModel",
            "_view_count": null,
            "_view_module": "@jupyter-widgets/base",
            "_view_module_version": "1.2.0",
            "_view_name": "StyleView",
            "description_width": ""
          }
        },
        "b6010d400fd240fbb60301959879d03d": {
          "model_module": "@jupyter-widgets/base",
          "model_name": "LayoutModel",
          "model_module_version": "1.2.0",
          "state": {
            "_model_module": "@jupyter-widgets/base",
            "_model_module_version": "1.2.0",
            "_model_name": "LayoutModel",
            "_view_count": null,
            "_view_module": "@jupyter-widgets/base",
            "_view_module_version": "1.2.0",
            "_view_name": "LayoutView",
            "align_content": null,
            "align_items": null,
            "align_self": null,
            "border": null,
            "bottom": null,
            "display": null,
            "flex": null,
            "flex_flow": null,
            "grid_area": null,
            "grid_auto_columns": null,
            "grid_auto_flow": null,
            "grid_auto_rows": null,
            "grid_column": null,
            "grid_gap": null,
            "grid_row": null,
            "grid_template_areas": null,
            "grid_template_columns": null,
            "grid_template_rows": null,
            "height": null,
            "justify_content": null,
            "justify_items": null,
            "left": null,
            "margin": null,
            "max_height": null,
            "max_width": null,
            "min_height": null,
            "min_width": null,
            "object_fit": null,
            "object_position": null,
            "order": null,
            "overflow": null,
            "overflow_x": null,
            "overflow_y": null,
            "padding": null,
            "right": null,
            "top": null,
            "visibility": null,
            "width": null
          }
        },
        "1c669b66737a446fad9950271ad0504b": {
          "model_module": "@jupyter-widgets/controls",
          "model_name": "ProgressStyleModel",
          "model_module_version": "1.5.0",
          "state": {
            "_model_module": "@jupyter-widgets/controls",
            "_model_module_version": "1.5.0",
            "_model_name": "ProgressStyleModel",
            "_view_count": null,
            "_view_module": "@jupyter-widgets/base",
            "_view_module_version": "1.2.0",
            "_view_name": "StyleView",
            "bar_color": null,
            "description_width": ""
          }
        },
        "2a976ae33f7a4bab841bf437b8b0972c": {
          "model_module": "@jupyter-widgets/base",
          "model_name": "LayoutModel",
          "model_module_version": "1.2.0",
          "state": {
            "_model_module": "@jupyter-widgets/base",
            "_model_module_version": "1.2.0",
            "_model_name": "LayoutModel",
            "_view_count": null,
            "_view_module": "@jupyter-widgets/base",
            "_view_module_version": "1.2.0",
            "_view_name": "LayoutView",
            "align_content": null,
            "align_items": null,
            "align_self": null,
            "border": null,
            "bottom": null,
            "display": null,
            "flex": null,
            "flex_flow": null,
            "grid_area": null,
            "grid_auto_columns": null,
            "grid_auto_flow": null,
            "grid_auto_rows": null,
            "grid_column": null,
            "grid_gap": null,
            "grid_row": null,
            "grid_template_areas": null,
            "grid_template_columns": null,
            "grid_template_rows": null,
            "height": null,
            "justify_content": null,
            "justify_items": null,
            "left": null,
            "margin": null,
            "max_height": null,
            "max_width": null,
            "min_height": null,
            "min_width": null,
            "object_fit": null,
            "object_position": null,
            "order": null,
            "overflow": null,
            "overflow_x": null,
            "overflow_y": null,
            "padding": null,
            "right": null,
            "top": null,
            "visibility": null,
            "width": null
          }
        },
        "b049c252c07346d093c3da95bed4f4be": {
          "model_module": "@jupyter-widgets/controls",
          "model_name": "DescriptionStyleModel",
          "model_module_version": "1.5.0",
          "state": {
            "_model_module": "@jupyter-widgets/controls",
            "_model_module_version": "1.5.0",
            "_model_name": "DescriptionStyleModel",
            "_view_count": null,
            "_view_module": "@jupyter-widgets/base",
            "_view_module_version": "1.2.0",
            "_view_name": "StyleView",
            "description_width": ""
          }
        }
      }
    }
  },
  "nbformat": 4,
  "nbformat_minor": 0
}